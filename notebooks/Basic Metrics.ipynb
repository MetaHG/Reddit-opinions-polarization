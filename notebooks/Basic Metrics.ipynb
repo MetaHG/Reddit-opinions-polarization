{
 "cells": [
  {
   "cell_type": "code",
   "execution_count": 1,
   "metadata": {},
   "outputs": [],
   "source": [
    "import pandas as pd\n",
    "import numpy as np\n",
    "import scipy as sp\n",
    "import seaborn as sns\n",
    "import datetime as dt\n",
    "import matplotlib\n",
    "import matplotlib.pyplot as plt\n",
    "%matplotlib inline\n",
    "\n",
    "import findspark\n",
    "findspark.init()\n",
    "\n",
    "import pyspark\n",
    "from pyspark.sql import *\n",
    "import pyspark.sql.functions as func\n",
    "from pyspark.sql.types import *"
   ]
  },
  {
   "cell_type": "code",
   "execution_count": 2,
   "metadata": {},
   "outputs": [],
   "source": [
    "spark = SparkSession.builder.getOrCreate()"
   ]
  },
  {
   "cell_type": "markdown",
   "metadata": {},
   "source": [
    "### Loading"
   ]
  },
  {
   "cell_type": "code",
   "execution_count": 3,
   "metadata": {},
   "outputs": [],
   "source": [
    "comments = spark.read.load('../data/sample.parquet')"
   ]
  },
  {
   "cell_type": "code",
   "execution_count": 4,
   "metadata": {
    "scrolled": false
   },
   "outputs": [
    {
     "data": {
      "text/html": [
       "<div>\n",
       "<style scoped>\n",
       "    .dataframe tbody tr th:only-of-type {\n",
       "        vertical-align: middle;\n",
       "    }\n",
       "\n",
       "    .dataframe tbody tr th {\n",
       "        vertical-align: top;\n",
       "    }\n",
       "\n",
       "    .dataframe thead th {\n",
       "        text-align: right;\n",
       "    }\n",
       "</style>\n",
       "<table border=\"1\" class=\"dataframe\">\n",
       "  <thead>\n",
       "    <tr style=\"text-align: right;\">\n",
       "      <th></th>\n",
       "      <th>distinguished</th>\n",
       "      <th>retrieved_on</th>\n",
       "      <th>gilded</th>\n",
       "      <th>edited</th>\n",
       "      <th>id</th>\n",
       "      <th>parent_id</th>\n",
       "      <th>flair_text</th>\n",
       "      <th>author</th>\n",
       "      <th>score</th>\n",
       "      <th>ups</th>\n",
       "      <th>...</th>\n",
       "      <th>author_flair_context</th>\n",
       "      <th>flair_css_class</th>\n",
       "      <th>subreddit</th>\n",
       "      <th>subreddit_id</th>\n",
       "      <th>score_hidden</th>\n",
       "      <th>stickied</th>\n",
       "      <th>link_id</th>\n",
       "      <th>controversiality</th>\n",
       "      <th>body</th>\n",
       "      <th>archived</th>\n",
       "    </tr>\n",
       "  </thead>\n",
       "  <tbody>\n",
       "    <tr>\n",
       "      <th>0</th>\n",
       "      <td>None</td>\n",
       "      <td>1429291671</td>\n",
       "      <td>0</td>\n",
       "      <td>-1</td>\n",
       "      <td>c595rma</td>\n",
       "      <td>t1_c595qio</td>\n",
       "      <td>None</td>\n",
       "      <td>NoNeedForAName</td>\n",
       "      <td>1</td>\n",
       "      <td>1</td>\n",
       "      <td>...</td>\n",
       "      <td>None</td>\n",
       "      <td>None</td>\n",
       "      <td>law</td>\n",
       "      <td>t5_2qh9k</td>\n",
       "      <td>False</td>\n",
       "      <td>None</td>\n",
       "      <td>t3_vysbf</td>\n",
       "      <td>0</td>\n",
       "      <td>The fear that it's a \"grass is always greener\"...</td>\n",
       "      <td>True</td>\n",
       "    </tr>\n",
       "    <tr>\n",
       "      <th>1</th>\n",
       "      <td>None</td>\n",
       "      <td>1429291672</td>\n",
       "      <td>0</td>\n",
       "      <td>-1</td>\n",
       "      <td>c595rqe</td>\n",
       "      <td>t3_w0bkb</td>\n",
       "      <td>None</td>\n",
       "      <td>Duderino316</td>\n",
       "      <td>2</td>\n",
       "      <td>2</td>\n",
       "      <td>...</td>\n",
       "      <td>None</td>\n",
       "      <td>None</td>\n",
       "      <td>mexico</td>\n",
       "      <td>t5_2qhv7</td>\n",
       "      <td>False</td>\n",
       "      <td>None</td>\n",
       "      <td>t3_w0bkb</td>\n",
       "      <td>0</td>\n",
       "      <td>Upvote!</td>\n",
       "      <td>True</td>\n",
       "    </tr>\n",
       "    <tr>\n",
       "      <th>2</th>\n",
       "      <td>None</td>\n",
       "      <td>1429291676</td>\n",
       "      <td>0</td>\n",
       "      <td>-1</td>\n",
       "      <td>c595rwc</td>\n",
       "      <td>t1_c595gbw</td>\n",
       "      <td>None</td>\n",
       "      <td>emshlaf</td>\n",
       "      <td>2</td>\n",
       "      <td>2</td>\n",
       "      <td>...</td>\n",
       "      <td>None</td>\n",
       "      <td>None</td>\n",
       "      <td>WTF</td>\n",
       "      <td>t5_2qh61</td>\n",
       "      <td>False</td>\n",
       "      <td>None</td>\n",
       "      <td>t3_vzvlq</td>\n",
       "      <td>0</td>\n",
       "      <td>It's real, it's in New York City.</td>\n",
       "      <td>True</td>\n",
       "    </tr>\n",
       "  </tbody>\n",
       "</table>\n",
       "<p>3 rows × 24 columns</p>\n",
       "</div>"
      ],
      "text/plain": [
       "  distinguished retrieved_on  gilded  edited       id   parent_id flair_text  \\\n",
       "0          None   1429291671       0      -1  c595rma  t1_c595qio       None   \n",
       "1          None   1429291672       0      -1  c595rqe    t3_w0bkb       None   \n",
       "2          None   1429291676       0      -1  c595rwc  t1_c595gbw       None   \n",
       "\n",
       "           author  score  ups   ...     author_flair_context flair_css_class  \\\n",
       "0  NoNeedForAName      1    1   ...                     None            None   \n",
       "1     Duderino316      2    2   ...                     None            None   \n",
       "2         emshlaf      2    2   ...                     None            None   \n",
       "\n",
       "  subreddit subreddit_id score_hidden stickied   link_id controversiality  \\\n",
       "0       law     t5_2qh9k        False     None  t3_vysbf                0   \n",
       "1    mexico     t5_2qhv7        False     None  t3_w0bkb                0   \n",
       "2       WTF     t5_2qh61        False     None  t3_vzvlq                0   \n",
       "\n",
       "                                                body archived  \n",
       "0  The fear that it's a \"grass is always greener\"...     True  \n",
       "1                                            Upvote!     True  \n",
       "2                  It's real, it's in New York City.     True  \n",
       "\n",
       "[3 rows x 24 columns]"
      ]
     },
     "execution_count": 4,
     "metadata": {},
     "output_type": "execute_result"
    }
   ],
   "source": [
    "comments.limit(10).toPandas().head(3)"
   ]
  },
  {
   "cell_type": "markdown",
   "metadata": {},
   "source": [
    "### Cleaning & Preparation\n",
    "\n",
    "First, we parse the column `create_utc` into a real date."
   ]
  },
  {
   "cell_type": "code",
   "execution_count": 5,
   "metadata": {},
   "outputs": [],
   "source": [
    "comments = comments.withColumn('created', func.from_unixtime(comments['created_utc'], 'yyyy-MM-dd HH:mm:ss.SS').cast(DateType()))"
   ]
  },
  {
   "cell_type": "code",
   "execution_count": 6,
   "metadata": {},
   "outputs": [],
   "source": [
    "# comments = comments.limit(600000)\n",
    "comments.registerTempTable(\"comments\")"
   ]
  },
  {
   "cell_type": "markdown",
   "metadata": {},
   "source": [
    "### General Information"
   ]
  },
  {
   "cell_type": "markdown",
   "metadata": {},
   "source": [
    "##### Dataset"
   ]
  },
  {
   "cell_type": "code",
   "execution_count": 7,
   "metadata": {},
   "outputs": [
    {
     "name": "stdout",
     "output_type": "stream",
     "text": [
      "There is a total of 6181548 comments in the dataset.\n"
     ]
    }
   ],
   "source": [
    "print(\"There is a total of {} comments in the dataset.\".format(comments.count()))"
   ]
  },
  {
   "cell_type": "code",
   "execution_count": 8,
   "metadata": {},
   "outputs": [
    {
     "name": "stdout",
     "output_type": "stream",
     "text": [
      "The dataset starts on the 2005-12-12 and ends on the 2017-04-01.\n"
     ]
    }
   ],
   "source": [
    "dates_extrema = spark.sql(\"\"\"\n",
    "    SELECT MIN(created), MAX(created) FROM comments\n",
    "\"\"\").collect()\n",
    "\n",
    "earliest_date = dates_extrema[0][0]\n",
    "latest_date = dates_extrema[0][1]\n",
    "\n",
    "print(\"The dataset starts on the {} and ends on the {}.\".format(earliest_date, latest_date))"
   ]
  },
  {
   "cell_type": "markdown",
   "metadata": {},
   "source": [
    "##### Top-Level Comments\n",
    "\n",
    "It is possible to identify top-level comments easily by using the `parent_id` attribute. If the `parent_id` attribute starts with `t1_`, then it means that the parent is another message. If the `parent_id` attribute starts with `t3_`, then its parent is a post and therefore it is a top-level comment. Another possible technique is to use `link_id` which is the id of the related post. By checking wether `parent_id == link_id`. Since equality is faster to check than using the `LIKE` operator, we will use the later technique."
   ]
  },
  {
   "cell_type": "code",
   "execution_count": 9,
   "metadata": {},
   "outputs": [],
   "source": [
    "top_level_comments = spark.sql(\"\"\"\n",
    "    SELECT *\n",
    "    FROM comments\n",
    "    WHERE parent_id=link_id\n",
    "\"\"\")"
   ]
  },
  {
   "cell_type": "code",
   "execution_count": 10,
   "metadata": {},
   "outputs": [],
   "source": [
    "lower_level_comments = spark.sql(\"\"\"\n",
    "    SELECT *\n",
    "    FROM comments\n",
    "    WHERE parent_id!=link_id\n",
    "\"\"\")"
   ]
  },
  {
   "cell_type": "code",
   "execution_count": 11,
   "metadata": {},
   "outputs": [
    {
     "name": "stdout",
     "output_type": "stream",
     "text": [
      "There are 2447182 top-level comments and 3734366 lower level comments in this dataset.\n"
     ]
    }
   ],
   "source": [
    "print(\"There are {} top-level comments and {} lower level comments in this dataset.\".format(\n",
    "    top_level_comments.count(),\n",
    "    lower_level_comments.count()\n",
    "))"
   ]
  },
  {
   "cell_type": "markdown",
   "metadata": {},
   "source": [
    "Now, only seeing the immediate parent of a post is not practical. We would like to view all the parents and understand the depth of a comment."
   ]
  },
  {
   "cell_type": "code",
   "execution_count": 12,
   "metadata": {},
   "outputs": [],
   "source": [
    "comments_iter = comments.withColumn('depth', func.lit(0)).withColumn('parent_ids', func.lit(''))"
   ]
  },
  {
   "cell_type": "markdown",
   "metadata": {},
   "source": [
    "##### Posts\n",
    "\n",
    "Unfortunately, the dataset only contains comments and not posts. However, we still have some information on the posts, via the `link_id` attribute of the comments."
   ]
  },
  {
   "cell_type": "code",
   "execution_count": 13,
   "metadata": {},
   "outputs": [],
   "source": [
    "posts = spark.sql(\"\"\"\n",
    "    SELECT \n",
    "        link_id AS id,  \n",
    "        COUNT(*) AS count_of_comments, \n",
    "        FIRST(subreddit) AS subreddit,\n",
    "        FIRST(subreddit_id) AS subreddit_id,\n",
    "        MIN(created) AS created,\n",
    "        MIN(created_utc) AS created_utc,\n",
    "        COUNT(DISTINCT author) AS count_of_participants\n",
    "    FROM comments\n",
    "    GROUP BY link_id\n",
    "    SORT BY created\n",
    "\"\"\")"
   ]
  },
  {
   "cell_type": "code",
   "execution_count": 14,
   "metadata": {},
   "outputs": [],
   "source": [
    "posts.registerTempTable(\"posts\")"
   ]
  },
  {
   "cell_type": "markdown",
   "metadata": {},
   "source": [
    "Now, we can compute some more sophisticated metrics. For instance, what are the top 10 posts in terms of number of comments?"
   ]
  },
  {
   "cell_type": "code",
   "execution_count": 15,
   "metadata": {},
   "outputs": [
    {
     "name": "stdout",
     "output_type": "stream",
     "text": [
      "+---------+-----------------+-----------------+------------+----------+-----------+---------------------+\n",
      "|       id|count_of_comments|        subreddit|subreddit_id|   created|created_utc|count_of_participants|\n",
      "+---------+-----------------+-----------------+------------+----------+-----------+---------------------+\n",
      "| t3_d14xg|              739|             blog|    t5_2qh49|2010-08-15| 1281844107|                   23|\n",
      "|t3_28sluw|              284|  jerktalkdiamond|    t5_2w9v1|2014-06-22| 1403447424|                    8|\n",
      "|t3_2q36z6|              263|millionairemakers|    t5_34njs|2014-12-22| 1419273623|                  244|\n",
      "|t3_60bql0|              236|          xboxone|    t5_2xbci|2017-03-19| 1489952544|                  218|\n",
      "|t3_5sapal|              206|              nfl|    t5_2qmg3|2017-02-06| 1486337751|                  183|\n",
      "|t3_5ac0p2|              199|          pokemon|    t5_2qmeb|2016-10-31| 1477921192|                  194|\n",
      "|t3_5at9kg|              176|         baseball|    t5_2qm7u|2016-11-03| 1478128484|                  155|\n",
      "|t3_5bzjgp|              151|        AskReddit|    t5_2qh1i|2016-11-09| 1478677508|                  137|\n",
      "|t3_3g4blw|              131|        AskReddit|    t5_2qh1i|2015-08-07| 1438951132|                  119|\n",
      "|t3_5o6fc6|              122|              nfl|    t5_2qmg3|2017-01-15| 1484515424|                  111|\n",
      "+---------+-----------------+-----------------+------------+----------+-----------+---------------------+\n",
      "\n"
     ]
    }
   ],
   "source": [
    "spark.sql(\"\"\"\n",
    "    SELECT *\n",
    "    FROM posts\n",
    "    ORDER BY count_of_comments DESC\n",
    "    LIMIT 10\n",
    "\"\"\").show()"
   ]
  },
  {
   "cell_type": "markdown",
   "metadata": {},
   "source": [
    "##### Subreddits"
   ]
  },
  {
   "cell_type": "code",
   "execution_count": 16,
   "metadata": {},
   "outputs": [],
   "source": [
    "subreddits = spark.sql(\"\"\"\n",
    "    SELECT \n",
    "        subreddit_id AS id,\n",
    "        FIRST(subreddit) AS name,\n",
    "        COUNT(*) AS count_of_comments,\n",
    "        COUNT(DISTINCT link_id) AS count_of_posts, \n",
    "        MIN(created) AS created,\n",
    "        MIN(created_utc) AS created_utc\n",
    "    FROM comments\n",
    "    GROUP BY subreddit_id\n",
    "    SORT BY created\n",
    "\"\"\")"
   ]
  },
  {
   "cell_type": "code",
   "execution_count": 17,
   "metadata": {},
   "outputs": [],
   "source": [
    "subreddits.registerTempTable(\"subreddits\")"
   ]
  },
  {
   "cell_type": "code",
   "execution_count": 18,
   "metadata": {},
   "outputs": [
    {
     "name": "stdout",
     "output_type": "stream",
     "text": [
      "+--------+---------------+-----------------+--------------+----------+-----------+\n",
      "|      id|           name|count_of_comments|count_of_posts|   created|created_utc|\n",
      "+--------+---------------+-----------------+--------------+----------+-----------+\n",
      "|t5_2qh1i|      AskReddit|           569779|        278766|2008-02-12| 1202821148|\n",
      "|t5_2qh33|          funny|           128159|         88827|2008-03-05| 1204693008|\n",
      "|t5_2qh0u|           pics|           120180|         75243|2008-02-10| 1202654589|\n",
      "|t5_2rfxx|leagueoflegends|            95928|         66393|2010-04-26| 1272257177|\n",
      "|t5_2cneq|       politics|           103448|         59054|2007-08-07| 1186515358|\n",
      "|t5_2qh03|         gaming|            83138|         57518|2007-11-10| 1194696191|\n",
      "|t5_2qh61|            WTF|            72097|         46421|2008-03-22| 1206220877|\n",
      "|t5_2s7tt|  AdviceAnimals|            68235|         46254|2010-12-08| 1291833473|\n",
      "|t5_2qh1e|         videos|            66621|         37389|2008-04-01| 1207023443|\n",
      "|t5_2qo4s|            nba|            53076|         35618|2010-06-04| 1275631785|\n",
      "+--------+---------------+-----------------+--------------+----------+-----------+\n",
      "\n"
     ]
    }
   ],
   "source": [
    "spark.sql(\"\"\"\n",
    "    SELECT *\n",
    "    FROM subreddits\n",
    "    ORDER BY count_of_posts DESC\n",
    "    LIMIT 10\n",
    "\"\"\").show()"
   ]
  },
  {
   "cell_type": "markdown",
   "metadata": {},
   "source": [
    "##### Users\n",
    "\n"
   ]
  },
  {
   "cell_type": "code",
   "execution_count": 19,
   "metadata": {},
   "outputs": [],
   "source": [
    "users = spark.sql(\"\"\"\n",
    "    SELECT \n",
    "        author AS username,\n",
    "        COUNT(*) AS count_of_comments,\n",
    "        SUM(score) AS karma,\n",
    "        AVG(score) AS avg_score,\n",
    "        MIN(created) AS created,\n",
    "        MIN(created_utc) AS created_utc\n",
    "    FROM comments\n",
    "    WHERE author!='[deleted]'\n",
    "    GROUP BY author\n",
    "    SORT BY created\n",
    "\"\"\")"
   ]
  },
  {
   "cell_type": "code",
   "execution_count": 20,
   "metadata": {},
   "outputs": [],
   "source": [
    "users.registerTempTable(\"users\")"
   ]
  },
  {
   "cell_type": "code",
   "execution_count": 21,
   "metadata": {},
   "outputs": [
    {
     "name": "stdout",
     "output_type": "stream",
     "text": [
      "+---------------+-----------------+-----+------------------+----------+-----------+\n",
      "|       username|count_of_comments|karma|         avg_score|   created|created_utc|\n",
      "+---------------+-----------------+-----+------------------+----------+-----------+\n",
      "|  AutoModerator|            28896|30039|1.0395556478405317|2012-03-09| 1331268657|\n",
      "|    Hal_E_Lujah|                1|19066|           19066.0|2017-01-22| 1485098605|\n",
      "|          eggre|                4|14044|            3511.0|2013-12-25| 1388005245|\n",
      "|cool_creeper500|                6|13317|            2219.5|2016-08-21| 1471779618|\n",
      "|    kernunnos77|               30|12059|401.96666666666664|2012-09-12| 1347481914|\n",
      "|    MyOnlyAlias|                4|11596|            2899.0|2012-12-28| 1356718918|\n",
      "| kungfumilhouse|                3|11496|            3832.0|2015-11-11| 1447211703|\n",
      "|      jdog_dude|                1|11163|           11163.0|2016-12-20| 1482237133|\n",
      "|   PepeInfiniti|                1|11070|           11070.0|2016-12-18| 1482055742|\n",
      "|     metalgamer|                4|10913|           2728.25|2012-03-03| 1330789254|\n",
      "+---------------+-----------------+-----+------------------+----------+-----------+\n",
      "\n"
     ]
    }
   ],
   "source": [
    "spark.sql(\"\"\"\n",
    "    SELECT *\n",
    "    FROM users\n",
    "    ORDER BY karma DESC\n",
    "    LIMIT 10\n",
    "\"\"\").show()"
   ]
  },
  {
   "cell_type": "markdown",
   "metadata": {},
   "source": [
    "### High-Level Metrics"
   ]
  },
  {
   "cell_type": "markdown",
   "metadata": {},
   "source": [
    "##### Number of Comments per day"
   ]
  },
  {
   "cell_type": "code",
   "execution_count": 22,
   "metadata": {},
   "outputs": [],
   "source": [
    "sliding_comments_per_day = spark.sql(\"\"\"\n",
    "    SELECT created, count_of_comments, AVG(count_of_comments) OVER (\n",
    "        ORDER BY created\n",
    "        RANGE BETWEEN 30 PRECEDING AND 30 FOLLOWING\n",
    "    ) AS count_of_comments_60d_avg\n",
    "    FROM (\n",
    "        SELECT created, COUNT(*) AS count_of_comments\n",
    "        FROM comments\n",
    "        GROUP BY created\n",
    "        ORDER BY created\n",
    "    )\n",
    "\"\"\")"
   ]
  },
  {
   "cell_type": "code",
   "execution_count": 23,
   "metadata": {},
   "outputs": [
    {
     "data": {
      "text/plain": [
       "<matplotlib.axes._subplots.AxesSubplot at 0x1a244a1860>"
      ]
     },
     "execution_count": 23,
     "metadata": {},
     "output_type": "execute_result"
    },
    {
     "data": {
      "image/png": "[encoded data removed]",
      "text/plain": [
       "<Figure size 432x288 with 1 Axes>"
      ]
     },
     "metadata": {
      "needs_background": "light"
     },
     "output_type": "display_data"
    }
   ],
   "source": [
    "sliding_comments_per_day.toPandas().set_index('created').plot()"
   ]
  },
  {
   "cell_type": "code",
   "execution_count": null,
   "metadata": {},
   "outputs": [],
   "source": []
  },
  {
   "cell_type": "code",
   "execution_count": 62,
   "metadata": {},
   "outputs": [],
   "source": [
    "count_of_active_users_per_day = spark.sql(\"\"\"\n",
    "    SELECT created, count_of_active_users, AVG(count_of_active_users) OVER (\n",
    "        ORDER BY created\n",
    "        RANGE BETWEEN 30 PRECEDING AND 30 FOLLOWING\n",
    "    ) AS count_of_active_users_60d_avg\n",
    "    FROM (\n",
    "        SELECT created, COUNT(DISTINCT author) AS count_of_active_users\n",
    "        FROM comments\n",
    "        GROUP BY created\n",
    "        ORDER BY created\n",
    "    )\n",
    "\"\"\")"
   ]
  },
  {
   "cell_type": "code",
   "execution_count": null,
   "metadata": {},
   "outputs": [],
   "source": [
    "_ = count_of_active_users_per_day.toPandas().set_index('created').plot()"
   ]
  },
  {
   "cell_type": "markdown",
   "metadata": {},
   "source": [
    "##### Proportion of [Removed] comments per day"
   ]
  },
  {
   "cell_type": "code",
   "execution_count": 40,
   "metadata": {},
   "outputs": [],
   "source": [
    "sliding_removed_per_day = spark.sql(\"\"\"\n",
    "    SELECT created, proportion_of_removed, AVG(proportion_of_removed) OVER (\n",
    "        ORDER BY created\n",
    "        RANGE BETWEEN 30 PRECEDING AND 30 FOLLOWING\n",
    "    ) AS proportion_of_removed_60d_avg\n",
    "    FROM (\n",
    "        SELECT \n",
    "            created, \n",
    "            SUM(CASE WHEN body='[removed]' THEN 1 ELSE 0 END) AS count_of_removed,\n",
    "            (SUM(CASE WHEN body='[removed]' THEN 1 ELSE 0 END)/COUNT(*)) AS proportion_of_removed\n",
    "        FROM comments\n",
    "        GROUP BY created\n",
    "        ORDER BY created\n",
    "    )\n",
    "\"\"\")"
   ]
  },
  {
   "cell_type": "code",
   "execution_count": 41,
   "metadata": {},
   "outputs": [
    {
     "data": {
      "image/png": "[encoded data removed]",
      "text/plain": [
       "<Figure size 432x288 with 1 Axes>"
      ]
     },
     "metadata": {
      "needs_background": "light"
     },
     "output_type": "display_data"
    }
   ],
   "source": [
    "_ = sliding_removed_per_day.toPandas().set_index('created').rename(columns={'count(1)':'count'}).plot()"
   ]
  },
  {
   "cell_type": "markdown",
   "metadata": {},
   "source": [
    "##### Number of Controversial Comments per day"
   ]
  },
  {
   "cell_type": "code",
   "execution_count": 50,
   "metadata": {},
   "outputs": [],
   "source": [
    "sliding_controversial_per_day = spark.sql(\"\"\"\n",
    "    SELECT created, proportion_of_controversial, AVG(proportion_of_controversial) OVER (\n",
    "        ORDER BY created\n",
    "        RANGE BETWEEN 30 PRECEDING AND 30 FOLLOWING\n",
    "    ) AS proportion_of_controversial_60d_avg\n",
    "    FROM (\n",
    "        SELECT \n",
    "            created, \n",
    "            SUM(controversiality) AS count_of_controversial,\n",
    "            (SUM(controversiality) / COUNT(*)) AS proportion_of_controversial\n",
    "        FROM comments\n",
    "        GROUP BY created\n",
    "        ORDER BY created\n",
    "    )\n",
    "\"\"\")"
   ]
  },
  {
   "cell_type": "code",
   "execution_count": 51,
   "metadata": {},
   "outputs": [
    {
     "data": {
      "image/png": "[encoded data removed]",
      "text/plain": [
       "<Figure size 432x288 with 1 Axes>"
      ]
     },
     "metadata": {
      "needs_background": "light"
     },
     "output_type": "display_data"
    }
   ],
   "source": [
    "_ = sliding_controversial_per_day.toPandas().set_index('created').rename(columns={'count(1)':'count'}).plot()"
   ]
  },
  {
   "cell_type": "markdown",
   "metadata": {},
   "source": [
    "##### Average Score per day"
   ]
  },
  {
   "cell_type": "code",
   "execution_count": 28,
   "metadata": {},
   "outputs": [],
   "source": [
    "sliding_average_score_per_day = spark.sql(\"\"\"\n",
    "    SELECT created, avg_score, AVG(avg_score) OVER (\n",
    "        ORDER BY created\n",
    "        RANGE BETWEEN 30 PRECEDING AND 30 FOLLOWING\n",
    "    ) AS avg_score_60d_avg\n",
    "    FROM (\n",
    "        SELECT created, AVG(score) AS avg_score\n",
    "        FROM comments\n",
    "        GROUP BY created\n",
    "        ORDER BY created\n",
    "    )\n",
    "\"\"\")"
   ]
  },
  {
   "cell_type": "code",
   "execution_count": 29,
   "metadata": {},
   "outputs": [
    {
     "data": {
      "image/png": "[encoded data removed]",
      "text/plain": [
       "<Figure size 432x288 with 1 Axes>"
      ]
     },
     "metadata": {
      "needs_background": "light"
     },
     "output_type": "display_data"
    }
   ],
   "source": [
    "_ = sliding_average_score_per_day.toPandas().set_index('created').plot()"
   ]
  },
  {
   "cell_type": "markdown",
   "metadata": {},
   "source": [
    "##### Total Score per Day"
   ]
  },
  {
   "cell_type": "code",
   "execution_count": 30,
   "metadata": {},
   "outputs": [],
   "source": [
    "sliding_sum_score_per_day = spark.sql(\"\"\"\n",
    "    SELECT created, sum_score, AVG(sum_score) OVER (\n",
    "        ORDER BY created\n",
    "        RANGE BETWEEN 30 PRECEDING AND 30 FOLLOWING\n",
    "    ) AS sum_score_60d_avg\n",
    "    FROM (\n",
    "        SELECT created, SUM(score) AS sum_score\n",
    "        FROM comments\n",
    "        GROUP BY created\n",
    "        ORDER BY created\n",
    "    )\n",
    "\"\"\")"
   ]
  },
  {
   "cell_type": "code",
   "execution_count": 31,
   "metadata": {},
   "outputs": [
    {
     "data": {
      "image/png": "[encoded data removed]",
      "text/plain": [
       "<Figure size 432x288 with 1 Axes>"
      ]
     },
     "metadata": {
      "needs_background": "light"
     },
     "output_type": "display_data"
    }
   ],
   "source": [
    "_ = sliding_sum_score_per_day.toPandas().set_index('created').plot()"
   ]
  },
  {
   "cell_type": "markdown",
   "metadata": {},
   "source": [
    "##### Gold per day"
   ]
  },
  {
   "cell_type": "code",
   "execution_count": 32,
   "metadata": {},
   "outputs": [],
   "source": [
    "gold_per_day = spark.sql(\"\"\"\n",
    "    SELECT created, count_gold, AVG(count_gold) OVER (\n",
    "        ORDER BY created\n",
    "        RANGE BETWEEN 30 PRECEDING AND 30 FOLLOWING\n",
    "    ) AS count_gold_60d_avg\n",
    "    FROM (\n",
    "        SELECT created, SUM(gilded) AS count_gold\n",
    "        FROM comments\n",
    "        GROUP BY created\n",
    "        ORDER BY created\n",
    "    )\n",
    "\"\"\")"
   ]
  },
  {
   "cell_type": "code",
   "execution_count": 33,
   "metadata": {},
   "outputs": [
    {
     "data": {
      "image/png": "[encoded data removed]",
      "text/plain": [
       "<Figure size 432x288 with 1 Axes>"
      ]
     },
     "metadata": {
      "needs_background": "light"
     },
     "output_type": "display_data"
    }
   ],
   "source": [
    "_ = gold_per_day.toPandas().set_index('created').rename(columns={'count(1)':'count'}).plot()"
   ]
  },
  {
   "cell_type": "markdown",
   "metadata": {},
   "source": [
    "##### Agreement Factor"
   ]
  },
  {
   "cell_type": "code",
   "execution_count": 60,
   "metadata": {},
   "outputs": [],
   "source": [
    "agreement_factor_per_day = spark.sql(\"\"\"\n",
    "    SELECT created, agreement_factor, AVG(agreement_factor) OVER (\n",
    "        ORDER BY created\n",
    "        RANGE BETWEEN 30 PRECEDING AND 30 FOLLOWING\n",
    "    ) AS agreement_factor_60d_avg\n",
    "    FROM (\n",
    "        SELECT \n",
    "            created,\n",
    "            COUNT(*) AS count,\n",
    "            SUM(CASE WHEN score > 0 THEN 1 ELSE 0 END) AS count_pos,\n",
    "            SUM(CASE WHEN score < 0 THEN 1 ELSE 0 END) AS count_neg,\n",
    "            (SUM(CASE WHEN score > 0 THEN 1 ELSE 0 END) / COUNT(*)) AS agreement_factor\n",
    "        FROM comments\n",
    "        WHERE score < -3 OR score > 8\n",
    "        GROUP BY created\n",
    "        HAVING COUNT(*) > 5\n",
    "    )\n",
    "\"\"\")"
   ]
  },
  {
   "cell_type": "code",
   "execution_count": 61,
   "metadata": {},
   "outputs": [
    {
     "data": {
      "image/png": "[encoded data removed]",
      "text/plain": [
       "<Figure size 432x288 with 1 Axes>"
      ]
     },
     "metadata": {
      "needs_background": "light"
     },
     "output_type": "display_data"
    }
   ],
   "source": [
    "_ = agreement_factor_per_day.toPandas().set_index('created').plot()"
   ]
  },
  {
   "cell_type": "code",
   "execution_count": null,
   "metadata": {},
   "outputs": [],
   "source": []
  }
 ],
 "metadata": {
  "kernelspec": {
   "display_name": "Python [conda env:ada]",
   "language": "python",
   "name": "conda-env-ada-py"
  },
  "language_info": {
   "codemirror_mode": {
    "name": "ipython",
    "version": 3
   },
   "file_extension": ".py",
   "mimetype": "text/x-python",
   "name": "python",
   "nbconvert_exporter": "python",
   "pygments_lexer": "ipython3",
   "version": "3.6.6"
  }
 },
 "nbformat": 4,
 "nbformat_minor": 2
}
