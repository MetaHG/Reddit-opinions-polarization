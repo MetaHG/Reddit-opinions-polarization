{
 "cells": [
  {
   "cell_type": "code",
   "execution_count": 2,
   "metadata": {},
   "outputs": [],
   "source": [
    "import pandas as pd\n",
    "import numpy as np\n",
    "import scipy as sp\n",
    "import seaborn as sns\n",
    "import datetime as dt\n",
    "import matplotlib\n",
    "import matplotlib.pyplot as plt\n",
    "%matplotlib inline\n",
    "\n",
    "import findspark\n",
    "findspark.init()\n",
    "\n",
    "import pyspark\n",
    "from pyspark.sql import *\n",
    "import pyspark.sql.functions as func\n",
    "from pyspark.sql.types import *\n",
    "\n",
    "%run insights.py\n",
    "%run plot.py"
   ]
  },
  {
   "cell_type": "code",
   "execution_count": 3,
   "metadata": {},
   "outputs": [],
   "source": [
    "spark = SparkSession.builder.getOrCreate()"
   ]
  },
  {
   "cell_type": "code",
   "execution_count": 16,
   "metadata": {},
   "outputs": [],
   "source": [
    "# Load all datasets\n",
    "metrics = spark.read.load('../data/dataset_metrics.parquet').toPandas()\n",
    "score_metrics = spark.read.load('../data/score_metrics.parquet').toPandas().set_index('score')\n",
    "comments = spark.read.load('../data/sample.parquet')\n",
    "comments.registerTempTable(\"comments\")\n",
    "daily_metrics = spark.read.load('../data/daily_metrics.parquet').toPandas().set_index('created')\n",
    "subreddit_agreement = spark.read.load('../data/subreddit_agreement.parquet').toPandas().set_index('subreddit')\n",
    "daily_agreement = spark.read.load('../data/daily_agreement.parquet').toPandas().set_index('created')\n",
    "lda_result_one_w_df = spark.read.load('../data/oneW_oneT_lda_result.parquet').toPandas().set_index('post_id')\n",
    "lda_result_three_w_df = spark.read.load('../data/threeW_twoT_lda_result.parquet').toPandas().set_index('post_id')\n",
    "nlp = spark.read.load('../data/subreddit_nlp_full_0.001.parquet')"
   ]
  },
  {
   "cell_type": "markdown",
   "metadata": {},
   "source": [
    "### Dataset Description\n",
    "\n",
    "##### Source\n",
    "\n",
    "Our dataset contains all the comments available on Reddit from December 2005 to March 2017. It was firstly parsed and publicly maide avaible by a reddit user by the name of u/Stuck_in_the_Matrix [on 2015](https://www.reddit.com/r/datasets/comments/3bxlg7/i_have_every_publicly_available_reddit_comment/). Two years later, the user u/Dewarim provided torrents for [an updated version of the dataset](https://www.reddit.com/r/datasets/comments/65o7py/updated_reddit_comment_dataset_as_torrents/) which also includes all the comments from 2015 up to March 2017. This updated version is the one used as our dataset.\n",
    "\n",
    "\n",
    "##### Overview & Schema\n",
    "\n",
    "Before diving into the information we extracted from the dataset, let's look at the types of values that are contained within it. "
   ]
  },
  {
   "cell_type": "code",
   "execution_count": 4,
   "metadata": {},
   "outputs": [
    {
     "name": "stdout",
     "output_type": "stream",
     "text": [
      "root\n",
      " |-- distinguished: string (nullable = true)\n",
      " |-- retrieved_on: string (nullable = true)\n",
      " |-- gilded: integer (nullable = true)\n",
      " |-- edited: integer (nullable = true)\n",
      " |-- id: string (nullable = true)\n",
      " |-- parent_id: string (nullable = true)\n",
      " |-- flair_text: string (nullable = true)\n",
      " |-- author: string (nullable = true)\n",
      " |-- score: integer (nullable = true)\n",
      " |-- ups: integer (nullable = true)\n",
      " |-- downs: integer (nullable = true)\n",
      " |-- created_utc: string (nullable = true)\n",
      " |-- author_flair_text: string (nullable = true)\n",
      " |-- author_flair_css_class: string (nullable = true)\n",
      " |-- author_flair_context: string (nullable = true)\n",
      " |-- flair_css_class: string (nullable = true)\n",
      " |-- subreddit: string (nullable = true)\n",
      " |-- subreddit_id: string (nullable = true)\n",
      " |-- score_hidden: boolean (nullable = true)\n",
      " |-- stickied: boolean (nullable = true)\n",
      " |-- link_id: string (nullable = true)\n",
      " |-- controversiality: integer (nullable = true)\n",
      " |-- body: string (nullable = true)\n",
      " |-- archived: boolean (nullable = true)\n",
      "\n"
     ]
    }
   ],
   "source": [
    "comments.printSchema()"
   ]
  },
  {
   "cell_type": "markdown",
   "metadata": {},
   "source": [
    "In the context of our data collection, we specifically looked at the following types,\n",
    "\n",
    "* `created_utc` to be able to date the comment\n",
    "* `author`, `subreddit_id` and `link_id` to aggregate the comments per author, topic or post.\n",
    "* `ups`, `downs` and `score` to represent the high-level sentiment of the community with regards to the comment.\n",
    "* `controversiality`, which is a pre-computed metric of controversiality.\n",
    "* `body` in order to extract topics and sentiment from the text itself.\n",
    "\n",
    "We will dive successively into each of these topics in this notebook. But first, let's start with the basic information about the dataset, i.e. its size and range of dates."
   ]
  },
  {
   "cell_type": "code",
   "execution_count": 5,
   "metadata": {},
   "outputs": [
    {
     "data": {
      "text/markdown": [
       "> The dataset contains a total of **3,092,028,928** comments ranging from **12/12/2005** to **03/31/2017**."
      ],
      "text/plain": [
       "<IPython.core.display.Markdown object>"
      ]
     },
     "metadata": {},
     "output_type": "display_data"
    }
   ],
   "source": [
    "insights_comments(metrics)"
   ]
  },
  {
   "cell_type": "markdown",
   "metadata": {},
   "source": [
    "An important thing to note given the schema seen above is that we do not have access to the content of the posts, only the comments. We do however have access to the id of the post (`link_id`) on which the comments are written. We can use this information, for instance to group comments that related to the same post. It is also possible to calculate the total number of posts (with at least one reply) on Reddit."
   ]
  },
  {
   "cell_type": "code",
   "execution_count": 6,
   "metadata": {},
   "outputs": [
    {
     "data": {
      "text/markdown": [
       "> There is a total of **204,469,276** posts on Reddit with at least one reply."
      ],
      "text/plain": [
       "<IPython.core.display.Markdown object>"
      ]
     },
     "metadata": {},
     "output_type": "display_data"
    }
   ],
   "source": [
    "insights_posts(metrics)"
   ]
  },
  {
   "cell_type": "markdown",
   "metadata": {},
   "source": [
    "Moreover, it is also important to understand the notion of *thread* in Reddit comments. Each comment has a parent, defined by `parent_id`. It means that comments might be at different depth. Top-level comments (which have depth 0 and answer the original post directly) will have the post id as `parent_id`. Lower-level comments on the other hand, have another comment as parent. We can use this information to extract the number of top-level comments and lower-level comments from the dataset."
   ]
  },
  {
   "cell_type": "code",
   "execution_count": 7,
   "metadata": {},
   "outputs": [
    {
     "data": {
      "text/markdown": [
       "> Out of all the comments, **1,223,260,504** (**39.56%** of the dataset) are top-level comments. This makes an average of **5.98** top-level comments per post. The other **1,868,768,424** (**60.44%**) are replies to other comments."
      ],
      "text/plain": [
       "<IPython.core.display.Markdown object>"
      ]
     },
     "metadata": {},
     "output_type": "display_data"
    }
   ],
   "source": [
    "insights_comments_levels(metrics)"
   ]
  },
  {
   "cell_type": "markdown",
   "metadata": {},
   "source": [
    "##### Deleted and Removed Comments\n",
    "\n",
    "Some comments are marked as `[deleted]` or `[removed]`. According to [this Reddit post](https://www.reddit.com/r/help/comments/38cjx8/user_delete_vs_mod_delete_how_to_tell_the/), the `[deleted]` means that the comment was simply deleted by its author. There are a few reasons to do that, for instance to hide a negative comment from one's history, or to avoid getting more downvotes that we already have and prevent one's karma from getting too low. "
   ]
  },
  {
   "cell_type": "code",
   "execution_count": 8,
   "metadata": {},
   "outputs": [
    {
     "data": {
      "text/markdown": [
       "> A total of **186,592,666** comments were deleted by their authors, which is **6.03%** of the dataset."
      ],
      "text/plain": [
       "<IPython.core.display.Markdown object>"
      ]
     },
     "metadata": {},
     "output_type": "display_data"
    }
   ],
   "source": [
    "insights_removed(metrics)"
   ]
  },
  {
   "cell_type": "markdown",
   "metadata": {},
   "source": [
    "On the other hand, `[removed]` indicates comments that were removed from the moderation team of the subreddit that the comment belongs to. This can also indicate potential toxic or vulgar comments, but it is not very reliable as it can also include off-topic comments."
   ]
  },
  {
   "cell_type": "code",
   "execution_count": 9,
   "metadata": {},
   "outputs": [
    {
     "data": {
      "text/markdown": [
       "> A total of **25,544,034** comments were removed by the moderation teams, which is **0.83%** of the dataset."
      ],
      "text/plain": [
       "<IPython.core.display.Markdown object>"
      ]
     },
     "metadata": {},
     "output_type": "display_data"
    }
   ],
   "source": [
    "insights_deleted(metrics)"
   ]
  },
  {
   "cell_type": "markdown",
   "metadata": {},
   "source": [
    "##### Score\n",
    "\n",
    "On Reddit, people can *upvote* (`ups` in the dataset) posts or comments that they agree with, and *downvote* (`downs`) comments with which they do not agree. These values are then used to calculate a `score` metric with a simple formula `ups - downs`. \n",
    "\n",
    "Unfortunately for us, even though the dataset sometimes include `ups` and `downs` attributes, their value seems to be completely wrong. In fact, there is no instance where `downs` is different than 0."
   ]
  },
  {
   "cell_type": "code",
   "execution_count": 10,
   "metadata": {},
   "outputs": [
    {
     "name": "stdout",
     "output_type": "stream",
     "text": [
      "+-----+--------+\n",
      "|downs|count(1)|\n",
      "+-----+--------+\n",
      "| null| 2637603|\n",
      "|    0| 3543945|\n",
      "+-----+--------+\n",
      "\n"
     ]
    }
   ],
   "source": [
    "spark.sql(\"\"\"SELECT downs, COUNT(*) FROM comments GROUP BY downs\"\"\").show()"
   ]
  },
  {
   "cell_type": "markdown",
   "metadata": {},
   "source": [
    "This is very problematic for us, as we were hoping to come up with our own formula for measuring polarity based on the number of upvotes and downvotes of a comment. For now, we will have to restrict ourselves to only using `score`. Let's see what the range of `score` is."
   ]
  },
  {
   "cell_type": "code",
   "execution_count": 11,
   "metadata": {},
   "outputs": [
    {
     "data": {
      "text/markdown": [
       "> The highest score of all the dataset is **88,484** and the lowest score is **-12,063**."
      ],
      "text/plain": [
       "<IPython.core.display.Markdown object>"
      ]
     },
     "metadata": {},
     "output_type": "display_data"
    }
   ],
   "source": [
    "insights_score(score_metrics)"
   ]
  },
  {
   "cell_type": "markdown",
   "metadata": {},
   "source": [
    "Now, let's look at the distribution of `score`. Since it can be negative, we will have to plot the positive and negative scores separately. (and it is required for log-log plots)."
   ]
  },
  {
   "cell_type": "code",
   "execution_count": 12,
   "metadata": {},
   "outputs": [
    {
     "data": {
      "image/png": "[encoded data removed]",
      "text/plain": [
       "<Figure size 1080x360 with 2 Axes>"
      ]
     },
     "metadata": {
      "needs_background": "light"
     },
     "output_type": "display_data"
    }
   ],
   "source": [
    "plot_scores(score_metrics)"
   ]
  },
  {
   "cell_type": "markdown",
   "metadata": {},
   "source": [
    "We can see that the positive score seems to follow a nice power law. We will need to improve / confirm that later on with a cumulative and smoothed out plots, but this will require additional computations which we do not have time to run as of yet. Interestingly enough, the negative score is not as straight and indicates that the negative scores do not follow the same power law as the positive scores do. "
   ]
  },
  {
   "cell_type": "markdown",
   "metadata": {},
   "source": [
    "### Evolution over Time\n",
    "\n",
    "Now, our goal was to understand how the Reddit community has evolved in terms of controversiality, polarity and aggressivity over time. Our first step towards understanding such evolution was to visualize how the above metrics (as well as additional ones) have changed over the years.\n",
    "\n",
    "##### General Reddit Traffic\n",
    "\n",
    "Let's first see how the overall traffic has evolved over Reddit. Because the daily data can be very noisy (in blue below), we perform a 60-day window average for all of the following metrics (in orange). "
   ]
  },
  {
   "cell_type": "code",
   "execution_count": 13,
   "metadata": {},
   "outputs": [
    {
     "data": {
      "image/png": "[encoded data removed]",
      "text/plain": [
       "<Figure size 432x288 with 1 Axes>"
      ]
     },
     "metadata": {
      "needs_background": "light"
     },
     "output_type": "display_data"
    }
   ],
   "source": [
    "plot_daily_metric(daily_metrics, \"count_of_comments\")"
   ]
  },
  {
   "cell_type": "markdown",
   "metadata": {},
   "source": [
    "We can see here that the number of comments on Reddit, after a slow start between 2005 and 2009, has ever since been steadily increasing. Moreover, the curve is similar to the **daily active users** which we can see below."
   ]
  },
  {
   "cell_type": "code",
   "execution_count": 14,
   "metadata": {},
   "outputs": [
    {
     "data": {
      "image/png": "[encoded data removed]",
      "text/plain": [
       "<Figure size 432x288 with 1 Axes>"
      ]
     },
     "metadata": {
      "needs_background": "light"
     },
     "output_type": "display_data"
    }
   ],
   "source": [
    "plot_daily_metric(daily_metrics, \"count_of_users\")"
   ]
  },
  {
   "cell_type": "markdown",
   "metadata": {},
   "source": [
    "### Polarity & Controversiality Metrics\n",
    "\n",
    "Now, we would like to narrow our focus down to the idea of measuring divisiveness on Reddit. Even before diving into the text of the comments, there are some high-level metrics that we can try to compute based on some of the attributes, for instance the `score`. Here is a list of such metrics and how they changed in time."
   ]
  },
  {
   "cell_type": "markdown",
   "metadata": {},
   "source": [
    "##### Controversiality\n",
    "\n",
    "As we can see in the dataset schema, Reddit does provide a binary flag `controversiality` for each of the comments. If we trust [Koooooj\n",
    "'s explanation](https://www.reddit.com/r/NoStupidQuestions/comments/3xmlh8/what_does_something_being_labeled_controversial/cy5yk1m), as well as Reddit's [announcement of the feature](https://www.reddit.com/r/announcements/comments/293oqs/new_reddit_features_controversial_indicator_for/) a comment is flagged controversial when both down and up votes are high but their difference gets under a certain undisclosed threshold. In other words, Reddit will consider something to be controversial whenever it receives a high similar amount of down and up votes, which means that the community was evenly polarized by the comment's content."
   ]
  },
  {
   "cell_type": "code",
   "execution_count": 15,
   "metadata": {},
   "outputs": [
    {
     "data": {
      "image/png": "[encoded data removed]",
      "text/plain": [
       "<Figure size 432x288 with 1 Axes>"
      ]
     },
     "metadata": {
      "needs_background": "light"
     },
     "output_type": "display_data"
    }
   ],
   "source": [
    "plot_daily_metric(daily_metrics, \"prop_of_controversial\")"
   ]
  },
  {
   "cell_type": "markdown",
   "metadata": {},
   "source": [
    "Unfortunately, as we can see here, the `controversiality` metric is set to `0` to all the posts between 2008 and 2012, and there are two more gaps after that. Based on this, it will not be a very valuable metric over the long term. We might still be able to use it from 2015 onward, as it seems to be working properly there."
   ]
  },
  {
   "cell_type": "code",
   "execution_count": 16,
   "metadata": {},
   "outputs": [
    {
     "data": {
      "image/png": "[encoded data removed]",
      "text/plain": [
       "<Figure size 432x288 with 1 Axes>"
      ]
     },
     "metadata": {
      "needs_background": "light"
     },
     "output_type": "display_data"
    }
   ],
   "source": [
    "plot_daily_metric(daily_metrics[daily_metrics.index > dt.date(2015, 6, 1)], \"prop_of_controversial\")"
   ]
  },
  {
   "cell_type": "markdown",
   "metadata": {},
   "source": [
    "##### Deletion and Moderation"
   ]
  },
  {
   "cell_type": "markdown",
   "metadata": {},
   "source": [
    "Another indirect metric that could be interesting to look at is the number of comments that were removed from the moderation. Such comments are identifiable by the fact that their body has changed to `[removed]`. This also means that we do not have access to the previous content of such messages. We do not believe that this metric is meaningful enough on its own, but it could be interesting to use it as a supplement to another analysis. Again, there are many factors that could contribute to a post being removed, for instance if it breaks the rules of a subreddit."
   ]
  },
  {
   "cell_type": "code",
   "execution_count": 17,
   "metadata": {},
   "outputs": [
    {
     "data": {
      "image/png": "[encoded data removed]",
      "text/plain": [
       "<Figure size 1080x360 with 2 Axes>"
      ]
     },
     "metadata": {
      "needs_background": "light"
     },
     "output_type": "display_data"
    }
   ],
   "source": [
    "plot_daily_metrics(daily_metrics, \"prop_of_removed\", \"prop_of_deleted\")"
   ]
  },
  {
   "cell_type": "markdown",
   "metadata": {},
   "source": [
    "These plots seem to indicate that there is some inconsistencies in how to dataset handles `[removed]` and `[deleted]`, which contradicts our original assumption. Moreover, the date after which `[removed]` is consistently 0 seem to coincide with the big spike seen in the number of `[deleted]`. One possible explanation would be that after this date, all `[removed]` were actually changed to `[deleted]`."
   ]
  },
  {
   "cell_type": "markdown",
   "metadata": {},
   "source": [
    "##### Agreement Factor\n",
    "\n",
    "Now for a first metric that we computed by hand, the agreement factor is actually something fairly easy to compute. It basically takes the ratio of comments with positive score over the total number of comments. The intuition is that in controversial topics and/or echo-chamber situations, more posts are expected to be downvoted by the dominant community. "
   ]
  },
  {
   "cell_type": "code",
   "execution_count": 18,
   "metadata": {},
   "outputs": [
    {
     "data": {
      "image/png": "[encoded data removed]",
      "text/plain": [
       "<Figure size 432x288 with 1 Axes>"
      ]
     },
     "metadata": {
      "needs_background": "light"
     },
     "output_type": "display_data"
    }
   ],
   "source": [
    "plot_daily_metric(daily_agreement, 'agreement_factor')"
   ]
  },
  {
   "cell_type": "markdown",
   "metadata": {},
   "source": [
    "This result contradicts what we were expecting, as we can see that the *agreement factor* has actually been increasing relatively steadily. This could however hint at the fact that Reddit has become more of an echo chamber over time. Of course, this might not be the only factor, and there might be several biases related to this metric. For instance, a post with negative score does not necessarily indicate a divergence of opinion, it could simply be a post that does not respect the rules of a community, someone providing wrong information or a comment that does not add anything to the dicussion like \"lol\" or \"ok\".\n",
    "\n",
    "We can also see on this graph that there is a spike around the beginning of 2017, let's zoom in to see exactly where."
   ]
  },
  {
   "cell_type": "code",
   "execution_count": 19,
   "metadata": {},
   "outputs": [
    {
     "data": {
      "image/png": "[encoded data removed]",
      "text/plain": [
       "<Figure size 432x288 with 1 Axes>"
      ]
     },
     "metadata": {
      "needs_background": "light"
     },
     "output_type": "display_data"
    }
   ],
   "source": [
    "plot_daily_metric(daily_agreement[daily_agreement.index > dt.date(2016, 1, 1)], 'agreement_factor')"
   ]
  },
  {
   "cell_type": "markdown",
   "metadata": {},
   "source": [
    "This spike in agreement seems to be located at the beginning of November. This exactly matches the moment at which the results of Trump's election came out. Is this a coincidence, or is there some underlying bias that we failed to take into account? We would have to do a more in-depth analysis to find out."
   ]
  },
  {
   "cell_type": "markdown",
   "metadata": {},
   "source": [
    "Finally, an interesting possible way to see if our \"agreement factor\" metric makes sense would be to visualize it per subreddit and see what the subreddits with lowest agreement factors are. Here are the first 20:"
   ]
  },
  {
   "cell_type": "code",
   "execution_count": 20,
   "metadata": {},
   "outputs": [
    {
     "data": {
      "text/html": [
       "<div>\n",
       "<style scoped>\n",
       "    .dataframe tbody tr th:only-of-type {\n",
       "        vertical-align: middle;\n",
       "    }\n",
       "\n",
       "    .dataframe tbody tr th {\n",
       "        vertical-align: top;\n",
       "    }\n",
       "\n",
       "    .dataframe thead th {\n",
       "        text-align: right;\n",
       "    }\n",
       "</style>\n",
       "<table border=\"1\" class=\"dataframe\">\n",
       "  <thead>\n",
       "    <tr style=\"text-align: right;\">\n",
       "      <th></th>\n",
       "      <th>count</th>\n",
       "      <th>agreement_factor</th>\n",
       "    </tr>\n",
       "    <tr>\n",
       "      <th>subreddit</th>\n",
       "      <th></th>\n",
       "      <th></th>\n",
       "    </tr>\n",
       "  </thead>\n",
       "  <tbody>\n",
       "    <tr>\n",
       "      <th>blog</th>\n",
       "      <td>7350</td>\n",
       "      <td>0.724762</td>\n",
       "    </tr>\n",
       "    <tr>\n",
       "      <th>RocketLeagueExchange</th>\n",
       "      <td>18228</td>\n",
       "      <td>0.738644</td>\n",
       "    </tr>\n",
       "    <tr>\n",
       "      <th>GlobalOffensiveTrade</th>\n",
       "      <td>5607</td>\n",
       "      <td>0.764045</td>\n",
       "    </tr>\n",
       "    <tr>\n",
       "      <th>entertainment</th>\n",
       "      <td>4467</td>\n",
       "      <td>0.783747</td>\n",
       "    </tr>\n",
       "    <tr>\n",
       "      <th>xboxone</th>\n",
       "      <td>62751</td>\n",
       "      <td>0.798967</td>\n",
       "    </tr>\n",
       "    <tr>\n",
       "      <th>worldnews</th>\n",
       "      <td>577781</td>\n",
       "      <td>0.801754</td>\n",
       "    </tr>\n",
       "    <tr>\n",
       "      <th>worldpolitics</th>\n",
       "      <td>8246</td>\n",
       "      <td>0.802328</td>\n",
       "    </tr>\n",
       "    <tr>\n",
       "      <th>blackdesertonline</th>\n",
       "      <td>12471</td>\n",
       "      <td>0.804747</td>\n",
       "    </tr>\n",
       "    <tr>\n",
       "      <th>Austin</th>\n",
       "      <td>28946</td>\n",
       "      <td>0.808298</td>\n",
       "    </tr>\n",
       "    <tr>\n",
       "      <th>news</th>\n",
       "      <td>567665</td>\n",
       "      <td>0.816658</td>\n",
       "    </tr>\n",
       "    <tr>\n",
       "      <th>ConanExiles</th>\n",
       "      <td>4491</td>\n",
       "      <td>0.818526</td>\n",
       "    </tr>\n",
       "    <tr>\n",
       "      <th>TwoXChromosomes</th>\n",
       "      <td>83078</td>\n",
       "      <td>0.819435</td>\n",
       "    </tr>\n",
       "    <tr>\n",
       "      <th>Minneapolis</th>\n",
       "      <td>4120</td>\n",
       "      <td>0.820631</td>\n",
       "    </tr>\n",
       "    <tr>\n",
       "      <th>pics</th>\n",
       "      <td>369844</td>\n",
       "      <td>0.821073</td>\n",
       "    </tr>\n",
       "    <tr>\n",
       "      <th>kotk</th>\n",
       "      <td>7097</td>\n",
       "      <td>0.826124</td>\n",
       "    </tr>\n",
       "    <tr>\n",
       "      <th>bladeandsoul</th>\n",
       "      <td>9002</td>\n",
       "      <td>0.826150</td>\n",
       "    </tr>\n",
       "    <tr>\n",
       "      <th>PUBATTLEGROUNDS</th>\n",
       "      <td>4493</td>\n",
       "      <td>0.826619</td>\n",
       "    </tr>\n",
       "    <tr>\n",
       "      <th>subredditcancer</th>\n",
       "      <td>4420</td>\n",
       "      <td>0.827828</td>\n",
       "    </tr>\n",
       "    <tr>\n",
       "      <th>nyc</th>\n",
       "      <td>27506</td>\n",
       "      <td>0.827965</td>\n",
       "    </tr>\n",
       "    <tr>\n",
       "      <th>RealGirls</th>\n",
       "      <td>10049</td>\n",
       "      <td>0.829237</td>\n",
       "    </tr>\n",
       "  </tbody>\n",
       "</table>\n",
       "</div>"
      ],
      "text/plain": [
       "                       count  agreement_factor\n",
       "subreddit                                     \n",
       "blog                    7350          0.724762\n",
       "RocketLeagueExchange   18228          0.738644\n",
       "GlobalOffensiveTrade    5607          0.764045\n",
       "entertainment           4467          0.783747\n",
       "xboxone                62751          0.798967\n",
       "worldnews             577781          0.801754\n",
       "worldpolitics           8246          0.802328\n",
       "blackdesertonline      12471          0.804747\n",
       "Austin                 28946          0.808298\n",
       "news                  567665          0.816658\n",
       "ConanExiles             4491          0.818526\n",
       "TwoXChromosomes        83078          0.819435\n",
       "Minneapolis             4120          0.820631\n",
       "pics                  369844          0.821073\n",
       "kotk                    7097          0.826124\n",
       "bladeandsoul            9002          0.826150\n",
       "PUBATTLEGROUNDS         4493          0.826619\n",
       "subredditcancer         4420          0.827828\n",
       "nyc                    27506          0.827965\n",
       "RealGirls              10049          0.829237"
      ]
     },
     "execution_count": 20,
     "metadata": {},
     "output_type": "execute_result"
    }
   ],
   "source": [
    "subreddit_agreement[subreddit_agreement['count'] > 3000][['count', 'agreement_factor']].sort_values('agreement_factor').head(20)"
   ]
  },
  {
   "cell_type": "markdown",
   "metadata": {},
   "source": [
    "Interestingly, the lowest subreddit is **[r/blog](https://www.reddit.com/r/blog)**. One way to interpret this result is that this subreddit is managed by the Reddit company itself and is one of the few places where the community can express their opinion on the decisions and changes made by the Reddit developpers. In 2017, Reddit has announced and/or made some controversial updates to their app (e.g. redesigning the front page, modifying their ranking algorithm, etc..) and these polarizing topics could be represented by the result we get here.\n",
    "\n",
    "Now for the remaining ones, it is interesting to see that they almost all fall into a few categories:\n",
    "\n",
    "* **Video Games** - `r/RocketLeagueExchange`, `r/GlobalOffensiveTrade`, `r/xboxone`, `r/blackdesertonline`, `r/ConanExiles`, `r/kotk`, `r/bladeandsoul`, `r/PUBATTLEGROUNDS` are all subreddits dedicated to specific games or consoles. Given the fact that online games tend to always be somewhat toxic (taken from our own experience), this was indeed to be expected.\n",
    "* **Politics & News** - As we could also expect, subreddits linked to politics and news have a low agreement factor. `r/worldnews`, `r/news` and `r/worldpolitics` all rank very low here. Later on, it will be interesting to analyze how these specific subreddits have evolved over time.\n",
    "* **Cities** - Interestingly enough, it seems that conversation might get controversial when talking about cities. This can actually makes sense, as these types of discussions are often fairly emotional and involve people with wildly different experiences and opinions. According to this metric, `r/Austin`, `r/Minneapolis` and `r/nyc` are the top 3 cities about which are less in agreement.\n",
    "\n",
    "We also note the present of `r/subredditcancer`, which seems to be the home of users who got banned from other subreddits because of their sometimes extreme opinions, as well as `r/TwoXChromosomes`, a subreddit dedicated to conversations about and between women and `r/RealGirls` \\[**NSFW**\\] an amateur pornographic subreddit about women."
   ]
  },
  {
   "cell_type": "markdown",
   "metadata": {},
   "source": [
    "### Trend Modelling"
   ]
  },
  {
   "cell_type": "markdown",
   "metadata": {},
   "source": [
    "In order to detect trends in such a big dataset we need some way to extract the discussion's subject from reddit threads. One common and efficient way to perform this on textual data, is to use the Latent Dirichlet Allocation (LDA) algorithm which given a text input and some hyper parameters, can extract a variable number of topics from the text. \n",
    "\n",
    "#### Trend analysis of the month preceding the election, using 1 topic by post, and 1 word per topic\n",
    "\n",
    "To test the efficiency of LDA on reddit discussions, we ran the algorithm on all comments from the subreddit \"news\" during the month preceding the 2016 US presidential election, to see if indeed the upcoming election was discussed. This could prove to be useful in the light of the preceding findings, as _r/news_ is part of the subreddit with the lowest agreement factor. Thus it could be useful to understand on which subject the reddit users are not agreeing and polarized.\n",
    "\n",
    "The most simple and general topic modelling that can be done, is asking the LDA to produce only one topic consisting of 1 word per post. Let's see what was the 20 most discussed topic during this month, according to the frequency of each topic per post:"
   ]
  },
  {
   "cell_type": "code",
   "execution_count": 21,
   "metadata": {},
   "outputs": [
    {
     "data": {
      "text/plain": [
       "people      394\n",
       "would       135\n",
       "police       77\n",
       "article      50\n",
       "school       41\n",
       "child        39\n",
       "trump        38\n",
       "woman        35\n",
       "pipeline     33\n",
       "clown        33\n",
       "could        29\n",
       "state        28\n",
       "attack       26\n",
       "actually     25\n",
       "black        25\n",
       "right        24\n",
       "phone        24\n",
       "american     23\n",
       "russia       22\n",
       "officer      22\n",
       "Name: topic, dtype: int64"
      ]
     },
     "execution_count": 21,
     "metadata": {},
     "output_type": "execute_result"
    }
   ],
   "source": [
    "frequency_df = lda_result_one_w_df['topic'].value_counts()\n",
    "frequency_df.head(20)"
   ]
  },
  {
   "cell_type": "markdown",
   "metadata": {},
   "source": [
    "With only one topic limited to one word, we obviously generalize a bit too much the discussions and we get very broad subjects such as \"people\" as the most frequent topic. Of course, most of the discussions about news might be centered around people, so it does not really come as a surprise. Most of the other frequents topics are terms which easily get some miscellaneous headlines in news outlet such as \"police\", \"school\", \"state\", \"phone\" or \"crime\". \n",
    "\n",
    "However the word \"trump\" still appear to be the fifth most frequent topic during this timeframe, which comes as no surprise, as this data sample is centered on the month before the election day. Nonetheless, the relative frequency of this topic is a good news for our research. It shows that \"trump\" was indeed an important topic of discussion in reddit news the month before the election meaning the LDA may help us identify some trends in discussions.\n",
    "\n",
    "The rival of Donald Trump for the 2016 election, Hillary Clinton, is surprinsingly absent from this ranking. This could either means she was less discussed than Donald Trump, or that more often the LDA would categorize another word as being the topic of the thread (such as \"woman\" potentially). \n",
    "\n",
    "Let's plot comparatively the number of post whose subject was one of the two presidential candidates during this month :"
   ]
  },
  {
   "cell_type": "code",
   "execution_count": 22,
   "metadata": {},
   "outputs": [
    {
     "data": {
      "image/png": "[encoded data removed]",
      "text/plain": [
       "<Figure size 1080x576 with 1 Axes>"
      ]
     },
     "metadata": {
      "needs_background": "light"
     },
     "output_type": "display_data"
    }
   ],
   "source": [
    "topics = ['trump', 'clinton', 'donald', 'hillary']\n",
    "plot_frequency_of_topics(lda_result_one_w_df, topics)"
   ]
  },
  {
   "cell_type": "markdown",
   "metadata": {},
   "source": [
    "The plot above shows us an interesting phenomena, although the word \"clinton\" and \"hillary\" were absent from the 20 most discussed topic we showed previously, both words seems to share a similar distribution in magnitude through time, whereas for Donald Trump, most of the time he's subjectified by its family name rather by its first name (which get recognized as a topic only once, on the 6th of November). Even though \"clinton\" might be referring to another person bearing this family name, the context of the election assures us this word probably refers to the same person as the word \"hillary\".\n",
    "\n",
    "This might explain why Hillary Clinton was not as subjectified as Donald Trump according to the LDA results, the people would refer to her under two different words during discussion, while they would be more consistent with the current U.S. president by calling him \"Trump\".\n",
    "\n",
    "Merging all the possible word as name for the presidential candidate gives us this distribution through time instead:"
   ]
  },
  {
   "cell_type": "code",
   "execution_count": 23,
   "metadata": {},
   "outputs": [
    {
     "data": {
      "image/png": "[encoded data removed]",
      "text/plain": [
       "<Figure size 1080x576 with 1 Axes>"
      ]
     },
     "metadata": {
      "needs_background": "light"
     },
     "output_type": "display_data"
    }
   ],
   "source": [
    "hc = 'Hillary Clinton'\n",
    "dt = 'Donald Trump'\n",
    "lda_result_one_w_df['topic'] = lda_result_one_w_df['topic'].map({'hillary': hc, 'clinton': hc, 'donald':dt, 'trump':dt})\n",
    "plot_frequency_of_topics(lda_result_one_w_df, [hc, dt])"
   ]
  },
  {
   "cell_type": "markdown",
   "metadata": {},
   "source": [
    "The corrected occurence through time distribution shows us that although Trump was the dominant subject at the beginning of the month of October, both subjects started to have an equal representation as the election day was coming.\n",
    "\n",
    "This proves some trend analysis can be done using LDA, but we should take it with a grain of salt, as the number of occurence stays relatively low (under 5 posts whose topic was identified to be about a presidential candidate per day), probably because LDA will favor more general terms such as \"people\" or \"would\" as topic of discussion."
   ]
  },
  {
   "cell_type": "markdown",
   "metadata": {},
   "source": [
    "#### Trend Analysis using 2 topics by post, and 3 words per topic\n",
    "\n",
    "The LDA algorithm allows some more fine grained topic modelling by changing the number of topic produced by thread, and the number of words that can constitute a topic. Testing LDA on the same sample but with increased topic and words per topic might maybe produce less general topics and maybe more representativeness of the actual topic of discussion. "
   ]
  },
  {
   "cell_type": "code",
   "execution_count": 24,
   "metadata": {},
   "outputs": [
    {
     "data": {
      "text/plain": [
       "people would think         10\n",
       "people black white          8\n",
       "right                       6\n",
       "people think would          4\n",
       "people black police         4\n",
       "video                       4\n",
       "pretty                      4\n",
       "alive                       4\n",
       "police people would         4\n",
       "people would money          4\n",
       "insurance people health     3\n",
       "police would officer        3\n",
       "would people police         3\n",
       "pipeline would people       3\n",
       "people white black          3\n",
       "would people think          3\n",
       "people would government     3\n",
       "insurance people would      3\n",
       "people driving think        3\n",
       "people right would          3\n",
       "people police officer       2\n",
       "shooting police justify     2\n",
       "surprise                    2\n",
       "place                       2\n",
       "hungover                    2\n",
       "prison people would         2\n",
       "train track could           2\n",
       "police people officer       2\n",
       "update                      2\n",
       "epstein trump clinton       2\n",
       "Name: topic, dtype: int64"
      ]
     },
     "execution_count": 24,
     "metadata": {},
     "output_type": "execute_result"
    }
   ],
   "source": [
    "lda_result_three_w_df['topic'].value_counts().head(30)"
   ]
  },
  {
   "cell_type": "markdown",
   "metadata": {},
   "source": [
    "Obviously, computing three words per topic greatly decreases the odds of having a high count for a given topic, as the most frequent topic being \"people would think\" occurs only 10 times through all the posts (whereas the topic \"people\" occured 394 times when considering only one word per topic). Having three words per topic gives a bit more information about the thread's subject, but give less chance of finding a coherent trend.\n",
    "\n",
    "Regarding the U.S. election, no identical topics seems to adress the subject, but this might be because most topics modelled by the LDA about either Trump or Clinton are not coherent enough to be counted together. We can assume that a three words topic containing the name of either presidential candidate might speak about it, and thus count this way how much Clinton and Trump were discussed."
   ]
  },
  {
   "cell_type": "code",
   "execution_count": 25,
   "metadata": {},
   "outputs": [
    {
     "data": {
      "text/plain": [
       "{'Hillary Clinton': 92, 'Donald Trump': 173}"
      ]
     },
     "execution_count": 25,
     "metadata": {},
     "output_type": "execute_result"
    }
   ],
   "source": [
    "def replace_str(s):\n",
    "    if s == 'hillary' or s == 'clinton':\n",
    "        return hc\n",
    "    elif s == 'donald' or s == 'trump':\n",
    "        return dt\n",
    "    else:\n",
    "        return s\n",
    "\n",
    "count_dict = {hc:0, dt:0}\n",
    "for t in lda_result_three_w_df['topic']:\n",
    "    ts = t.split(' ')\n",
    "    ts = [replace_str(tok) for tok in ts]\n",
    "    for k in count_dict.keys():\n",
    "        if k in ts:\n",
    "            count_dict[k] += 1\n",
    "count_dict"
   ]
  },
  {
   "cell_type": "markdown",
   "metadata": {},
   "source": [
    "We get a much higher count of occurence in topics for the two presidential candidate than in previous exemple. This means that finding the good number of topics per post and words per topic, might help in correctly modelling the topic of a post, and thus detect trends."
   ]
  },
  {
   "cell_type": "code",
   "execution_count": 11,
   "metadata": {},
   "outputs": [
    {
     "data": {
      "text/html": [
       "<div>\n",
       "<style scoped>\n",
       "    .dataframe tbody tr th:only-of-type {\n",
       "        vertical-align: middle;\n",
       "    }\n",
       "\n",
       "    .dataframe tbody tr th {\n",
       "        vertical-align: top;\n",
       "    }\n",
       "\n",
       "    .dataframe thead th {\n",
       "        text-align: right;\n",
       "    }\n",
       "</style>\n",
       "<table border=\"1\" class=\"dataframe\">\n",
       "  <thead>\n",
       "    <tr style=\"text-align: right;\">\n",
       "      <th></th>\n",
       "      <th>count</th>\n",
       "      <th>agreement_factor</th>\n",
       "    </tr>\n",
       "    <tr>\n",
       "      <th>subreddit</th>\n",
       "      <th></th>\n",
       "      <th></th>\n",
       "    </tr>\n",
       "  </thead>\n",
       "  <tbody>\n",
       "    <tr>\n",
       "      <th>RocketLeagueExchange</th>\n",
       "      <td>18228</td>\n",
       "      <td>0.738644</td>\n",
       "    </tr>\n",
       "    <tr>\n",
       "      <th>xboxone</th>\n",
       "      <td>62751</td>\n",
       "      <td>0.798967</td>\n",
       "    </tr>\n",
       "    <tr>\n",
       "      <th>worldnews</th>\n",
       "      <td>577781</td>\n",
       "      <td>0.801754</td>\n",
       "    </tr>\n",
       "    <tr>\n",
       "      <th>blackdesertonline</th>\n",
       "      <td>12471</td>\n",
       "      <td>0.804747</td>\n",
       "    </tr>\n",
       "    <tr>\n",
       "      <th>Austin</th>\n",
       "      <td>28946</td>\n",
       "      <td>0.808298</td>\n",
       "    </tr>\n",
       "    <tr>\n",
       "      <th>news</th>\n",
       "      <td>567665</td>\n",
       "      <td>0.816658</td>\n",
       "    </tr>\n",
       "    <tr>\n",
       "      <th>TwoXChromosomes</th>\n",
       "      <td>83078</td>\n",
       "      <td>0.819435</td>\n",
       "    </tr>\n",
       "    <tr>\n",
       "      <th>pics</th>\n",
       "      <td>369844</td>\n",
       "      <td>0.821073</td>\n",
       "    </tr>\n",
       "    <tr>\n",
       "      <th>nyc</th>\n",
       "      <td>27506</td>\n",
       "      <td>0.827965</td>\n",
       "    </tr>\n",
       "    <tr>\n",
       "      <th>RealGirls</th>\n",
       "      <td>10049</td>\n",
       "      <td>0.829237</td>\n",
       "    </tr>\n",
       "    <tr>\n",
       "      <th>TrueReddit</th>\n",
       "      <td>21778</td>\n",
       "      <td>0.831527</td>\n",
       "    </tr>\n",
       "    <tr>\n",
       "      <th>LivestreamFail</th>\n",
       "      <td>29973</td>\n",
       "      <td>0.831682</td>\n",
       "    </tr>\n",
       "    <tr>\n",
       "      <th>Documentaries</th>\n",
       "      <td>35656</td>\n",
       "      <td>0.831781</td>\n",
       "    </tr>\n",
       "    <tr>\n",
       "      <th>philadelphia</th>\n",
       "      <td>18722</td>\n",
       "      <td>0.833939</td>\n",
       "    </tr>\n",
       "    <tr>\n",
       "      <th>ElysiumProject</th>\n",
       "      <td>17812</td>\n",
       "      <td>0.834157</td>\n",
       "    </tr>\n",
       "    <tr>\n",
       "      <th>Denver</th>\n",
       "      <td>13357</td>\n",
       "      <td>0.836790</td>\n",
       "    </tr>\n",
       "    <tr>\n",
       "      <th>Celebs</th>\n",
       "      <td>17637</td>\n",
       "      <td>0.838238</td>\n",
       "    </tr>\n",
       "    <tr>\n",
       "      <th>gentlemanboners</th>\n",
       "      <td>11332</td>\n",
       "      <td>0.839658</td>\n",
       "    </tr>\n",
       "    <tr>\n",
       "      <th>SeattleWA</th>\n",
       "      <td>41498</td>\n",
       "      <td>0.839920</td>\n",
       "    </tr>\n",
       "    <tr>\n",
       "      <th>PS4</th>\n",
       "      <td>60803</td>\n",
       "      <td>0.845452</td>\n",
       "    </tr>\n",
       "  </tbody>\n",
       "</table>\n",
       "</div>"
      ],
      "text/plain": [
       "                       count  agreement_factor\n",
       "subreddit                                     \n",
       "RocketLeagueExchange   18228          0.738644\n",
       "xboxone                62751          0.798967\n",
       "worldnews             577781          0.801754\n",
       "blackdesertonline      12471          0.804747\n",
       "Austin                 28946          0.808298\n",
       "news                  567665          0.816658\n",
       "TwoXChromosomes        83078          0.819435\n",
       "pics                  369844          0.821073\n",
       "nyc                    27506          0.827965\n",
       "RealGirls              10049          0.829237\n",
       "TrueReddit             21778          0.831527\n",
       "LivestreamFail         29973          0.831682\n",
       "Documentaries          35656          0.831781\n",
       "philadelphia           18722          0.833939\n",
       "ElysiumProject         17812          0.834157\n",
       "Denver                 13357          0.836790\n",
       "Celebs                 17637          0.838238\n",
       "gentlemanboners        11332          0.839658\n",
       "SeattleWA              41498          0.839920\n",
       "PS4                    60803          0.845452"
      ]
     },
     "execution_count": 11,
     "metadata": {},
     "output_type": "execute_result"
    }
   ],
   "source": [
    "subreddit_agreement[subreddit_agreement['count'] > 10000][['count', 'agreement_factor']].sort_values('agreement_factor').head(20)"
   ]
  },
  {
   "cell_type": "code",
   "execution_count": 13,
   "metadata": {},
   "outputs": [
    {
     "data": {
      "text/html": [
       "<div>\n",
       "<style scoped>\n",
       "    .dataframe tbody tr th:only-of-type {\n",
       "        vertical-align: middle;\n",
       "    }\n",
       "\n",
       "    .dataframe tbody tr th {\n",
       "        vertical-align: top;\n",
       "    }\n",
       "\n",
       "    .dataframe thead th {\n",
       "        text-align: right;\n",
       "    }\n",
       "</style>\n",
       "<table border=\"1\" class=\"dataframe\">\n",
       "  <thead>\n",
       "    <tr style=\"text-align: right;\">\n",
       "      <th></th>\n",
       "      <th>count</th>\n",
       "      <th>agreement_factor</th>\n",
       "    </tr>\n",
       "    <tr>\n",
       "      <th>subreddit</th>\n",
       "      <th></th>\n",
       "      <th></th>\n",
       "    </tr>\n",
       "  </thead>\n",
       "  <tbody>\n",
       "    <tr>\n",
       "      <th>JUSTNOMIL</th>\n",
       "      <td>72471</td>\n",
       "      <td>0.997392</td>\n",
       "    </tr>\n",
       "    <tr>\n",
       "      <th>RWBY</th>\n",
       "      <td>68210</td>\n",
       "      <td>0.994356</td>\n",
       "    </tr>\n",
       "    <tr>\n",
       "      <th>teenmom</th>\n",
       "      <td>96030</td>\n",
       "      <td>0.989639</td>\n",
       "    </tr>\n",
       "    <tr>\n",
       "      <th>exmormon</th>\n",
       "      <td>66736</td>\n",
       "      <td>0.989241</td>\n",
       "    </tr>\n",
       "    <tr>\n",
       "      <th>fatlogic</th>\n",
       "      <td>85095</td>\n",
       "      <td>0.986674</td>\n",
       "    </tr>\n",
       "    <tr>\n",
       "      <th>The_Donald</th>\n",
       "      <td>1362473</td>\n",
       "      <td>0.984966</td>\n",
       "    </tr>\n",
       "    <tr>\n",
       "      <th>PrequelMemes</th>\n",
       "      <td>60820</td>\n",
       "      <td>0.984166</td>\n",
       "    </tr>\n",
       "    <tr>\n",
       "      <th>fireemblem</th>\n",
       "      <td>52421</td>\n",
       "      <td>0.983327</td>\n",
       "    </tr>\n",
       "    <tr>\n",
       "      <th>stevenuniverse</th>\n",
       "      <td>58174</td>\n",
       "      <td>0.979768</td>\n",
       "    </tr>\n",
       "    <tr>\n",
       "      <th>4chan</th>\n",
       "      <td>61112</td>\n",
       "      <td>0.979628</td>\n",
       "    </tr>\n",
       "    <tr>\n",
       "      <th>TumblrInAction</th>\n",
       "      <td>91867</td>\n",
       "      <td>0.976967</td>\n",
       "    </tr>\n",
       "    <tr>\n",
       "      <th>TwoBestFriendsPlay</th>\n",
       "      <td>59311</td>\n",
       "      <td>0.974979</td>\n",
       "    </tr>\n",
       "    <tr>\n",
       "      <th>Drama</th>\n",
       "      <td>56250</td>\n",
       "      <td>0.971733</td>\n",
       "    </tr>\n",
       "    <tr>\n",
       "      <th>AskWomen</th>\n",
       "      <td>97634</td>\n",
       "      <td>0.971096</td>\n",
       "    </tr>\n",
       "    <tr>\n",
       "      <th>anime</th>\n",
       "      <td>189703</td>\n",
       "      <td>0.969336</td>\n",
       "    </tr>\n",
       "    <tr>\n",
       "      <th>wholesomememes</th>\n",
       "      <td>58112</td>\n",
       "      <td>0.966186</td>\n",
       "    </tr>\n",
       "    <tr>\n",
       "      <th>DnD</th>\n",
       "      <td>53049</td>\n",
       "      <td>0.965918</td>\n",
       "    </tr>\n",
       "    <tr>\n",
       "      <th>childfree</th>\n",
       "      <td>72211</td>\n",
       "      <td>0.965559</td>\n",
       "    </tr>\n",
       "    <tr>\n",
       "      <th>AskTrumpSupporters</th>\n",
       "      <td>52287</td>\n",
       "      <td>0.964255</td>\n",
       "    </tr>\n",
       "    <tr>\n",
       "      <th>pokemon</th>\n",
       "      <td>55453</td>\n",
       "      <td>0.963807</td>\n",
       "    </tr>\n",
       "  </tbody>\n",
       "</table>\n",
       "</div>"
      ],
      "text/plain": [
       "                      count  agreement_factor\n",
       "subreddit                                    \n",
       "JUSTNOMIL             72471          0.997392\n",
       "RWBY                  68210          0.994356\n",
       "teenmom               96030          0.989639\n",
       "exmormon              66736          0.989241\n",
       "fatlogic              85095          0.986674\n",
       "The_Donald          1362473          0.984966\n",
       "PrequelMemes          60820          0.984166\n",
       "fireemblem            52421          0.983327\n",
       "stevenuniverse        58174          0.979768\n",
       "4chan                 61112          0.979628\n",
       "TumblrInAction        91867          0.976967\n",
       "TwoBestFriendsPlay    59311          0.974979\n",
       "Drama                 56250          0.971733\n",
       "AskWomen              97634          0.971096\n",
       "anime                189703          0.969336\n",
       "wholesomememes        58112          0.966186\n",
       "DnD                   53049          0.965918\n",
       "childfree             72211          0.965559\n",
       "AskTrumpSupporters    52287          0.964255\n",
       "pokemon               55453          0.963807"
      ]
     },
     "execution_count": 13,
     "metadata": {},
     "output_type": "execute_result"
    }
   ],
   "source": [
    "subreddit_agreement[subreddit_agreement['count'] > 50000][['count', 'agreement_factor']].sort_values('agreement_factor', ascending=False).head(20)"
   ]
  },
  {
   "cell_type": "code",
   "execution_count": 18,
   "metadata": {},
   "outputs": [
    {
     "data": {
      "text/plain": [
       "count               1.362473e+06\n",
       "count_pos           1.341990e+06\n",
       "count_neg           2.048300e+04\n",
       "agreement_factor    9.849663e-01\n",
       "Name: The_Donald, dtype: float64"
      ]
     },
     "execution_count": 18,
     "metadata": {},
     "output_type": "execute_result"
    }
   ],
   "source": [
    "subreddit_agreement.loc['The_Donald']"
   ]
  },
  {
   "cell_type": "code",
   "execution_count": 19,
   "metadata": {},
   "outputs": [
    {
     "data": {
      "text/plain": [
       "count               54469.000000\n",
       "count_pos           50507.000000\n",
       "count_neg            3962.000000\n",
       "agreement_factor        0.927261\n",
       "Name: LateStageCapitalism, dtype: float64"
      ]
     },
     "execution_count": 19,
     "metadata": {},
     "output_type": "execute_result"
    }
   ],
   "source": [
    "subreddit_agreement.loc['LateStageCapitalism']"
   ]
  },
  {
   "cell_type": "code",
   "execution_count": 24,
   "metadata": {},
   "outputs": [
    {
     "data": {
      "text/plain": [
       "count               4193.00000\n",
       "count_pos           3709.00000\n",
       "count_neg            484.00000\n",
       "agreement_factor       0.88457\n",
       "Name: democrats, dtype: float64"
      ]
     },
     "execution_count": 24,
     "metadata": {},
     "output_type": "execute_result"
    }
   ],
   "source": [
    "subreddit_agreement.loc['democrats']"
   ]
  },
  {
   "cell_type": "code",
   "execution_count": 25,
   "metadata": {},
   "outputs": [
    {
     "data": {
      "text/plain": [
       "count               167.000000\n",
       "count_pos           151.000000\n",
       "count_neg            16.000000\n",
       "agreement_factor      0.904192\n",
       "Name: republicans, dtype: float64"
      ]
     },
     "execution_count": 25,
     "metadata": {},
     "output_type": "execute_result"
    }
   ],
   "source": [
    "subreddit_agreement.loc['republicans']"
   ]
  },
  {
   "cell_type": "code",
   "execution_count": 27,
   "metadata": {},
   "outputs": [
    {
     "data": {
      "text/plain": [
       "count               2196.000000\n",
       "count_pos           2178.000000\n",
       "count_neg             18.000000\n",
       "agreement_factor       0.991803\n",
       "Name: hearthstonecirclejerk, dtype: float64"
      ]
     },
     "execution_count": 27,
     "metadata": {},
     "output_type": "execute_result"
    }
   ],
   "source": [
    "subreddit_agreement.loc['hearthstonecirclejerk']"
   ]
  },
  {
   "cell_type": "code",
   "execution_count": 28,
   "metadata": {},
   "outputs": [
    {
     "data": {
      "text/plain": [
       "count               6172.000000\n",
       "count_pos           6052.000000\n",
       "count_neg            120.000000\n",
       "agreement_factor       0.980557\n",
       "Name: circlejerk, dtype: float64"
      ]
     },
     "execution_count": 28,
     "metadata": {},
     "output_type": "execute_result"
    }
   ],
   "source": [
    "subreddit_agreement.loc['circlejerk']"
   ]
  },
  {
   "cell_type": "code",
   "execution_count": 29,
   "metadata": {},
   "outputs": [
    {
     "data": {
      "text/plain": [
       "count               61112.000000\n",
       "count_pos           59867.000000\n",
       "count_neg            1245.000000\n",
       "agreement_factor        0.979628\n",
       "Name: 4chan, dtype: float64"
      ]
     },
     "execution_count": 29,
     "metadata": {},
     "output_type": "execute_result"
    }
   ],
   "source": [
    "subreddit_agreement.loc['4chan']"
   ]
  },
  {
   "cell_type": "code",
   "execution_count": 32,
   "metadata": {},
   "outputs": [
    {
     "data": {
      "text/plain": [
       "count               571.000000\n",
       "count_pos           562.000000\n",
       "count_neg             9.000000\n",
       "agreement_factor      0.984238\n",
       "Name: FuckYou, dtype: float64"
      ]
     },
     "execution_count": 32,
     "metadata": {},
     "output_type": "execute_result"
    }
   ],
   "source": [
    "subreddit_agreement.loc['FuckYou']"
   ]
  },
  {
   "cell_type": "code",
   "execution_count": 33,
   "metadata": {},
   "outputs": [
    {
     "data": {
      "text/plain": [
       "count               43850.000000\n",
       "count_pos           40782.000000\n",
       "count_neg            3068.000000\n",
       "agreement_factor        0.930034\n",
       "Name: RoastMe, dtype: float64"
      ]
     },
     "execution_count": 33,
     "metadata": {},
     "output_type": "execute_result"
    }
   ],
   "source": [
    "subreddit_agreement.loc['RoastMe']"
   ]
  },
  {
   "cell_type": "code",
   "execution_count": 34,
   "metadata": {},
   "outputs": [
    {
     "data": {
      "text/plain": [
       "count               28201.000000\n",
       "count_pos           26267.000000\n",
       "count_neg            1934.000000\n",
       "agreement_factor        0.931421\n",
       "Name: history, dtype: float64"
      ]
     },
     "execution_count": 34,
     "metadata": {},
     "output_type": "execute_result"
    }
   ],
   "source": [
    "subreddit_agreement.loc['history']"
   ]
  },
  {
   "cell_type": "code",
   "execution_count": 35,
   "metadata": {},
   "outputs": [
    {
     "data": {
      "text/plain": [
       "count               46967.000000\n",
       "count_pos           42553.000000\n",
       "count_neg            4414.000000\n",
       "agreement_factor        0.906019\n",
       "Name: science, dtype: float64"
      ]
     },
     "execution_count": 35,
     "metadata": {},
     "output_type": "execute_result"
    }
   ],
   "source": [
    "subreddit_agreement.loc['science']"
   ]
  },
  {
   "cell_type": "code",
   "execution_count": 36,
   "metadata": {},
   "outputs": [
    {
     "data": {
      "text/plain": [
       "count               18329.000000\n",
       "count_pos           17020.000000\n",
       "count_neg            1309.000000\n",
       "agreement_factor        0.928583\n",
       "Name: askscience, dtype: float64"
      ]
     },
     "execution_count": 36,
     "metadata": {},
     "output_type": "execute_result"
    }
   ],
   "source": [
    "subreddit_agreement.loc['askscience']"
   ]
  },
  {
   "cell_type": "code",
   "execution_count": 37,
   "metadata": {},
   "outputs": [
    {
     "data": {
      "text/plain": [
       "count               3962.00000\n",
       "count_pos           3641.00000\n",
       "count_neg            321.00000\n",
       "agreement_factor       0.91898\n",
       "Name: CatsStandingUp, dtype: float64"
      ]
     },
     "execution_count": 37,
     "metadata": {},
     "output_type": "execute_result"
    }
   ],
   "source": [
    "subreddit_agreement.loc['CatsStandingUp']"
   ]
  },
  {
   "cell_type": "code",
   "execution_count": 40,
   "metadata": {},
   "outputs": [
    {
     "data": {
      "text/plain": [
       "count               147189.000000\n",
       "count_pos           133061.000000\n",
       "count_neg            14128.000000\n",
       "agreement_factor         0.904015\n",
       "Name: aww, dtype: float64"
      ]
     },
     "execution_count": 40,
     "metadata": {},
     "output_type": "execute_result"
    }
   ],
   "source": [
    "subreddit_agreement.loc['aww']"
   ]
  },
  {
   "cell_type": "code",
   "execution_count": 41,
   "metadata": {},
   "outputs": [
    {
     "data": {
      "text/plain": [
       "count               79138.000000\n",
       "count_pos           76227.000000\n",
       "count_neg            2911.000000\n",
       "agreement_factor        0.963216\n",
       "Name: me_irl, dtype: float64"
      ]
     },
     "execution_count": 41,
     "metadata": {},
     "output_type": "execute_result"
    }
   ],
   "source": [
    "subreddit_agreement.loc['me_irl']"
   ]
  },
  {
   "cell_type": "code",
   "execution_count": 44,
   "metadata": {},
   "outputs": [
    {
     "data": {
      "text/plain": [
       "count               363875.000000\n",
       "count_pos           325333.000000\n",
       "count_neg            38542.000000\n",
       "agreement_factor         0.894079\n",
       "Name: funny, dtype: float64"
      ]
     },
     "execution_count": 44,
     "metadata": {},
     "output_type": "execute_result"
    }
   ],
   "source": [
    "subreddit_agreement.loc['funny']"
   ]
  },
  {
   "cell_type": "code",
   "execution_count": 42,
   "metadata": {},
   "outputs": [
    {
     "data": {
      "text/plain": [
       "count               58112.000000\n",
       "count_pos           56147.000000\n",
       "count_neg            1965.000000\n",
       "agreement_factor        0.966186\n",
       "Name: wholesomememes, dtype: float64"
      ]
     },
     "execution_count": 42,
     "metadata": {},
     "output_type": "execute_result"
    }
   ],
   "source": [
    "subreddit_agreement.loc['wholesomememes']"
   ]
  },
  {
   "cell_type": "code",
   "execution_count": 45,
   "metadata": {},
   "outputs": [
    {
     "data": {
      "text/plain": [
       "count               17994.00000\n",
       "count_pos           15416.00000\n",
       "count_neg            2578.00000\n",
       "agreement_factor        0.85673\n",
       "Name: Fuckthealtright, dtype: float64"
      ]
     },
     "execution_count": 45,
     "metadata": {},
     "output_type": "execute_result"
    }
   ],
   "source": [
    "subreddit_agreement.loc['Fuckthealtright']"
   ]
  },
  {
   "cell_type": "code",
   "execution_count": 46,
   "metadata": {},
   "outputs": [
    {
     "data": {
      "text/plain": [
       "count               45914.000000\n",
       "count_pos           43191.000000\n",
       "count_neg            2723.000000\n",
       "agreement_factor        0.940693\n",
       "Name: wallstreetbets, dtype: float64"
      ]
     },
     "execution_count": 46,
     "metadata": {},
     "output_type": "execute_result"
    }
   ],
   "source": [
    "subreddit_agreement.loc['wallstreetbets']"
   ]
  },
  {
   "cell_type": "code",
   "execution_count": 47,
   "metadata": {},
   "outputs": [
    {
     "data": {
      "text/plain": [
       "count               59427.000000\n",
       "count_pos           53857.000000\n",
       "count_neg            5570.000000\n",
       "agreement_factor        0.906272\n",
       "Name: RocketLeague, dtype: float64"
      ]
     },
     "execution_count": 47,
     "metadata": {},
     "output_type": "execute_result"
    }
   ],
   "source": [
    "subreddit_agreement.loc['RocketLeague']"
   ]
  },
  {
   "cell_type": "code",
   "execution_count": 48,
   "metadata": {},
   "outputs": [
    {
     "data": {
      "text/plain": [
       "count               9924.000000\n",
       "count_pos           9330.000000\n",
       "count_neg            594.000000\n",
       "agreement_factor       0.940145\n",
       "Name: altright, dtype: float64"
      ]
     },
     "execution_count": 48,
     "metadata": {},
     "output_type": "execute_result"
    }
   ],
   "source": [
    "subreddit_agreement.loc['altright']"
   ]
  },
  {
   "cell_type": "code",
   "execution_count": 50,
   "metadata": {},
   "outputs": [
    {
     "data": {
      "text/plain": [
       "count               2441.000000\n",
       "count_pos           2310.000000\n",
       "count_neg            131.000000\n",
       "agreement_factor       0.946333\n",
       "Name: neoliberal, dtype: float64"
      ]
     },
     "execution_count": 50,
     "metadata": {},
     "output_type": "execute_result"
    }
   ],
   "source": [
    "subreddit_agreement.loc['neoliberal']"
   ]
  },
  {
   "cell_type": "code",
   "execution_count": 51,
   "metadata": {},
   "outputs": [
    {
     "data": {
      "text/plain": [
       "count               6375.000000\n",
       "count_pos           5981.000000\n",
       "count_neg            394.000000\n",
       "agreement_factor       0.938196\n",
       "Name: BlueMidterm2018, dtype: float64"
      ]
     },
     "execution_count": 51,
     "metadata": {},
     "output_type": "execute_result"
    }
   ],
   "source": [
    "subreddit_agreement.loc['BlueMidterm2018']"
   ]
  },
  {
   "cell_type": "code",
   "execution_count": 57,
   "metadata": {},
   "outputs": [
    {
     "data": {
      "text/plain": [
       "count               126.00000\n",
       "count_pos           103.00000\n",
       "count_neg            23.00000\n",
       "agreement_factor      0.81746\n",
       "Name: obama, dtype: float64"
      ]
     },
     "execution_count": 57,
     "metadata": {},
     "output_type": "execute_result"
    }
   ],
   "source": [
    "subreddit_agreement.loc['obama']"
   ]
  },
  {
   "cell_type": "code",
   "execution_count": 58,
   "metadata": {},
   "outputs": [
    {
     "data": {
      "text/plain": [
       "count               1656.000000\n",
       "count_pos           1553.000000\n",
       "count_neg            103.000000\n",
       "agreement_factor       0.937802\n",
       "Name: ThanksObama, dtype: float64"
      ]
     },
     "execution_count": 58,
     "metadata": {},
     "output_type": "execute_result"
    }
   ],
   "source": [
    "subreddit_agreement.loc['ThanksObama']"
   ]
  },
  {
   "cell_type": "code",
   "execution_count": 59,
   "metadata": {},
   "outputs": [
    {
     "data": {
      "text/plain": [
       "count               28044.00000\n",
       "count_pos           25522.00000\n",
       "count_neg            2522.00000\n",
       "agreement_factor        0.91007\n",
       "Name: socialism, dtype: float64"
      ]
     },
     "execution_count": 59,
     "metadata": {},
     "output_type": "execute_result"
    }
   ],
   "source": [
    "subreddit_agreement.loc['socialism']"
   ]
  },
  {
   "cell_type": "code",
   "execution_count": 60,
   "metadata": {},
   "outputs": [
    {
     "data": {
      "text/plain": [
       "count               2616.000000\n",
       "count_pos           2388.000000\n",
       "count_neg            228.000000\n",
       "agreement_factor       0.912844\n",
       "Name: communism, dtype: float64"
      ]
     },
     "execution_count": 60,
     "metadata": {},
     "output_type": "execute_result"
    }
   ],
   "source": [
    "subreddit_agreement.loc['communism']"
   ]
  },
  {
   "cell_type": "code",
   "execution_count": 65,
   "metadata": {},
   "outputs": [
    {
     "data": {
      "text/html": [
       "<div>\n",
       "<style scoped>\n",
       "    .dataframe tbody tr th:only-of-type {\n",
       "        vertical-align: middle;\n",
       "    }\n",
       "\n",
       "    .dataframe tbody tr th {\n",
       "        vertical-align: top;\n",
       "    }\n",
       "\n",
       "    .dataframe thead th {\n",
       "        text-align: right;\n",
       "    }\n",
       "</style>\n",
       "<table border=\"1\" class=\"dataframe\">\n",
       "  <thead>\n",
       "    <tr style=\"text-align: right;\">\n",
       "      <th></th>\n",
       "      <th>count</th>\n",
       "      <th>count_pos</th>\n",
       "      <th>count_neg</th>\n",
       "      <th>agreement_factor</th>\n",
       "    </tr>\n",
       "  </thead>\n",
       "  <tbody>\n",
       "    <tr>\n",
       "      <th>count</th>\n",
       "      <td>1.400000e+02</td>\n",
       "      <td>1.400000e+02</td>\n",
       "      <td>140.000000</td>\n",
       "      <td>140.000000</td>\n",
       "    </tr>\n",
       "    <tr>\n",
       "      <th>mean</th>\n",
       "      <td>1.653894e+05</td>\n",
       "      <td>1.508123e+05</td>\n",
       "      <td>14577.128571</td>\n",
       "      <td>0.918552</td>\n",
       "    </tr>\n",
       "    <tr>\n",
       "      <th>std</th>\n",
       "      <td>2.636081e+05</td>\n",
       "      <td>2.436343e+05</td>\n",
       "      <td>24887.883468</td>\n",
       "      <td>0.041687</td>\n",
       "    </tr>\n",
       "    <tr>\n",
       "      <th>min</th>\n",
       "      <td>5.041000e+04</td>\n",
       "      <td>4.527300e+04</td>\n",
       "      <td>189.000000</td>\n",
       "      <td>0.798967</td>\n",
       "    </tr>\n",
       "    <tr>\n",
       "      <th>25%</th>\n",
       "      <td>6.019625e+04</td>\n",
       "      <td>5.608150e+04</td>\n",
       "      <td>4110.500000</td>\n",
       "      <td>0.894980</td>\n",
       "    </tr>\n",
       "    <tr>\n",
       "      <th>50%</th>\n",
       "      <td>8.492350e+04</td>\n",
       "      <td>7.791500e+04</td>\n",
       "      <td>6553.500000</td>\n",
       "      <td>0.920940</td>\n",
       "    </tr>\n",
       "    <tr>\n",
       "      <th>75%</th>\n",
       "      <td>1.513062e+05</td>\n",
       "      <td>1.338102e+05</td>\n",
       "      <td>14155.250000</td>\n",
       "      <td>0.947793</td>\n",
       "    </tr>\n",
       "    <tr>\n",
       "      <th>max</th>\n",
       "      <td>2.155813e+06</td>\n",
       "      <td>2.035769e+06</td>\n",
       "      <td>198631.000000</td>\n",
       "      <td>0.997392</td>\n",
       "    </tr>\n",
       "  </tbody>\n",
       "</table>\n",
       "</div>"
      ],
      "text/plain": [
       "              count     count_pos      count_neg  agreement_factor\n",
       "count  1.400000e+02  1.400000e+02     140.000000        140.000000\n",
       "mean   1.653894e+05  1.508123e+05   14577.128571          0.918552\n",
       "std    2.636081e+05  2.436343e+05   24887.883468          0.041687\n",
       "min    5.041000e+04  4.527300e+04     189.000000          0.798967\n",
       "25%    6.019625e+04  5.608150e+04    4110.500000          0.894980\n",
       "50%    8.492350e+04  7.791500e+04    6553.500000          0.920940\n",
       "75%    1.513062e+05  1.338102e+05   14155.250000          0.947793\n",
       "max    2.155813e+06  2.035769e+06  198631.000000          0.997392"
      ]
     },
     "execution_count": 65,
     "metadata": {},
     "output_type": "execute_result"
    }
   ],
   "source": [
    "subreddit_agreement[subreddit_agreement['count'] > 50000].describe()"
   ]
  },
  {
   "cell_type": "code",
   "execution_count": 88,
   "metadata": {},
   "outputs": [
    {
     "data": {
      "image/png": "[encoded data removed]",
      "text/plain": [
       "<Figure size 432x288 with 1 Axes>"
      ]
     },
     "metadata": {
      "needs_background": "light"
     },
     "output_type": "display_data"
    }
   ],
   "source": [
    "plot_daily_metric(daily_agreement[(daily_agreement.index > dt.date(2016, 10, 29))], 'agreement_factor')"
   ]
  },
  {
   "cell_type": "code",
   "execution_count": 85,
   "metadata": {},
   "outputs": [
    {
     "data": {
      "image/png": "[encoded data removed]",
      "text/plain": [
       "<Figure size 432x288 with 1 Axes>"
      ]
     },
     "metadata": {
      "needs_background": "light"
     },
     "output_type": "display_data"
    }
   ],
   "source": [
    "plot_daily_metric(daily_agreement[(daily_agreement.index > dt.date(2016, 11, 1))], 'agreement_factor')"
   ]
  },
  {
   "cell_type": "code",
   "execution_count": 89,
   "metadata": {},
   "outputs": [
    {
     "data": {
      "text/plain": [
       "DataFrame[distinguished: string, retrieved_on: string, gilded: int, edited: int, id: string, parent_id: string, flair_text: string, author: string, score: int, ups: int, downs: int, created_utc: string, author_flair_text: string, author_flair_css_class: string, author_flair_context: string, flair_css_class: string, subreddit: string, subreddit_id: string, score_hidden: boolean, stickied: boolean, link_id: string, controversiality: int, body: string, archived: boolean]"
      ]
     },
     "execution_count": 89,
     "metadata": {},
     "output_type": "execute_result"
    }
   ],
   "source": [
    "comments"
   ]
  },
  {
   "cell_type": "code",
   "execution_count": 96,
   "metadata": {},
   "outputs": [
    {
     "name": "stdout",
     "output_type": "stream",
     "text": [
      "+----+\n",
      "|body|\n",
      "+----+\n",
      "+----+\n",
      "\n"
     ]
    }
   ],
   "source": [
    "spark.sql(\"\"\"\n",
    "    SELECT body\n",
    "    FROM comments\n",
    "    WHERE subreddit == 'announcements' AND created_utc > 1477785600 AND created_utc < 1478390400\n",
    "\"\"\").show()"
   ]
  },
  {
   "cell_type": "code",
   "execution_count": 97,
   "metadata": {},
   "outputs": [
    {
     "data": {
      "text/plain": [
       "count               1.574613e+06\n",
       "count_pos           1.375982e+06\n",
       "count_neg           1.986310e+05\n",
       "agreement_factor    8.738541e-01\n",
       "Name: politics, dtype: float64"
      ]
     },
     "execution_count": 97,
     "metadata": {},
     "output_type": "execute_result"
    }
   ],
   "source": [
    "subreddit_agreement.loc['politics']"
   ]
  },
  {
   "cell_type": "code",
   "execution_count": 98,
   "metadata": {},
   "outputs": [
    {
     "data": {
      "text/plain": [
       "count               18329.000000\n",
       "count_pos           17020.000000\n",
       "count_neg            1309.000000\n",
       "agreement_factor        0.928583\n",
       "Name: askscience, dtype: float64"
      ]
     },
     "execution_count": 98,
     "metadata": {},
     "output_type": "execute_result"
    }
   ],
   "source": [
    "subreddit_agreement.loc['askscience']"
   ]
  },
  {
   "cell_type": "code",
   "execution_count": 99,
   "metadata": {},
   "outputs": [
    {
     "data": {
      "text/plain": [
       "count               46967.000000\n",
       "count_pos           42553.000000\n",
       "count_neg            4414.000000\n",
       "agreement_factor        0.906019\n",
       "Name: science, dtype: float64"
      ]
     },
     "execution_count": 99,
     "metadata": {},
     "output_type": "execute_result"
    }
   ],
   "source": [
    "subreddit_agreement.loc['science']"
   ]
  },
  {
   "cell_type": "code",
   "execution_count": 101,
   "metadata": {},
   "outputs": [
    {
     "data": {
      "text/plain": [
       "count               128.000000\n",
       "count_pos           119.000000\n",
       "count_neg             9.000000\n",
       "agreement_factor      0.929688\n",
       "Name: LGBTnews, dtype: float64"
      ]
     },
     "execution_count": 101,
     "metadata": {},
     "output_type": "execute_result"
    }
   ],
   "source": [
    "subreddit_agreement.loc['LGBTnews']"
   ]
  },
  {
   "cell_type": "code",
   "execution_count": 106,
   "metadata": {},
   "outputs": [
    {
     "data": {
      "text/plain": [
       "count               35964.000000\n",
       "count_pos           31984.000000\n",
       "count_neg            3980.000000\n",
       "agreement_factor        0.889334\n",
       "Name: Libertarian, dtype: float64"
      ]
     },
     "execution_count": 106,
     "metadata": {},
     "output_type": "execute_result"
    }
   ],
   "source": [
    "subreddit_agreement.loc['Libertarian']"
   ]
  },
  {
   "cell_type": "code",
   "execution_count": 107,
   "metadata": {},
   "outputs": [
    {
     "data": {
      "text/plain": [
       "count               18993.000000\n",
       "count_pos           17531.000000\n",
       "count_neg            1462.000000\n",
       "agreement_factor        0.923024\n",
       "Name: Anarchism, dtype: float64"
      ]
     },
     "execution_count": 107,
     "metadata": {},
     "output_type": "execute_result"
    }
   ],
   "source": [
    "subreddit_agreement.loc['Anarchism']"
   ]
  },
  {
   "cell_type": "code",
   "execution_count": 109,
   "metadata": {},
   "outputs": [
    {
     "data": {
      "text/plain": [
       "count               28044.00000\n",
       "count_pos           25522.00000\n",
       "count_neg            2522.00000\n",
       "agreement_factor        0.91007\n",
       "Name: socialism, dtype: float64"
      ]
     },
     "execution_count": 109,
     "metadata": {},
     "output_type": "execute_result"
    }
   ],
   "source": [
    "subreddit_agreement.loc['socialism']"
   ]
  },
  {
   "cell_type": "code",
   "execution_count": 111,
   "metadata": {},
   "outputs": [
    {
     "data": {
      "text/plain": [
       "count               50410.000000\n",
       "count_pos           47560.000000\n",
       "count_neg            2850.000000\n",
       "agreement_factor        0.943464\n",
       "Name: Conservative, dtype: float64"
      ]
     },
     "execution_count": 111,
     "metadata": {},
     "output_type": "execute_result"
    }
   ],
   "source": [
    "subreddit_agreement.loc['Conservative']"
   ]
  },
  {
   "cell_type": "code",
   "execution_count": 115,
   "metadata": {},
   "outputs": [
    {
     "data": {
      "text/plain": [
       "count               1685.000000\n",
       "count_pos           1434.000000\n",
       "count_neg            251.000000\n",
       "agreement_factor       0.851039\n",
       "Name: Liberal, dtype: float64"
      ]
     },
     "execution_count": 115,
     "metadata": {},
     "output_type": "execute_result"
    }
   ],
   "source": [
    "subreddit_agreement.loc['Liberal']"
   ]
  },
  {
   "cell_type": "code",
   "execution_count": 118,
   "metadata": {},
   "outputs": [
    {
     "data": {
      "text/plain": [
       "count               11146.000000\n",
       "count_pos           10068.000000\n",
       "count_neg            1078.000000\n",
       "agreement_factor        0.903284\n",
       "Name: Republican, dtype: float64"
      ]
     },
     "execution_count": 118,
     "metadata": {},
     "output_type": "execute_result"
    }
   ],
   "source": [
    "subreddit_agreement.loc['Republican']"
   ]
  },
  {
   "cell_type": "code",
   "execution_count": 130,
   "metadata": {},
   "outputs": [
    {
     "data": {
      "text/plain": [
       "count               162.000000\n",
       "count_pos           158.000000\n",
       "count_neg             4.000000\n",
       "agreement_factor      0.975309\n",
       "Name: Capitalism, dtype: float64"
      ]
     },
     "execution_count": 130,
     "metadata": {},
     "output_type": "execute_result"
    }
   ],
   "source": [
    "subreddit_agreement.loc['Capitalism']"
   ]
  },
  {
   "cell_type": "code",
   "execution_count": 131,
   "metadata": {},
   "outputs": [
    {
     "data": {
      "text/plain": [
       "count               2664.000000\n",
       "count_pos           2296.000000\n",
       "count_neg            368.000000\n",
       "agreement_factor       0.861862\n",
       "Name: Feminism, dtype: float64"
      ]
     },
     "execution_count": 131,
     "metadata": {},
     "output_type": "execute_result"
    }
   ],
   "source": [
    "subreddit_agreement.loc['Feminism']"
   ]
  },
  {
   "cell_type": "code",
   "execution_count": 135,
   "metadata": {},
   "outputs": [
    {
     "data": {
      "text/plain": [
       "count               213.000000\n",
       "count_pos           177.000000\n",
       "count_neg            36.000000\n",
       "agreement_factor      0.830986\n",
       "Name: occupywallstreet, dtype: float64"
      ]
     },
     "execution_count": 135,
     "metadata": {},
     "output_type": "execute_result"
    }
   ],
   "source": [
    "subreddit_agreement.loc['occupywallstreet']"
   ]
  },
  {
   "cell_type": "code",
   "execution_count": 141,
   "metadata": {},
   "outputs": [
    {
     "data": {
      "text/plain": [
       "count               163363.000000\n",
       "count_pos           150742.000000\n",
       "count_neg            12621.000000\n",
       "agreement_factor         0.922743\n",
       "Name: conspiracy, dtype: float64"
      ]
     },
     "execution_count": 141,
     "metadata": {},
     "output_type": "execute_result"
    }
   ],
   "source": [
    "subreddit_agreement.loc['conspiracy']"
   ]
  },
  {
   "cell_type": "code",
   "execution_count": 144,
   "metadata": {},
   "outputs": [
    {
     "data": {
      "text/plain": [
       "count               1510.000000\n",
       "count_pos           1393.000000\n",
       "count_neg            117.000000\n",
       "agreement_factor       0.922517\n",
       "Name: climateskeptics, dtype: float64"
      ]
     },
     "execution_count": 144,
     "metadata": {},
     "output_type": "execute_result"
    }
   ],
   "source": [
    "subreddit_agreement.loc['climateskeptics']"
   ]
  },
  {
   "cell_type": "code",
   "execution_count": 150,
   "metadata": {},
   "outputs": [
    {
     "data": {
      "text/plain": [
       "count               323575.000000\n",
       "count_pos           283852.000000\n",
       "count_neg            39723.000000\n",
       "agreement_factor         0.877237\n",
       "Name: leagueoflegends, dtype: float64"
      ]
     },
     "execution_count": 150,
     "metadata": {},
     "output_type": "execute_result"
    }
   ],
   "source": [
    "subreddit_agreement.loc['leagueoflegends']"
   ]
  },
  {
   "cell_type": "code",
   "execution_count": 156,
   "metadata": {},
   "outputs": [
    {
     "data": {
      "text/plain": [
       "count               61112.000000\n",
       "count_pos           59867.000000\n",
       "count_neg            1245.000000\n",
       "agreement_factor        0.979628\n",
       "Name: 4chan, dtype: float64"
      ]
     },
     "execution_count": 156,
     "metadata": {},
     "output_type": "execute_result"
    }
   ],
   "source": [
    "subreddit_agreement.loc['4chan']"
   ]
  },
  {
   "cell_type": "code",
   "execution_count": 157,
   "metadata": {},
   "outputs": [
    {
     "data": {
      "text/plain": [
       "count               58214.000000\n",
       "count_pos           54361.000000\n",
       "count_neg            3853.000000\n",
       "agreement_factor        0.933813\n",
       "Name: guns, dtype: float64"
      ]
     },
     "execution_count": 157,
     "metadata": {},
     "output_type": "execute_result"
    }
   ],
   "source": [
    "subreddit_agreement.loc['guns']"
   ]
  },
  {
   "cell_type": "code",
   "execution_count": 6,
   "metadata": {},
   "outputs": [
    {
     "data": {
      "text/plain": [
       "count               45248.000000\n",
       "count_pos           44587.000000\n",
       "count_neg             661.000000\n",
       "agreement_factor        0.985392\n",
       "Name: FULLCOMMUNISM, dtype: float64"
      ]
     },
     "execution_count": 6,
     "metadata": {},
     "output_type": "execute_result"
    }
   ],
   "source": [
    "subreddit_agreement.loc['FULLCOMMUNISM']"
   ]
  },
  {
   "cell_type": "code",
   "execution_count": 12,
   "metadata": {},
   "outputs": [
    {
     "data": {
      "text/html": [
       "<div>\n",
       "<style scoped>\n",
       "    .dataframe tbody tr th:only-of-type {\n",
       "        vertical-align: middle;\n",
       "    }\n",
       "\n",
       "    .dataframe tbody tr th {\n",
       "        vertical-align: top;\n",
       "    }\n",
       "\n",
       "    .dataframe thead th {\n",
       "        text-align: right;\n",
       "    }\n",
       "</style>\n",
       "<table border=\"1\" class=\"dataframe\">\n",
       "  <thead>\n",
       "    <tr style=\"text-align: right;\">\n",
       "      <th></th>\n",
       "      <th>count</th>\n",
       "      <th>count_pos</th>\n",
       "      <th>count_neg</th>\n",
       "      <th>agreement_factor</th>\n",
       "    </tr>\n",
       "    <tr>\n",
       "      <th>subreddit</th>\n",
       "      <th></th>\n",
       "      <th></th>\n",
       "      <th></th>\n",
       "      <th></th>\n",
       "    </tr>\n",
       "  </thead>\n",
       "  <tbody>\n",
       "    <tr>\n",
       "      <th>The_Donald</th>\n",
       "      <td>1362473</td>\n",
       "      <td>1341990</td>\n",
       "      <td>20483</td>\n",
       "      <td>0.984966</td>\n",
       "    </tr>\n",
       "    <tr>\n",
       "      <th>CFB</th>\n",
       "      <td>198176</td>\n",
       "      <td>189352</td>\n",
       "      <td>8824</td>\n",
       "      <td>0.955474</td>\n",
       "    </tr>\n",
       "    <tr>\n",
       "      <th>anime</th>\n",
       "      <td>189703</td>\n",
       "      <td>183886</td>\n",
       "      <td>5817</td>\n",
       "      <td>0.969336</td>\n",
       "    </tr>\n",
       "    <tr>\n",
       "      <th>CollegeBasketball</th>\n",
       "      <td>187680</td>\n",
       "      <td>178670</td>\n",
       "      <td>9010</td>\n",
       "      <td>0.951993</td>\n",
       "    </tr>\n",
       "    <tr>\n",
       "      <th>rupaulsdragrace</th>\n",
       "      <td>164758</td>\n",
       "      <td>157491</td>\n",
       "      <td>7267</td>\n",
       "      <td>0.955893</td>\n",
       "    </tr>\n",
       "    <tr>\n",
       "      <th>Showerthoughts</th>\n",
       "      <td>157869</td>\n",
       "      <td>150245</td>\n",
       "      <td>7624</td>\n",
       "      <td>0.951707</td>\n",
       "    </tr>\n",
       "    <tr>\n",
       "      <th>CringeAnarchy</th>\n",
       "      <td>122865</td>\n",
       "      <td>118196</td>\n",
       "      <td>4669</td>\n",
       "      <td>0.961999</td>\n",
       "    </tr>\n",
       "    <tr>\n",
       "      <th>AskMen</th>\n",
       "      <td>101157</td>\n",
       "      <td>96772</td>\n",
       "      <td>4385</td>\n",
       "      <td>0.956652</td>\n",
       "    </tr>\n",
       "    <tr>\n",
       "      <th>AskWomen</th>\n",
       "      <td>97634</td>\n",
       "      <td>94812</td>\n",
       "      <td>2822</td>\n",
       "      <td>0.971096</td>\n",
       "    </tr>\n",
       "    <tr>\n",
       "      <th>teenmom</th>\n",
       "      <td>96030</td>\n",
       "      <td>95035</td>\n",
       "      <td>995</td>\n",
       "      <td>0.989639</td>\n",
       "    </tr>\n",
       "    <tr>\n",
       "      <th>TumblrInAction</th>\n",
       "      <td>91867</td>\n",
       "      <td>89751</td>\n",
       "      <td>2116</td>\n",
       "      <td>0.976967</td>\n",
       "    </tr>\n",
       "    <tr>\n",
       "      <th>Cricket</th>\n",
       "      <td>88442</td>\n",
       "      <td>85078</td>\n",
       "      <td>3364</td>\n",
       "      <td>0.961964</td>\n",
       "    </tr>\n",
       "    <tr>\n",
       "      <th>fatlogic</th>\n",
       "      <td>85095</td>\n",
       "      <td>83961</td>\n",
       "      <td>1134</td>\n",
       "      <td>0.986674</td>\n",
       "    </tr>\n",
       "    <tr>\n",
       "      <th>me_irl</th>\n",
       "      <td>79138</td>\n",
       "      <td>76227</td>\n",
       "      <td>2911</td>\n",
       "      <td>0.963216</td>\n",
       "    </tr>\n",
       "    <tr>\n",
       "      <th>JUSTNOMIL</th>\n",
       "      <td>72471</td>\n",
       "      <td>72282</td>\n",
       "      <td>189</td>\n",
       "      <td>0.997392</td>\n",
       "    </tr>\n",
       "    <tr>\n",
       "      <th>childfree</th>\n",
       "      <td>72211</td>\n",
       "      <td>69724</td>\n",
       "      <td>2487</td>\n",
       "      <td>0.965559</td>\n",
       "    </tr>\n",
       "    <tr>\n",
       "      <th>LifeProTips</th>\n",
       "      <td>70384</td>\n",
       "      <td>67286</td>\n",
       "      <td>3098</td>\n",
       "      <td>0.955984</td>\n",
       "    </tr>\n",
       "    <tr>\n",
       "      <th>survivor</th>\n",
       "      <td>70105</td>\n",
       "      <td>67527</td>\n",
       "      <td>2578</td>\n",
       "      <td>0.963227</td>\n",
       "    </tr>\n",
       "    <tr>\n",
       "      <th>RWBY</th>\n",
       "      <td>68210</td>\n",
       "      <td>67825</td>\n",
       "      <td>385</td>\n",
       "      <td>0.994356</td>\n",
       "    </tr>\n",
       "    <tr>\n",
       "      <th>bodybuilding</th>\n",
       "      <td>68042</td>\n",
       "      <td>64862</td>\n",
       "      <td>3180</td>\n",
       "      <td>0.953264</td>\n",
       "    </tr>\n",
       "    <tr>\n",
       "      <th>exmormon</th>\n",
       "      <td>66736</td>\n",
       "      <td>66018</td>\n",
       "      <td>718</td>\n",
       "      <td>0.989241</td>\n",
       "    </tr>\n",
       "    <tr>\n",
       "      <th>FireEmblemHeroes</th>\n",
       "      <td>64639</td>\n",
       "      <td>61481</td>\n",
       "      <td>3158</td>\n",
       "      <td>0.951144</td>\n",
       "    </tr>\n",
       "    <tr>\n",
       "      <th>4chan</th>\n",
       "      <td>61112</td>\n",
       "      <td>59867</td>\n",
       "      <td>1245</td>\n",
       "      <td>0.979628</td>\n",
       "    </tr>\n",
       "    <tr>\n",
       "      <th>PrequelMemes</th>\n",
       "      <td>60820</td>\n",
       "      <td>59857</td>\n",
       "      <td>963</td>\n",
       "      <td>0.984166</td>\n",
       "    </tr>\n",
       "    <tr>\n",
       "      <th>TwoBestFriendsPlay</th>\n",
       "      <td>59311</td>\n",
       "      <td>57827</td>\n",
       "      <td>1484</td>\n",
       "      <td>0.974979</td>\n",
       "    </tr>\n",
       "    <tr>\n",
       "      <th>stevenuniverse</th>\n",
       "      <td>58174</td>\n",
       "      <td>56997</td>\n",
       "      <td>1177</td>\n",
       "      <td>0.979768</td>\n",
       "    </tr>\n",
       "    <tr>\n",
       "      <th>wholesomememes</th>\n",
       "      <td>58112</td>\n",
       "      <td>56147</td>\n",
       "      <td>1965</td>\n",
       "      <td>0.966186</td>\n",
       "    </tr>\n",
       "    <tr>\n",
       "      <th>OkCupid</th>\n",
       "      <td>56680</td>\n",
       "      <td>54127</td>\n",
       "      <td>2553</td>\n",
       "      <td>0.954958</td>\n",
       "    </tr>\n",
       "    <tr>\n",
       "      <th>Drama</th>\n",
       "      <td>56250</td>\n",
       "      <td>54660</td>\n",
       "      <td>1590</td>\n",
       "      <td>0.971733</td>\n",
       "    </tr>\n",
       "    <tr>\n",
       "      <th>pokemon</th>\n",
       "      <td>55453</td>\n",
       "      <td>53446</td>\n",
       "      <td>2007</td>\n",
       "      <td>0.963807</td>\n",
       "    </tr>\n",
       "    <tr>\n",
       "      <th>...</th>\n",
       "      <td>...</td>\n",
       "      <td>...</td>\n",
       "      <td>...</td>\n",
       "      <td>...</td>\n",
       "    </tr>\n",
       "    <tr>\n",
       "      <th>FantasyBookers</th>\n",
       "      <td>102</td>\n",
       "      <td>101</td>\n",
       "      <td>1</td>\n",
       "      <td>0.990196</td>\n",
       "    </tr>\n",
       "    <tr>\n",
       "      <th>MiiverseInAction</th>\n",
       "      <td>102</td>\n",
       "      <td>102</td>\n",
       "      <td>0</td>\n",
       "      <td>1.000000</td>\n",
       "    </tr>\n",
       "    <tr>\n",
       "      <th>dawnoftitans</th>\n",
       "      <td>102</td>\n",
       "      <td>99</td>\n",
       "      <td>3</td>\n",
       "      <td>0.970588</td>\n",
       "    </tr>\n",
       "    <tr>\n",
       "      <th>ETHInsider</th>\n",
       "      <td>102</td>\n",
       "      <td>102</td>\n",
       "      <td>0</td>\n",
       "      <td>1.000000</td>\n",
       "    </tr>\n",
       "    <tr>\n",
       "      <th>GuysFromBehind</th>\n",
       "      <td>102</td>\n",
       "      <td>99</td>\n",
       "      <td>3</td>\n",
       "      <td>0.970588</td>\n",
       "    </tr>\n",
       "    <tr>\n",
       "      <th>peegonewild</th>\n",
       "      <td>102</td>\n",
       "      <td>98</td>\n",
       "      <td>4</td>\n",
       "      <td>0.960784</td>\n",
       "    </tr>\n",
       "    <tr>\n",
       "      <th>soundtracks</th>\n",
       "      <td>102</td>\n",
       "      <td>99</td>\n",
       "      <td>3</td>\n",
       "      <td>0.970588</td>\n",
       "    </tr>\n",
       "    <tr>\n",
       "      <th>Cardiff</th>\n",
       "      <td>102</td>\n",
       "      <td>98</td>\n",
       "      <td>4</td>\n",
       "      <td>0.960784</td>\n",
       "    </tr>\n",
       "    <tr>\n",
       "      <th>bandmembers</th>\n",
       "      <td>102</td>\n",
       "      <td>97</td>\n",
       "      <td>5</td>\n",
       "      <td>0.950980</td>\n",
       "    </tr>\n",
       "    <tr>\n",
       "      <th>tf2shitposterclub</th>\n",
       "      <td>101</td>\n",
       "      <td>100</td>\n",
       "      <td>1</td>\n",
       "      <td>0.990099</td>\n",
       "    </tr>\n",
       "    <tr>\n",
       "      <th>gratefuldoe</th>\n",
       "      <td>101</td>\n",
       "      <td>100</td>\n",
       "      <td>1</td>\n",
       "      <td>0.990099</td>\n",
       "    </tr>\n",
       "    <tr>\n",
       "      <th>samoyeds</th>\n",
       "      <td>101</td>\n",
       "      <td>100</td>\n",
       "      <td>1</td>\n",
       "      <td>0.990099</td>\n",
       "    </tr>\n",
       "    <tr>\n",
       "      <th>Hungergames</th>\n",
       "      <td>101</td>\n",
       "      <td>96</td>\n",
       "      <td>5</td>\n",
       "      <td>0.950495</td>\n",
       "    </tr>\n",
       "    <tr>\n",
       "      <th>inthenameofkittens</th>\n",
       "      <td>101</td>\n",
       "      <td>99</td>\n",
       "      <td>2</td>\n",
       "      <td>0.980198</td>\n",
       "    </tr>\n",
       "    <tr>\n",
       "      <th>magi</th>\n",
       "      <td>101</td>\n",
       "      <td>100</td>\n",
       "      <td>1</td>\n",
       "      <td>0.990099</td>\n",
       "    </tr>\n",
       "    <tr>\n",
       "      <th>wrestlingisreddit</th>\n",
       "      <td>101</td>\n",
       "      <td>100</td>\n",
       "      <td>1</td>\n",
       "      <td>0.990099</td>\n",
       "    </tr>\n",
       "    <tr>\n",
       "      <th>askswitzerland</th>\n",
       "      <td>101</td>\n",
       "      <td>96</td>\n",
       "      <td>5</td>\n",
       "      <td>0.950495</td>\n",
       "    </tr>\n",
       "    <tr>\n",
       "      <th>talesfrommedicine</th>\n",
       "      <td>101</td>\n",
       "      <td>98</td>\n",
       "      <td>3</td>\n",
       "      <td>0.970297</td>\n",
       "    </tr>\n",
       "    <tr>\n",
       "      <th>AskaJW</th>\n",
       "      <td>101</td>\n",
       "      <td>101</td>\n",
       "      <td>0</td>\n",
       "      <td>1.000000</td>\n",
       "    </tr>\n",
       "    <tr>\n",
       "      <th>DarkMatter</th>\n",
       "      <td>101</td>\n",
       "      <td>98</td>\n",
       "      <td>3</td>\n",
       "      <td>0.970297</td>\n",
       "    </tr>\n",
       "    <tr>\n",
       "      <th>ketochow</th>\n",
       "      <td>101</td>\n",
       "      <td>96</td>\n",
       "      <td>5</td>\n",
       "      <td>0.950495</td>\n",
       "    </tr>\n",
       "    <tr>\n",
       "      <th>glassanimals</th>\n",
       "      <td>101</td>\n",
       "      <td>101</td>\n",
       "      <td>0</td>\n",
       "      <td>1.000000</td>\n",
       "    </tr>\n",
       "    <tr>\n",
       "      <th>Snus</th>\n",
       "      <td>101</td>\n",
       "      <td>98</td>\n",
       "      <td>3</td>\n",
       "      <td>0.970297</td>\n",
       "    </tr>\n",
       "    <tr>\n",
       "      <th>Columbine</th>\n",
       "      <td>101</td>\n",
       "      <td>97</td>\n",
       "      <td>4</td>\n",
       "      <td>0.960396</td>\n",
       "    </tr>\n",
       "    <tr>\n",
       "      <th>Cortex</th>\n",
       "      <td>101</td>\n",
       "      <td>100</td>\n",
       "      <td>1</td>\n",
       "      <td>0.990099</td>\n",
       "    </tr>\n",
       "    <tr>\n",
       "      <th>Andromeda321</th>\n",
       "      <td>101</td>\n",
       "      <td>100</td>\n",
       "      <td>1</td>\n",
       "      <td>0.990099</td>\n",
       "    </tr>\n",
       "    <tr>\n",
       "      <th>February2017Bumpers</th>\n",
       "      <td>101</td>\n",
       "      <td>101</td>\n",
       "      <td>0</td>\n",
       "      <td>1.000000</td>\n",
       "    </tr>\n",
       "    <tr>\n",
       "      <th>animalssmiling</th>\n",
       "      <td>101</td>\n",
       "      <td>97</td>\n",
       "      <td>4</td>\n",
       "      <td>0.960396</td>\n",
       "    </tr>\n",
       "    <tr>\n",
       "      <th>SpeculativeEvolution</th>\n",
       "      <td>101</td>\n",
       "      <td>98</td>\n",
       "      <td>3</td>\n",
       "      <td>0.970297</td>\n",
       "    </tr>\n",
       "    <tr>\n",
       "      <th>LandRover</th>\n",
       "      <td>101</td>\n",
       "      <td>101</td>\n",
       "      <td>0</td>\n",
       "      <td>1.000000</td>\n",
       "    </tr>\n",
       "  </tbody>\n",
       "</table>\n",
       "<p>3624 rows × 4 columns</p>\n",
       "</div>"
      ],
      "text/plain": [
       "                        count  count_pos  count_neg  agreement_factor\n",
       "subreddit                                                            \n",
       "The_Donald            1362473    1341990      20483          0.984966\n",
       "CFB                    198176     189352       8824          0.955474\n",
       "anime                  189703     183886       5817          0.969336\n",
       "CollegeBasketball      187680     178670       9010          0.951993\n",
       "rupaulsdragrace        164758     157491       7267          0.955893\n",
       "Showerthoughts         157869     150245       7624          0.951707\n",
       "CringeAnarchy          122865     118196       4669          0.961999\n",
       "AskMen                 101157      96772       4385          0.956652\n",
       "AskWomen                97634      94812       2822          0.971096\n",
       "teenmom                 96030      95035        995          0.989639\n",
       "TumblrInAction          91867      89751       2116          0.976967\n",
       "Cricket                 88442      85078       3364          0.961964\n",
       "fatlogic                85095      83961       1134          0.986674\n",
       "me_irl                  79138      76227       2911          0.963216\n",
       "JUSTNOMIL               72471      72282        189          0.997392\n",
       "childfree               72211      69724       2487          0.965559\n",
       "LifeProTips             70384      67286       3098          0.955984\n",
       "survivor                70105      67527       2578          0.963227\n",
       "RWBY                    68210      67825        385          0.994356\n",
       "bodybuilding            68042      64862       3180          0.953264\n",
       "exmormon                66736      66018        718          0.989241\n",
       "FireEmblemHeroes        64639      61481       3158          0.951144\n",
       "4chan                   61112      59867       1245          0.979628\n",
       "PrequelMemes            60820      59857        963          0.984166\n",
       "TwoBestFriendsPlay      59311      57827       1484          0.974979\n",
       "stevenuniverse          58174      56997       1177          0.979768\n",
       "wholesomememes          58112      56147       1965          0.966186\n",
       "OkCupid                 56680      54127       2553          0.954958\n",
       "Drama                   56250      54660       1590          0.971733\n",
       "pokemon                 55453      53446       2007          0.963807\n",
       "...                       ...        ...        ...               ...\n",
       "FantasyBookers            102        101          1          0.990196\n",
       "MiiverseInAction          102        102          0          1.000000\n",
       "dawnoftitans              102         99          3          0.970588\n",
       "ETHInsider                102        102          0          1.000000\n",
       "GuysFromBehind            102         99          3          0.970588\n",
       "peegonewild               102         98          4          0.960784\n",
       "soundtracks               102         99          3          0.970588\n",
       "Cardiff                   102         98          4          0.960784\n",
       "bandmembers               102         97          5          0.950980\n",
       "tf2shitposterclub         101        100          1          0.990099\n",
       "gratefuldoe               101        100          1          0.990099\n",
       "samoyeds                  101        100          1          0.990099\n",
       "Hungergames               101         96          5          0.950495\n",
       "inthenameofkittens        101         99          2          0.980198\n",
       "magi                      101        100          1          0.990099\n",
       "wrestlingisreddit         101        100          1          0.990099\n",
       "askswitzerland            101         96          5          0.950495\n",
       "talesfrommedicine         101         98          3          0.970297\n",
       "AskaJW                    101        101          0          1.000000\n",
       "DarkMatter                101         98          3          0.970297\n",
       "ketochow                  101         96          5          0.950495\n",
       "glassanimals              101        101          0          1.000000\n",
       "Snus                      101         98          3          0.970297\n",
       "Columbine                 101         97          4          0.960396\n",
       "Cortex                    101        100          1          0.990099\n",
       "Andromeda321              101        100          1          0.990099\n",
       "February2017Bumpers       101        101          0          1.000000\n",
       "animalssmiling            101         97          4          0.960396\n",
       "SpeculativeEvolution      101         98          3          0.970297\n",
       "LandRover                 101        101          0          1.000000\n",
       "\n",
       "[3624 rows x 4 columns]"
      ]
     },
     "execution_count": 12,
     "metadata": {},
     "output_type": "execute_result"
    }
   ],
   "source": [
    "subreddit_agreement[subreddit_agreement['agreement_factor'] > 0.95].sort_values('count', ascending=False)"
   ]
  },
  {
   "cell_type": "code",
   "execution_count": 16,
   "metadata": {},
   "outputs": [
    {
     "name": "stdout",
     "output_type": "stream",
     "text": [
      "+----------------------------------+\n",
      "|stddev_samp(CAST(score AS DOUBLE))|\n",
      "+----------------------------------+\n",
      "|                 59.38612728132955|\n",
      "+----------------------------------+\n",
      "\n"
     ]
    }
   ],
   "source": [
    "spark.sql(\"\"\"\n",
    "    SELECT STD(score)\n",
    "    FROM comments\n",
    "    WHERE subreddit == '4chan'\n",
    "\"\"\").show()"
   ]
  },
  {
   "cell_type": "code",
   "execution_count": 17,
   "metadata": {},
   "outputs": [
    {
     "name": "stdout",
     "output_type": "stream",
     "text": [
      "+-----------------------------------------------------------------+\n",
      "|(stddev_samp(CAST(score AS DOUBLE)) / avg(CAST(score AS BIGINT)))|\n",
      "+-----------------------------------------------------------------+\n",
      "|                                                4.614261554826212|\n",
      "+-----------------------------------------------------------------+\n",
      "\n"
     ]
    }
   ],
   "source": [
    "spark.sql(\"\"\"\n",
    "    SELECT STD(score) / AVG(score)\n",
    "    FROM comments\n",
    "    WHERE subreddit == '4chan'\n",
    "\"\"\").show()"
   ]
  },
  {
   "cell_type": "code",
   "execution_count": 18,
   "metadata": {},
   "outputs": [
    {
     "name": "stdout",
     "output_type": "stream",
     "text": [
      "+-----------------------------------------------------------------+\n",
      "|(stddev_samp(CAST(score AS DOUBLE)) / avg(CAST(score AS BIGINT)))|\n",
      "+-----------------------------------------------------------------+\n",
      "|                                                1.352286899902947|\n",
      "+-----------------------------------------------------------------+\n",
      "\n"
     ]
    }
   ],
   "source": [
    "spark.sql(\"\"\"\n",
    "    SELECT STD(score) / AVG(score)\n",
    "    FROM comments\n",
    "    WHERE subreddit == 'xbox'\n",
    "\"\"\").show()"
   ]
  },
  {
   "cell_type": "code",
   "execution_count": 19,
   "metadata": {},
   "outputs": [
    {
     "name": "stdout",
     "output_type": "stream",
     "text": [
      "+-----------------------------------------------------------------+\n",
      "|(stddev_samp(CAST(score AS DOUBLE)) / avg(CAST(score AS BIGINT)))|\n",
      "+-----------------------------------------------------------------+\n",
      "|                                               1.4000217083402695|\n",
      "+-----------------------------------------------------------------+\n",
      "\n"
     ]
    }
   ],
   "source": [
    "spark.sql(\"\"\"\n",
    "    SELECT STD(score) / AVG(score)\n",
    "    FROM comments\n",
    "    WHERE subreddit == 'hearthstonecirclejerk'\n",
    "\"\"\").show()"
   ]
  },
  {
   "cell_type": "code",
   "execution_count": 5,
   "metadata": {},
   "outputs": [],
   "source": [
    "a = spark.sql(\"\"\"\n",
    "    SELECT \n",
    "        subreddit, \n",
    "        COUNT(*) as count, \n",
    "        AVG(score) as avg_score,\n",
    "        STD(score) as std_score,\n",
    "        STD(score) / AVG(score) as avg_std_score,\n",
    "        SUM(CASE WHEN score > 1 THEN 1 ELSE 0 END) AS count_pos,\n",
    "        SUM(CASE WHEN score < 1 THEN 1 ELSE 0 END) AS count_neg,\n",
    "        (SUM(CASE WHEN score > 1 THEN 1 ELSE 0 END) / COUNT(*)) AS agreement_factor\n",
    "    FROM comments\n",
    "    GROUP BY subreddit\n",
    "    HAVING COUNT(*) > 100\n",
    "\"\"\")"
   ]
  },
  {
   "cell_type": "code",
   "execution_count": 23,
   "metadata": {},
   "outputs": [
    {
     "data": {
      "text/plain": [
       "(6729, 4)"
      ]
     },
     "execution_count": 23,
     "metadata": {},
     "output_type": "execute_result"
    }
   ],
   "source": [
    "subreddit_agreement.shape"
   ]
  },
  {
   "cell_type": "code",
   "execution_count": 6,
   "metadata": {},
   "outputs": [],
   "source": [
    "b = a.toPandas()"
   ]
  },
  {
   "cell_type": "code",
   "execution_count": 12,
   "metadata": {},
   "outputs": [
    {
     "data": {
      "text/html": [
       "<div>\n",
       "<style scoped>\n",
       "    .dataframe tbody tr th:only-of-type {\n",
       "        vertical-align: middle;\n",
       "    }\n",
       "\n",
       "    .dataframe tbody tr th {\n",
       "        vertical-align: top;\n",
       "    }\n",
       "\n",
       "    .dataframe thead th {\n",
       "        text-align: right;\n",
       "    }\n",
       "</style>\n",
       "<table border=\"1\" class=\"dataframe\">\n",
       "  <thead>\n",
       "    <tr style=\"text-align: right;\">\n",
       "      <th></th>\n",
       "      <th>subreddit</th>\n",
       "      <th>count</th>\n",
       "      <th>avg_score</th>\n",
       "      <th>std_score</th>\n",
       "      <th>avg_std_score</th>\n",
       "      <th>count_pos</th>\n",
       "      <th>count_neg</th>\n",
       "      <th>agreement_factor</th>\n",
       "    </tr>\n",
       "  </thead>\n",
       "  <tbody>\n",
       "    <tr>\n",
       "      <th>168</th>\n",
       "      <td>AskReddit</td>\n",
       "      <td>569779</td>\n",
       "      <td>11.004876</td>\n",
       "      <td>120.533037</td>\n",
       "      <td>10.952694</td>\n",
       "      <td>232533</td>\n",
       "      <td>42128</td>\n",
       "      <td>0.408111</td>\n",
       "    </tr>\n",
       "    <tr>\n",
       "      <th>2860</th>\n",
       "      <td>BlackPeopleTwitter</td>\n",
       "      <td>5468</td>\n",
       "      <td>20.852597</td>\n",
       "      <td>114.139038</td>\n",
       "      <td>5.473613</td>\n",
       "      <td>3474</td>\n",
       "      <td>725</td>\n",
       "      <td>0.635333</td>\n",
       "    </tr>\n",
       "    <tr>\n",
       "      <th>2944</th>\n",
       "      <td>OldSchoolCool</td>\n",
       "      <td>4025</td>\n",
       "      <td>9.453913</td>\n",
       "      <td>109.076042</td>\n",
       "      <td>11.537661</td>\n",
       "      <td>1804</td>\n",
       "      <td>552</td>\n",
       "      <td>0.448199</td>\n",
       "    </tr>\n",
       "    <tr>\n",
       "      <th>3255</th>\n",
       "      <td>Jokes</td>\n",
       "      <td>5815</td>\n",
       "      <td>13.584695</td>\n",
       "      <td>104.888820</td>\n",
       "      <td>7.721102</td>\n",
       "      <td>2875</td>\n",
       "      <td>776</td>\n",
       "      <td>0.494411</td>\n",
       "    </tr>\n",
       "    <tr>\n",
       "      <th>480</th>\n",
       "      <td>todayilearned</td>\n",
       "      <td>58489</td>\n",
       "      <td>10.116518</td>\n",
       "      <td>97.530625</td>\n",
       "      <td>9.640731</td>\n",
       "      <td>26820</td>\n",
       "      <td>8817</td>\n",
       "      <td>0.458548</td>\n",
       "    </tr>\n",
       "    <tr>\n",
       "      <th>1675</th>\n",
       "      <td>gameofthrones</td>\n",
       "      <td>9861</td>\n",
       "      <td>12.201704</td>\n",
       "      <td>97.404739</td>\n",
       "      <td>7.982880</td>\n",
       "      <td>5575</td>\n",
       "      <td>757</td>\n",
       "      <td>0.565358</td>\n",
       "    </tr>\n",
       "    <tr>\n",
       "      <th>169</th>\n",
       "      <td>videos</td>\n",
       "      <td>66621</td>\n",
       "      <td>10.923493</td>\n",
       "      <td>94.527921</td>\n",
       "      <td>8.653635</td>\n",
       "      <td>28133</td>\n",
       "      <td>10708</td>\n",
       "      <td>0.422284</td>\n",
       "    </tr>\n",
       "    <tr>\n",
       "      <th>1937</th>\n",
       "      <td>IAmA</td>\n",
       "      <td>42888</td>\n",
       "      <td>11.405358</td>\n",
       "      <td>94.365688</td>\n",
       "      <td>8.273803</td>\n",
       "      <td>18043</td>\n",
       "      <td>4585</td>\n",
       "      <td>0.420700</td>\n",
       "    </tr>\n",
       "    <tr>\n",
       "      <th>40</th>\n",
       "      <td>nottheonion</td>\n",
       "      <td>6974</td>\n",
       "      <td>10.878979</td>\n",
       "      <td>94.280942</td>\n",
       "      <td>8.666341</td>\n",
       "      <td>3126</td>\n",
       "      <td>972</td>\n",
       "      <td>0.448236</td>\n",
       "    </tr>\n",
       "    <tr>\n",
       "      <th>615</th>\n",
       "      <td>news</td>\n",
       "      <td>48265</td>\n",
       "      <td>7.621672</td>\n",
       "      <td>89.915975</td>\n",
       "      <td>11.797408</td>\n",
       "      <td>20422</td>\n",
       "      <td>9189</td>\n",
       "      <td>0.423122</td>\n",
       "    </tr>\n",
       "    <tr>\n",
       "      <th>1085</th>\n",
       "      <td>gifs</td>\n",
       "      <td>25860</td>\n",
       "      <td>12.326218</td>\n",
       "      <td>86.736271</td>\n",
       "      <td>7.036730</td>\n",
       "      <td>11513</td>\n",
       "      <td>3472</td>\n",
       "      <td>0.445205</td>\n",
       "    </tr>\n",
       "    <tr>\n",
       "      <th>3177</th>\n",
       "      <td>tifu</td>\n",
       "      <td>8730</td>\n",
       "      <td>11.758763</td>\n",
       "      <td>84.338137</td>\n",
       "      <td>7.172365</td>\n",
       "      <td>4354</td>\n",
       "      <td>905</td>\n",
       "      <td>0.498740</td>\n",
       "    </tr>\n",
       "    <tr>\n",
       "      <th>136</th>\n",
       "      <td>mildlyinteresting</td>\n",
       "      <td>11846</td>\n",
       "      <td>10.105774</td>\n",
       "      <td>81.985503</td>\n",
       "      <td>8.112739</td>\n",
       "      <td>5364</td>\n",
       "      <td>1136</td>\n",
       "      <td>0.452811</td>\n",
       "    </tr>\n",
       "    <tr>\n",
       "      <th>123</th>\n",
       "      <td>space</td>\n",
       "      <td>4806</td>\n",
       "      <td>7.115481</td>\n",
       "      <td>80.153948</td>\n",
       "      <td>11.264727</td>\n",
       "      <td>2023</td>\n",
       "      <td>394</td>\n",
       "      <td>0.420932</td>\n",
       "    </tr>\n",
       "    <tr>\n",
       "      <th>18</th>\n",
       "      <td>television</td>\n",
       "      <td>9119</td>\n",
       "      <td>9.556311</td>\n",
       "      <td>75.416176</td>\n",
       "      <td>7.891767</td>\n",
       "      <td>4389</td>\n",
       "      <td>1198</td>\n",
       "      <td>0.481303</td>\n",
       "    </tr>\n",
       "    <tr>\n",
       "      <th>2363</th>\n",
       "      <td>movies</td>\n",
       "      <td>39598</td>\n",
       "      <td>9.631320</td>\n",
       "      <td>75.065345</td>\n",
       "      <td>7.793879</td>\n",
       "      <td>19142</td>\n",
       "      <td>4718</td>\n",
       "      <td>0.483408</td>\n",
       "    </tr>\n",
       "    <tr>\n",
       "      <th>2614</th>\n",
       "      <td>WTF</td>\n",
       "      <td>72097</td>\n",
       "      <td>8.993911</td>\n",
       "      <td>74.743082</td>\n",
       "      <td>8.310409</td>\n",
       "      <td>31389</td>\n",
       "      <td>10070</td>\n",
       "      <td>0.435372</td>\n",
       "    </tr>\n",
       "    <tr>\n",
       "      <th>952</th>\n",
       "      <td>Showerthoughts</td>\n",
       "      <td>16149</td>\n",
       "      <td>9.035977</td>\n",
       "      <td>74.160622</td>\n",
       "      <td>8.207261</td>\n",
       "      <td>6847</td>\n",
       "      <td>1319</td>\n",
       "      <td>0.423989</td>\n",
       "    </tr>\n",
       "    <tr>\n",
       "      <th>2394</th>\n",
       "      <td>explainlikeimfive</td>\n",
       "      <td>17866</td>\n",
       "      <td>6.441117</td>\n",
       "      <td>73.584199</td>\n",
       "      <td>11.424136</td>\n",
       "      <td>7312</td>\n",
       "      <td>2002</td>\n",
       "      <td>0.409269</td>\n",
       "    </tr>\n",
       "    <tr>\n",
       "      <th>1780</th>\n",
       "      <td>LifeProTips</td>\n",
       "      <td>7382</td>\n",
       "      <td>8.756164</td>\n",
       "      <td>73.219316</td>\n",
       "      <td>8.362032</td>\n",
       "      <td>3382</td>\n",
       "      <td>699</td>\n",
       "      <td>0.458141</td>\n",
       "    </tr>\n",
       "    <tr>\n",
       "      <th>3066</th>\n",
       "      <td>gaming</td>\n",
       "      <td>83138</td>\n",
       "      <td>7.035808</td>\n",
       "      <td>68.375013</td>\n",
       "      <td>9.718147</td>\n",
       "      <td>34867</td>\n",
       "      <td>10706</td>\n",
       "      <td>0.419387</td>\n",
       "    </tr>\n",
       "    <tr>\n",
       "      <th>1430</th>\n",
       "      <td>worldnews</td>\n",
       "      <td>69060</td>\n",
       "      <td>7.210295</td>\n",
       "      <td>68.226018</td>\n",
       "      <td>9.462306</td>\n",
       "      <td>29323</td>\n",
       "      <td>14721</td>\n",
       "      <td>0.424602</td>\n",
       "    </tr>\n",
       "    <tr>\n",
       "      <th>730</th>\n",
       "      <td>relationships</td>\n",
       "      <td>23870</td>\n",
       "      <td>12.198324</td>\n",
       "      <td>67.677387</td>\n",
       "      <td>5.548089</td>\n",
       "      <td>13985</td>\n",
       "      <td>2608</td>\n",
       "      <td>0.585882</td>\n",
       "    </tr>\n",
       "    <tr>\n",
       "      <th>2502</th>\n",
       "      <td>cringepics</td>\n",
       "      <td>8889</td>\n",
       "      <td>12.277422</td>\n",
       "      <td>67.559561</td>\n",
       "      <td>5.502748</td>\n",
       "      <td>5091</td>\n",
       "      <td>1203</td>\n",
       "      <td>0.572730</td>\n",
       "    </tr>\n",
       "    <tr>\n",
       "      <th>1119</th>\n",
       "      <td>pics</td>\n",
       "      <td>120180</td>\n",
       "      <td>7.995840</td>\n",
       "      <td>66.912785</td>\n",
       "      <td>8.368450</td>\n",
       "      <td>49753</td>\n",
       "      <td>17829</td>\n",
       "      <td>0.413987</td>\n",
       "    </tr>\n",
       "    <tr>\n",
       "      <th>3524</th>\n",
       "      <td>funny</td>\n",
       "      <td>128159</td>\n",
       "      <td>8.684228</td>\n",
       "      <td>65.840698</td>\n",
       "      <td>7.581641</td>\n",
       "      <td>55990</td>\n",
       "      <td>18820</td>\n",
       "      <td>0.436879</td>\n",
       "    </tr>\n",
       "    <tr>\n",
       "      <th>1026</th>\n",
       "      <td>thewalkingdead</td>\n",
       "      <td>5350</td>\n",
       "      <td>9.550841</td>\n",
       "      <td>60.150213</td>\n",
       "      <td>6.297897</td>\n",
       "      <td>3113</td>\n",
       "      <td>494</td>\n",
       "      <td>0.581869</td>\n",
       "    </tr>\n",
       "    <tr>\n",
       "      <th>3676</th>\n",
       "      <td>CFB</td>\n",
       "      <td>31503</td>\n",
       "      <td>6.572326</td>\n",
       "      <td>60.135034</td>\n",
       "      <td>9.149733</td>\n",
       "      <td>19710</td>\n",
       "      <td>2074</td>\n",
       "      <td>0.625655</td>\n",
       "    </tr>\n",
       "    <tr>\n",
       "      <th>232</th>\n",
       "      <td>4chan</td>\n",
       "      <td>6591</td>\n",
       "      <td>12.870126</td>\n",
       "      <td>59.386127</td>\n",
       "      <td>4.614262</td>\n",
       "      <td>3964</td>\n",
       "      <td>832</td>\n",
       "      <td>0.601426</td>\n",
       "    </tr>\n",
       "    <tr>\n",
       "      <th>397</th>\n",
       "      <td>StarWars</td>\n",
       "      <td>6401</td>\n",
       "      <td>9.573348</td>\n",
       "      <td>57.585097</td>\n",
       "      <td>6.015147</td>\n",
       "      <td>3636</td>\n",
       "      <td>508</td>\n",
       "      <td>0.568036</td>\n",
       "    </tr>\n",
       "    <tr>\n",
       "      <th>...</th>\n",
       "      <td>...</td>\n",
       "      <td>...</td>\n",
       "      <td>...</td>\n",
       "      <td>...</td>\n",
       "      <td>...</td>\n",
       "      <td>...</td>\n",
       "      <td>...</td>\n",
       "      <td>...</td>\n",
       "    </tr>\n",
       "    <tr>\n",
       "      <th>993</th>\n",
       "      <td>ffxiv</td>\n",
       "      <td>9353</td>\n",
       "      <td>2.129050</td>\n",
       "      <td>5.932263</td>\n",
       "      <td>2.786344</td>\n",
       "      <td>3665</td>\n",
       "      <td>1136</td>\n",
       "      <td>0.391853</td>\n",
       "    </tr>\n",
       "    <tr>\n",
       "      <th>696</th>\n",
       "      <td>gonewild</td>\n",
       "      <td>25842</td>\n",
       "      <td>1.590279</td>\n",
       "      <td>5.853083</td>\n",
       "      <td>3.680537</td>\n",
       "      <td>6708</td>\n",
       "      <td>2135</td>\n",
       "      <td>0.259577</td>\n",
       "    </tr>\n",
       "    <tr>\n",
       "      <th>2526</th>\n",
       "      <td>keto</td>\n",
       "      <td>5379</td>\n",
       "      <td>2.368842</td>\n",
       "      <td>5.712920</td>\n",
       "      <td>2.411693</td>\n",
       "      <td>2661</td>\n",
       "      <td>314</td>\n",
       "      <td>0.494702</td>\n",
       "    </tr>\n",
       "    <tr>\n",
       "      <th>841</th>\n",
       "      <td>EliteDangerous</td>\n",
       "      <td>5368</td>\n",
       "      <td>2.512295</td>\n",
       "      <td>5.295888</td>\n",
       "      <td>2.107988</td>\n",
       "      <td>2438</td>\n",
       "      <td>370</td>\n",
       "      <td>0.454173</td>\n",
       "    </tr>\n",
       "    <tr>\n",
       "      <th>1628</th>\n",
       "      <td>jailbreak</td>\n",
       "      <td>7345</td>\n",
       "      <td>2.077740</td>\n",
       "      <td>5.183698</td>\n",
       "      <td>2.494873</td>\n",
       "      <td>2470</td>\n",
       "      <td>617</td>\n",
       "      <td>0.336283</td>\n",
       "    </tr>\n",
       "    <tr>\n",
       "      <th>1028</th>\n",
       "      <td>yugioh</td>\n",
       "      <td>4724</td>\n",
       "      <td>2.308848</td>\n",
       "      <td>4.776752</td>\n",
       "      <td>2.068889</td>\n",
       "      <td>1760</td>\n",
       "      <td>336</td>\n",
       "      <td>0.372566</td>\n",
       "    </tr>\n",
       "    <tr>\n",
       "      <th>3697</th>\n",
       "      <td>amiugly</td>\n",
       "      <td>4708</td>\n",
       "      <td>2.028037</td>\n",
       "      <td>4.712204</td>\n",
       "      <td>2.323529</td>\n",
       "      <td>1742</td>\n",
       "      <td>444</td>\n",
       "      <td>0.370008</td>\n",
       "    </tr>\n",
       "    <tr>\n",
       "      <th>2167</th>\n",
       "      <td>BabyBumps</td>\n",
       "      <td>6029</td>\n",
       "      <td>2.732460</td>\n",
       "      <td>4.695956</td>\n",
       "      <td>1.718582</td>\n",
       "      <td>3362</td>\n",
       "      <td>115</td>\n",
       "      <td>0.557638</td>\n",
       "    </tr>\n",
       "    <tr>\n",
       "      <th>1654</th>\n",
       "      <td>NoFap</td>\n",
       "      <td>6137</td>\n",
       "      <td>1.921297</td>\n",
       "      <td>4.310870</td>\n",
       "      <td>2.243729</td>\n",
       "      <td>2089</td>\n",
       "      <td>254</td>\n",
       "      <td>0.340394</td>\n",
       "    </tr>\n",
       "    <tr>\n",
       "      <th>2088</th>\n",
       "      <td>dogecoin</td>\n",
       "      <td>7197</td>\n",
       "      <td>1.785049</td>\n",
       "      <td>4.297485</td>\n",
       "      <td>2.407488</td>\n",
       "      <td>2229</td>\n",
       "      <td>222</td>\n",
       "      <td>0.309712</td>\n",
       "    </tr>\n",
       "    <tr>\n",
       "      <th>228</th>\n",
       "      <td>Philippines</td>\n",
       "      <td>4067</td>\n",
       "      <td>2.279075</td>\n",
       "      <td>4.122457</td>\n",
       "      <td>1.808829</td>\n",
       "      <td>1701</td>\n",
       "      <td>298</td>\n",
       "      <td>0.418244</td>\n",
       "    </tr>\n",
       "    <tr>\n",
       "      <th>2183</th>\n",
       "      <td>amiibo</td>\n",
       "      <td>4088</td>\n",
       "      <td>1.865705</td>\n",
       "      <td>4.102649</td>\n",
       "      <td>2.198981</td>\n",
       "      <td>1280</td>\n",
       "      <td>324</td>\n",
       "      <td>0.313112</td>\n",
       "    </tr>\n",
       "    <tr>\n",
       "      <th>1452</th>\n",
       "      <td>summonerschool</td>\n",
       "      <td>5905</td>\n",
       "      <td>1.828620</td>\n",
       "      <td>3.589510</td>\n",
       "      <td>1.962961</td>\n",
       "      <td>1859</td>\n",
       "      <td>339</td>\n",
       "      <td>0.314818</td>\n",
       "    </tr>\n",
       "    <tr>\n",
       "      <th>1833</th>\n",
       "      <td>fivenightsatfreddys</td>\n",
       "      <td>4328</td>\n",
       "      <td>1.940619</td>\n",
       "      <td>3.542203</td>\n",
       "      <td>1.825295</td>\n",
       "      <td>1467</td>\n",
       "      <td>226</td>\n",
       "      <td>0.338956</td>\n",
       "    </tr>\n",
       "    <tr>\n",
       "      <th>545</th>\n",
       "      <td>electronic_cigarette</td>\n",
       "      <td>15381</td>\n",
       "      <td>1.750341</td>\n",
       "      <td>3.424794</td>\n",
       "      <td>1.956644</td>\n",
       "      <td>5291</td>\n",
       "      <td>802</td>\n",
       "      <td>0.343996</td>\n",
       "    </tr>\n",
       "    <tr>\n",
       "      <th>1412</th>\n",
       "      <td>DebateReligion</td>\n",
       "      <td>4552</td>\n",
       "      <td>1.993409</td>\n",
       "      <td>3.148692</td>\n",
       "      <td>1.579551</td>\n",
       "      <td>1833</td>\n",
       "      <td>528</td>\n",
       "      <td>0.402680</td>\n",
       "    </tr>\n",
       "    <tr>\n",
       "      <th>3087</th>\n",
       "      <td>bravefrontier</td>\n",
       "      <td>4931</td>\n",
       "      <td>1.499087</td>\n",
       "      <td>2.211291</td>\n",
       "      <td>1.475091</td>\n",
       "      <td>1173</td>\n",
       "      <td>287</td>\n",
       "      <td>0.237883</td>\n",
       "    </tr>\n",
       "    <tr>\n",
       "      <th>2903</th>\n",
       "      <td>GlobalOffensiveTrade</td>\n",
       "      <td>13411</td>\n",
       "      <td>1.143166</td>\n",
       "      <td>2.196450</td>\n",
       "      <td>1.921375</td>\n",
       "      <td>940</td>\n",
       "      <td>318</td>\n",
       "      <td>0.070092</td>\n",
       "    </tr>\n",
       "    <tr>\n",
       "      <th>3007</th>\n",
       "      <td>summonerswar</td>\n",
       "      <td>4849</td>\n",
       "      <td>1.394102</td>\n",
       "      <td>2.171669</td>\n",
       "      <td>1.557755</td>\n",
       "      <td>1066</td>\n",
       "      <td>282</td>\n",
       "      <td>0.219839</td>\n",
       "    </tr>\n",
       "    <tr>\n",
       "      <th>2790</th>\n",
       "      <td>MLPLounge</td>\n",
       "      <td>9037</td>\n",
       "      <td>2.489211</td>\n",
       "      <td>2.023167</td>\n",
       "      <td>0.812774</td>\n",
       "      <td>7085</td>\n",
       "      <td>77</td>\n",
       "      <td>0.783999</td>\n",
       "    </tr>\n",
       "    <tr>\n",
       "      <th>3127</th>\n",
       "      <td>techsupport</td>\n",
       "      <td>5362</td>\n",
       "      <td>1.369452</td>\n",
       "      <td>1.642964</td>\n",
       "      <td>1.199724</td>\n",
       "      <td>1277</td>\n",
       "      <td>225</td>\n",
       "      <td>0.238157</td>\n",
       "    </tr>\n",
       "    <tr>\n",
       "      <th>667</th>\n",
       "      <td>counting</td>\n",
       "      <td>5825</td>\n",
       "      <td>2.501974</td>\n",
       "      <td>1.338888</td>\n",
       "      <td>0.535133</td>\n",
       "      <td>4788</td>\n",
       "      <td>23</td>\n",
       "      <td>0.821974</td>\n",
       "    </tr>\n",
       "    <tr>\n",
       "      <th>633</th>\n",
       "      <td>Random_Acts_Of_Amazon</td>\n",
       "      <td>16222</td>\n",
       "      <td>1.696092</td>\n",
       "      <td>1.314249</td>\n",
       "      <td>0.774869</td>\n",
       "      <td>7667</td>\n",
       "      <td>50</td>\n",
       "      <td>0.472630</td>\n",
       "    </tr>\n",
       "    <tr>\n",
       "      <th>1876</th>\n",
       "      <td>RocketLeagueExchange</td>\n",
       "      <td>11349</td>\n",
       "      <td>1.068817</td>\n",
       "      <td>1.083623</td>\n",
       "      <td>1.013853</td>\n",
       "      <td>775</td>\n",
       "      <td>331</td>\n",
       "      <td>0.068288</td>\n",
       "    </tr>\n",
       "    <tr>\n",
       "      <th>1649</th>\n",
       "      <td>SteamGameSwap</td>\n",
       "      <td>4086</td>\n",
       "      <td>1.024963</td>\n",
       "      <td>0.662227</td>\n",
       "      <td>0.646098</td>\n",
       "      <td>309</td>\n",
       "      <td>240</td>\n",
       "      <td>0.075624</td>\n",
       "    </tr>\n",
       "    <tr>\n",
       "      <th>2703</th>\n",
       "      <td>pokemontrades</td>\n",
       "      <td>15140</td>\n",
       "      <td>1.054491</td>\n",
       "      <td>0.473908</td>\n",
       "      <td>0.449418</td>\n",
       "      <td>727</td>\n",
       "      <td>92</td>\n",
       "      <td>0.048018</td>\n",
       "    </tr>\n",
       "    <tr>\n",
       "      <th>1012</th>\n",
       "      <td>Pokemongiveaway</td>\n",
       "      <td>6836</td>\n",
       "      <td>1.066706</td>\n",
       "      <td>0.306378</td>\n",
       "      <td>0.287218</td>\n",
       "      <td>467</td>\n",
       "      <td>46</td>\n",
       "      <td>0.068315</td>\n",
       "    </tr>\n",
       "    <tr>\n",
       "      <th>3582</th>\n",
       "      <td>SVExchange</td>\n",
       "      <td>8004</td>\n",
       "      <td>1.040605</td>\n",
       "      <td>0.261151</td>\n",
       "      <td>0.250961</td>\n",
       "      <td>327</td>\n",
       "      <td>24</td>\n",
       "      <td>0.040855</td>\n",
       "    </tr>\n",
       "    <tr>\n",
       "      <th>3487</th>\n",
       "      <td>Fireteams</td>\n",
       "      <td>8282</td>\n",
       "      <td>1.017508</td>\n",
       "      <td>0.256414</td>\n",
       "      <td>0.252002</td>\n",
       "      <td>140</td>\n",
       "      <td>42</td>\n",
       "      <td>0.016904</td>\n",
       "    </tr>\n",
       "    <tr>\n",
       "      <th>1592</th>\n",
       "      <td>friendsafari</td>\n",
       "      <td>15142</td>\n",
       "      <td>1.033087</td>\n",
       "      <td>0.222032</td>\n",
       "      <td>0.214921</td>\n",
       "      <td>582</td>\n",
       "      <td>93</td>\n",
       "      <td>0.038436</td>\n",
       "    </tr>\n",
       "  </tbody>\n",
       "</table>\n",
       "<p>206 rows × 8 columns</p>\n",
       "</div>"
      ],
      "text/plain": [
       "                  subreddit   count  avg_score   std_score  avg_std_score  \\\n",
       "168               AskReddit  569779  11.004876  120.533037      10.952694   \n",
       "2860     BlackPeopleTwitter    5468  20.852597  114.139038       5.473613   \n",
       "2944          OldSchoolCool    4025   9.453913  109.076042      11.537661   \n",
       "3255                  Jokes    5815  13.584695  104.888820       7.721102   \n",
       "480           todayilearned   58489  10.116518   97.530625       9.640731   \n",
       "1675          gameofthrones    9861  12.201704   97.404739       7.982880   \n",
       "169                  videos   66621  10.923493   94.527921       8.653635   \n",
       "1937                   IAmA   42888  11.405358   94.365688       8.273803   \n",
       "40              nottheonion    6974  10.878979   94.280942       8.666341   \n",
       "615                    news   48265   7.621672   89.915975      11.797408   \n",
       "1085                   gifs   25860  12.326218   86.736271       7.036730   \n",
       "3177                   tifu    8730  11.758763   84.338137       7.172365   \n",
       "136       mildlyinteresting   11846  10.105774   81.985503       8.112739   \n",
       "123                   space    4806   7.115481   80.153948      11.264727   \n",
       "18               television    9119   9.556311   75.416176       7.891767   \n",
       "2363                 movies   39598   9.631320   75.065345       7.793879   \n",
       "2614                    WTF   72097   8.993911   74.743082       8.310409   \n",
       "952          Showerthoughts   16149   9.035977   74.160622       8.207261   \n",
       "2394      explainlikeimfive   17866   6.441117   73.584199      11.424136   \n",
       "1780            LifeProTips    7382   8.756164   73.219316       8.362032   \n",
       "3066                 gaming   83138   7.035808   68.375013       9.718147   \n",
       "1430              worldnews   69060   7.210295   68.226018       9.462306   \n",
       "730           relationships   23870  12.198324   67.677387       5.548089   \n",
       "2502             cringepics    8889  12.277422   67.559561       5.502748   \n",
       "1119                   pics  120180   7.995840   66.912785       8.368450   \n",
       "3524                  funny  128159   8.684228   65.840698       7.581641   \n",
       "1026         thewalkingdead    5350   9.550841   60.150213       6.297897   \n",
       "3676                    CFB   31503   6.572326   60.135034       9.149733   \n",
       "232                   4chan    6591  12.870126   59.386127       4.614262   \n",
       "397                StarWars    6401   9.573348   57.585097       6.015147   \n",
       "...                     ...     ...        ...         ...            ...   \n",
       "993                   ffxiv    9353   2.129050    5.932263       2.786344   \n",
       "696                gonewild   25842   1.590279    5.853083       3.680537   \n",
       "2526                   keto    5379   2.368842    5.712920       2.411693   \n",
       "841          EliteDangerous    5368   2.512295    5.295888       2.107988   \n",
       "1628              jailbreak    7345   2.077740    5.183698       2.494873   \n",
       "1028                 yugioh    4724   2.308848    4.776752       2.068889   \n",
       "3697                amiugly    4708   2.028037    4.712204       2.323529   \n",
       "2167              BabyBumps    6029   2.732460    4.695956       1.718582   \n",
       "1654                  NoFap    6137   1.921297    4.310870       2.243729   \n",
       "2088               dogecoin    7197   1.785049    4.297485       2.407488   \n",
       "228             Philippines    4067   2.279075    4.122457       1.808829   \n",
       "2183                 amiibo    4088   1.865705    4.102649       2.198981   \n",
       "1452         summonerschool    5905   1.828620    3.589510       1.962961   \n",
       "1833    fivenightsatfreddys    4328   1.940619    3.542203       1.825295   \n",
       "545    electronic_cigarette   15381   1.750341    3.424794       1.956644   \n",
       "1412         DebateReligion    4552   1.993409    3.148692       1.579551   \n",
       "3087          bravefrontier    4931   1.499087    2.211291       1.475091   \n",
       "2903   GlobalOffensiveTrade   13411   1.143166    2.196450       1.921375   \n",
       "3007           summonerswar    4849   1.394102    2.171669       1.557755   \n",
       "2790              MLPLounge    9037   2.489211    2.023167       0.812774   \n",
       "3127            techsupport    5362   1.369452    1.642964       1.199724   \n",
       "667                counting    5825   2.501974    1.338888       0.535133   \n",
       "633   Random_Acts_Of_Amazon   16222   1.696092    1.314249       0.774869   \n",
       "1876   RocketLeagueExchange   11349   1.068817    1.083623       1.013853   \n",
       "1649          SteamGameSwap    4086   1.024963    0.662227       0.646098   \n",
       "2703          pokemontrades   15140   1.054491    0.473908       0.449418   \n",
       "1012        Pokemongiveaway    6836   1.066706    0.306378       0.287218   \n",
       "3582             SVExchange    8004   1.040605    0.261151       0.250961   \n",
       "3487              Fireteams    8282   1.017508    0.256414       0.252002   \n",
       "1592           friendsafari   15142   1.033087    0.222032       0.214921   \n",
       "\n",
       "      count_pos  count_neg  agreement_factor  \n",
       "168      232533      42128          0.408111  \n",
       "2860       3474        725          0.635333  \n",
       "2944       1804        552          0.448199  \n",
       "3255       2875        776          0.494411  \n",
       "480       26820       8817          0.458548  \n",
       "1675       5575        757          0.565358  \n",
       "169       28133      10708          0.422284  \n",
       "1937      18043       4585          0.420700  \n",
       "40         3126        972          0.448236  \n",
       "615       20422       9189          0.423122  \n",
       "1085      11513       3472          0.445205  \n",
       "3177       4354        905          0.498740  \n",
       "136        5364       1136          0.452811  \n",
       "123        2023        394          0.420932  \n",
       "18         4389       1198          0.481303  \n",
       "2363      19142       4718          0.483408  \n",
       "2614      31389      10070          0.435372  \n",
       "952        6847       1319          0.423989  \n",
       "2394       7312       2002          0.409269  \n",
       "1780       3382        699          0.458141  \n",
       "3066      34867      10706          0.419387  \n",
       "1430      29323      14721          0.424602  \n",
       "730       13985       2608          0.585882  \n",
       "2502       5091       1203          0.572730  \n",
       "1119      49753      17829          0.413987  \n",
       "3524      55990      18820          0.436879  \n",
       "1026       3113        494          0.581869  \n",
       "3676      19710       2074          0.625655  \n",
       "232        3964        832          0.601426  \n",
       "397        3636        508          0.568036  \n",
       "...         ...        ...               ...  \n",
       "993        3665       1136          0.391853  \n",
       "696        6708       2135          0.259577  \n",
       "2526       2661        314          0.494702  \n",
       "841        2438        370          0.454173  \n",
       "1628       2470        617          0.336283  \n",
       "1028       1760        336          0.372566  \n",
       "3697       1742        444          0.370008  \n",
       "2167       3362        115          0.557638  \n",
       "1654       2089        254          0.340394  \n",
       "2088       2229        222          0.309712  \n",
       "228        1701        298          0.418244  \n",
       "2183       1280        324          0.313112  \n",
       "1452       1859        339          0.314818  \n",
       "1833       1467        226          0.338956  \n",
       "545        5291        802          0.343996  \n",
       "1412       1833        528          0.402680  \n",
       "3087       1173        287          0.237883  \n",
       "2903        940        318          0.070092  \n",
       "3007       1066        282          0.219839  \n",
       "2790       7085         77          0.783999  \n",
       "3127       1277        225          0.238157  \n",
       "667        4788         23          0.821974  \n",
       "633        7667         50          0.472630  \n",
       "1876        775        331          0.068288  \n",
       "1649        309        240          0.075624  \n",
       "2703        727         92          0.048018  \n",
       "1012        467         46          0.068315  \n",
       "3582        327         24          0.040855  \n",
       "3487        140         42          0.016904  \n",
       "1592        582         93          0.038436  \n",
       "\n",
       "[206 rows x 8 columns]"
      ]
     },
     "execution_count": 12,
     "metadata": {},
     "output_type": "execute_result"
    }
   ],
   "source": [
    "b[b['count'] > 4000].sort_values('std_score', ascending=False)"
   ]
  },
  {
   "cell_type": "code",
   "execution_count": 15,
   "metadata": {},
   "outputs": [
    {
     "data": {
      "text/html": [
       "<div>\n",
       "<style scoped>\n",
       "    .dataframe tbody tr th:only-of-type {\n",
       "        vertical-align: middle;\n",
       "    }\n",
       "\n",
       "    .dataframe tbody tr th {\n",
       "        vertical-align: top;\n",
       "    }\n",
       "\n",
       "    .dataframe thead th {\n",
       "        text-align: right;\n",
       "    }\n",
       "</style>\n",
       "<table border=\"1\" class=\"dataframe\">\n",
       "  <thead>\n",
       "    <tr style=\"text-align: right;\">\n",
       "      <th></th>\n",
       "      <th>subreddit</th>\n",
       "      <th>count</th>\n",
       "      <th>avg_score</th>\n",
       "      <th>std_score</th>\n",
       "      <th>avg_std_score</th>\n",
       "      <th>count_pos</th>\n",
       "      <th>count_neg</th>\n",
       "      <th>agreement_factor</th>\n",
       "    </tr>\n",
       "  </thead>\n",
       "  <tbody>\n",
       "    <tr>\n",
       "      <th>667</th>\n",
       "      <td>counting</td>\n",
       "      <td>5825</td>\n",
       "      <td>2.501974</td>\n",
       "      <td>1.338888</td>\n",
       "      <td>0.535133</td>\n",
       "      <td>4788</td>\n",
       "      <td>23</td>\n",
       "      <td>0.821974</td>\n",
       "    </tr>\n",
       "    <tr>\n",
       "      <th>2790</th>\n",
       "      <td>MLPLounge</td>\n",
       "      <td>9037</td>\n",
       "      <td>2.489211</td>\n",
       "      <td>2.023167</td>\n",
       "      <td>0.812774</td>\n",
       "      <td>7085</td>\n",
       "      <td>77</td>\n",
       "      <td>0.783999</td>\n",
       "    </tr>\n",
       "    <tr>\n",
       "      <th>3721</th>\n",
       "      <td>TrollXChromosomes</td>\n",
       "      <td>6628</td>\n",
       "      <td>9.493211</td>\n",
       "      <td>37.960346</td>\n",
       "      <td>3.998684</td>\n",
       "      <td>5050</td>\n",
       "      <td>329</td>\n",
       "      <td>0.761919</td>\n",
       "    </tr>\n",
       "    <tr>\n",
       "      <th>1940</th>\n",
       "      <td>fatlogic</td>\n",
       "      <td>4762</td>\n",
       "      <td>10.326333</td>\n",
       "      <td>26.617010</td>\n",
       "      <td>2.577586</td>\n",
       "      <td>3586</td>\n",
       "      <td>220</td>\n",
       "      <td>0.753045</td>\n",
       "    </tr>\n",
       "    <tr>\n",
       "      <th>3673</th>\n",
       "      <td>childfree</td>\n",
       "      <td>5093</td>\n",
       "      <td>7.226389</td>\n",
       "      <td>17.029559</td>\n",
       "      <td>2.356579</td>\n",
       "      <td>3748</td>\n",
       "      <td>307</td>\n",
       "      <td>0.735912</td>\n",
       "    </tr>\n",
       "    <tr>\n",
       "      <th>3107</th>\n",
       "      <td>rupaulsdragrace</td>\n",
       "      <td>5619</td>\n",
       "      <td>9.783057</td>\n",
       "      <td>31.120119</td>\n",
       "      <td>3.181022</td>\n",
       "      <td>4032</td>\n",
       "      <td>444</td>\n",
       "      <td>0.717565</td>\n",
       "    </tr>\n",
       "    <tr>\n",
       "      <th>2687</th>\n",
       "      <td>mylittlepony</td>\n",
       "      <td>7221</td>\n",
       "      <td>5.004155</td>\n",
       "      <td>8.821686</td>\n",
       "      <td>1.762872</td>\n",
       "      <td>5173</td>\n",
       "      <td>145</td>\n",
       "      <td>0.716383</td>\n",
       "    </tr>\n",
       "    <tr>\n",
       "      <th>1656</th>\n",
       "      <td>BigBrother</td>\n",
       "      <td>5062</td>\n",
       "      <td>6.041881</td>\n",
       "      <td>11.546621</td>\n",
       "      <td>1.911097</td>\n",
       "      <td>3584</td>\n",
       "      <td>353</td>\n",
       "      <td>0.708021</td>\n",
       "    </tr>\n",
       "    <tr>\n",
       "      <th>2307</th>\n",
       "      <td>exmormon</td>\n",
       "      <td>6000</td>\n",
       "      <td>4.534500</td>\n",
       "      <td>8.687312</td>\n",
       "      <td>1.915826</td>\n",
       "      <td>4138</td>\n",
       "      <td>102</td>\n",
       "      <td>0.689667</td>\n",
       "    </tr>\n",
       "    <tr>\n",
       "      <th>2283</th>\n",
       "      <td>The_Donald</td>\n",
       "      <td>32108</td>\n",
       "      <td>9.085306</td>\n",
       "      <td>39.100056</td>\n",
       "      <td>4.303659</td>\n",
       "      <td>21355</td>\n",
       "      <td>1152</td>\n",
       "      <td>0.665099</td>\n",
       "    </tr>\n",
       "    <tr>\n",
       "      <th>2345</th>\n",
       "      <td>SubredditDrama</td>\n",
       "      <td>9360</td>\n",
       "      <td>9.829060</td>\n",
       "      <td>37.026661</td>\n",
       "      <td>3.767060</td>\n",
       "      <td>6146</td>\n",
       "      <td>1460</td>\n",
       "      <td>0.656624</td>\n",
       "    </tr>\n",
       "    <tr>\n",
       "      <th>1390</th>\n",
       "      <td>TumblrInAction</td>\n",
       "      <td>12621</td>\n",
       "      <td>10.814674</td>\n",
       "      <td>53.427856</td>\n",
       "      <td>4.940311</td>\n",
       "      <td>8194</td>\n",
       "      <td>706</td>\n",
       "      <td>0.649235</td>\n",
       "    </tr>\n",
       "    <tr>\n",
       "      <th>37</th>\n",
       "      <td>hockey</td>\n",
       "      <td>35279</td>\n",
       "      <td>5.786360</td>\n",
       "      <td>21.341235</td>\n",
       "      <td>3.688197</td>\n",
       "      <td>22895</td>\n",
       "      <td>2181</td>\n",
       "      <td>0.648970</td>\n",
       "    </tr>\n",
       "    <tr>\n",
       "      <th>1970</th>\n",
       "      <td>KotakuInAction</td>\n",
       "      <td>8043</td>\n",
       "      <td>7.392142</td>\n",
       "      <td>23.501420</td>\n",
       "      <td>3.179243</td>\n",
       "      <td>5209</td>\n",
       "      <td>630</td>\n",
       "      <td>0.647644</td>\n",
       "    </tr>\n",
       "    <tr>\n",
       "      <th>2348</th>\n",
       "      <td>CollegeBasketball</td>\n",
       "      <td>7433</td>\n",
       "      <td>4.975380</td>\n",
       "      <td>13.453336</td>\n",
       "      <td>2.703982</td>\n",
       "      <td>4754</td>\n",
       "      <td>519</td>\n",
       "      <td>0.639580</td>\n",
       "    </tr>\n",
       "    <tr>\n",
       "      <th>2281</th>\n",
       "      <td>baseball</td>\n",
       "      <td>13656</td>\n",
       "      <td>7.248462</td>\n",
       "      <td>24.196298</td>\n",
       "      <td>3.338129</td>\n",
       "      <td>8725</td>\n",
       "      <td>1128</td>\n",
       "      <td>0.638913</td>\n",
       "    </tr>\n",
       "    <tr>\n",
       "      <th>3225</th>\n",
       "      <td>MLS</td>\n",
       "      <td>6027</td>\n",
       "      <td>4.922681</td>\n",
       "      <td>11.403180</td>\n",
       "      <td>2.316457</td>\n",
       "      <td>3849</td>\n",
       "      <td>406</td>\n",
       "      <td>0.638626</td>\n",
       "    </tr>\n",
       "    <tr>\n",
       "      <th>2860</th>\n",
       "      <td>BlackPeopleTwitter</td>\n",
       "      <td>5468</td>\n",
       "      <td>20.852597</td>\n",
       "      <td>114.139038</td>\n",
       "      <td>5.473613</td>\n",
       "      <td>3474</td>\n",
       "      <td>725</td>\n",
       "      <td>0.635333</td>\n",
       "    </tr>\n",
       "    <tr>\n",
       "      <th>1451</th>\n",
       "      <td>asoiaf</td>\n",
       "      <td>10892</td>\n",
       "      <td>9.662229</td>\n",
       "      <td>34.641181</td>\n",
       "      <td>3.585216</td>\n",
       "      <td>6907</td>\n",
       "      <td>710</td>\n",
       "      <td>0.634135</td>\n",
       "    </tr>\n",
       "    <tr>\n",
       "      <th>2287</th>\n",
       "      <td>CringeAnarchy</td>\n",
       "      <td>4060</td>\n",
       "      <td>9.528079</td>\n",
       "      <td>33.777600</td>\n",
       "      <td>3.545059</td>\n",
       "      <td>2571</td>\n",
       "      <td>423</td>\n",
       "      <td>0.633251</td>\n",
       "    </tr>\n",
       "    <tr>\n",
       "      <th>2475</th>\n",
       "      <td>whowouldwin</td>\n",
       "      <td>7141</td>\n",
       "      <td>5.372497</td>\n",
       "      <td>17.590491</td>\n",
       "      <td>3.274174</td>\n",
       "      <td>4504</td>\n",
       "      <td>143</td>\n",
       "      <td>0.630724</td>\n",
       "    </tr>\n",
       "    <tr>\n",
       "      <th>3676</th>\n",
       "      <td>CFB</td>\n",
       "      <td>31503</td>\n",
       "      <td>6.572326</td>\n",
       "      <td>60.135034</td>\n",
       "      <td>9.149733</td>\n",
       "      <td>19710</td>\n",
       "      <td>2074</td>\n",
       "      <td>0.625655</td>\n",
       "    </tr>\n",
       "    <tr>\n",
       "      <th>2197</th>\n",
       "      <td>comicbooks</td>\n",
       "      <td>5518</td>\n",
       "      <td>5.090613</td>\n",
       "      <td>20.318921</td>\n",
       "      <td>3.991449</td>\n",
       "      <td>3409</td>\n",
       "      <td>339</td>\n",
       "      <td>0.617796</td>\n",
       "    </tr>\n",
       "    <tr>\n",
       "      <th>920</th>\n",
       "      <td>sweden</td>\n",
       "      <td>4955</td>\n",
       "      <td>5.812311</td>\n",
       "      <td>18.672752</td>\n",
       "      <td>3.212621</td>\n",
       "      <td>2994</td>\n",
       "      <td>666</td>\n",
       "      <td>0.604238</td>\n",
       "    </tr>\n",
       "    <tr>\n",
       "      <th>2474</th>\n",
       "      <td>Cricket</td>\n",
       "      <td>5561</td>\n",
       "      <td>3.747527</td>\n",
       "      <td>7.865798</td>\n",
       "      <td>2.098930</td>\n",
       "      <td>3354</td>\n",
       "      <td>273</td>\n",
       "      <td>0.603129</td>\n",
       "    </tr>\n",
       "    <tr>\n",
       "      <th>232</th>\n",
       "      <td>4chan</td>\n",
       "      <td>6591</td>\n",
       "      <td>12.870126</td>\n",
       "      <td>59.386127</td>\n",
       "      <td>4.614262</td>\n",
       "      <td>3964</td>\n",
       "      <td>832</td>\n",
       "      <td>0.601426</td>\n",
       "    </tr>\n",
       "    <tr>\n",
       "      <th>3254</th>\n",
       "      <td>bodybuilding</td>\n",
       "      <td>5175</td>\n",
       "      <td>7.125024</td>\n",
       "      <td>28.541922</td>\n",
       "      <td>4.005870</td>\n",
       "      <td>3101</td>\n",
       "      <td>417</td>\n",
       "      <td>0.599227</td>\n",
       "    </tr>\n",
       "    <tr>\n",
       "      <th>1500</th>\n",
       "      <td>formula1</td>\n",
       "      <td>7376</td>\n",
       "      <td>5.871882</td>\n",
       "      <td>16.746274</td>\n",
       "      <td>2.851943</td>\n",
       "      <td>4410</td>\n",
       "      <td>717</td>\n",
       "      <td>0.597885</td>\n",
       "    </tr>\n",
       "    <tr>\n",
       "      <th>506</th>\n",
       "      <td>MakeupAddiction</td>\n",
       "      <td>9111</td>\n",
       "      <td>4.757546</td>\n",
       "      <td>14.566624</td>\n",
       "      <td>3.061794</td>\n",
       "      <td>5367</td>\n",
       "      <td>371</td>\n",
       "      <td>0.589068</td>\n",
       "    </tr>\n",
       "    <tr>\n",
       "      <th>1591</th>\n",
       "      <td>hiphopheads</td>\n",
       "      <td>15895</td>\n",
       "      <td>10.039887</td>\n",
       "      <td>41.688416</td>\n",
       "      <td>4.152280</td>\n",
       "      <td>9352</td>\n",
       "      <td>1532</td>\n",
       "      <td>0.588361</td>\n",
       "    </tr>\n",
       "    <tr>\n",
       "      <th>...</th>\n",
       "      <td>...</td>\n",
       "      <td>...</td>\n",
       "      <td>...</td>\n",
       "      <td>...</td>\n",
       "      <td>...</td>\n",
       "      <td>...</td>\n",
       "      <td>...</td>\n",
       "      <td>...</td>\n",
       "    </tr>\n",
       "    <tr>\n",
       "      <th>2263</th>\n",
       "      <td>GlobalOffensive</td>\n",
       "      <td>27080</td>\n",
       "      <td>5.119572</td>\n",
       "      <td>32.508276</td>\n",
       "      <td>6.349804</td>\n",
       "      <td>10031</td>\n",
       "      <td>3831</td>\n",
       "      <td>0.370421</td>\n",
       "    </tr>\n",
       "    <tr>\n",
       "      <th>3697</th>\n",
       "      <td>amiugly</td>\n",
       "      <td>4708</td>\n",
       "      <td>2.028037</td>\n",
       "      <td>4.712204</td>\n",
       "      <td>2.323529</td>\n",
       "      <td>1742</td>\n",
       "      <td>444</td>\n",
       "      <td>0.370008</td>\n",
       "    </tr>\n",
       "    <tr>\n",
       "      <th>358</th>\n",
       "      <td>xboxone</td>\n",
       "      <td>12152</td>\n",
       "      <td>2.364220</td>\n",
       "      <td>9.336661</td>\n",
       "      <td>3.949151</td>\n",
       "      <td>4321</td>\n",
       "      <td>1695</td>\n",
       "      <td>0.355579</td>\n",
       "    </tr>\n",
       "    <tr>\n",
       "      <th>290</th>\n",
       "      <td>pcmasterrace</td>\n",
       "      <td>35917</td>\n",
       "      <td>4.661414</td>\n",
       "      <td>53.470208</td>\n",
       "      <td>11.470813</td>\n",
       "      <td>12720</td>\n",
       "      <td>2443</td>\n",
       "      <td>0.354150</td>\n",
       "    </tr>\n",
       "    <tr>\n",
       "      <th>1103</th>\n",
       "      <td>fantasyfootball</td>\n",
       "      <td>18258</td>\n",
       "      <td>2.946106</td>\n",
       "      <td>16.663065</td>\n",
       "      <td>5.655963</td>\n",
       "      <td>6442</td>\n",
       "      <td>1067</td>\n",
       "      <td>0.352832</td>\n",
       "    </tr>\n",
       "    <tr>\n",
       "      <th>717</th>\n",
       "      <td>DestinyTheGame</td>\n",
       "      <td>25374</td>\n",
       "      <td>2.983999</td>\n",
       "      <td>19.508136</td>\n",
       "      <td>6.537580</td>\n",
       "      <td>8874</td>\n",
       "      <td>2377</td>\n",
       "      <td>0.349728</td>\n",
       "    </tr>\n",
       "    <tr>\n",
       "      <th>1484</th>\n",
       "      <td>Smite</td>\n",
       "      <td>10426</td>\n",
       "      <td>2.211395</td>\n",
       "      <td>7.061131</td>\n",
       "      <td>3.193067</td>\n",
       "      <td>3632</td>\n",
       "      <td>1276</td>\n",
       "      <td>0.348360</td>\n",
       "    </tr>\n",
       "    <tr>\n",
       "      <th>2280</th>\n",
       "      <td>leagueoflegends</td>\n",
       "      <td>95928</td>\n",
       "      <td>5.685306</td>\n",
       "      <td>41.710472</td>\n",
       "      <td>7.336540</td>\n",
       "      <td>33104</td>\n",
       "      <td>15421</td>\n",
       "      <td>0.345092</td>\n",
       "    </tr>\n",
       "    <tr>\n",
       "      <th>545</th>\n",
       "      <td>electronic_cigarette</td>\n",
       "      <td>15381</td>\n",
       "      <td>1.750341</td>\n",
       "      <td>3.424794</td>\n",
       "      <td>1.956644</td>\n",
       "      <td>5291</td>\n",
       "      <td>802</td>\n",
       "      <td>0.343996</td>\n",
       "    </tr>\n",
       "    <tr>\n",
       "      <th>1654</th>\n",
       "      <td>NoFap</td>\n",
       "      <td>6137</td>\n",
       "      <td>1.921297</td>\n",
       "      <td>4.310870</td>\n",
       "      <td>2.243729</td>\n",
       "      <td>2089</td>\n",
       "      <td>254</td>\n",
       "      <td>0.340394</td>\n",
       "    </tr>\n",
       "    <tr>\n",
       "      <th>1833</th>\n",
       "      <td>fivenightsatfreddys</td>\n",
       "      <td>4328</td>\n",
       "      <td>1.940619</td>\n",
       "      <td>3.542203</td>\n",
       "      <td>1.825295</td>\n",
       "      <td>1467</td>\n",
       "      <td>226</td>\n",
       "      <td>0.338956</td>\n",
       "    </tr>\n",
       "    <tr>\n",
       "      <th>1628</th>\n",
       "      <td>jailbreak</td>\n",
       "      <td>7345</td>\n",
       "      <td>2.077740</td>\n",
       "      <td>5.183698</td>\n",
       "      <td>2.494873</td>\n",
       "      <td>2470</td>\n",
       "      <td>617</td>\n",
       "      <td>0.336283</td>\n",
       "    </tr>\n",
       "    <tr>\n",
       "      <th>635</th>\n",
       "      <td>FIFA</td>\n",
       "      <td>7473</td>\n",
       "      <td>2.381641</td>\n",
       "      <td>7.819220</td>\n",
       "      <td>3.283123</td>\n",
       "      <td>2447</td>\n",
       "      <td>558</td>\n",
       "      <td>0.327445</td>\n",
       "    </tr>\n",
       "    <tr>\n",
       "      <th>3069</th>\n",
       "      <td>thedivision</td>\n",
       "      <td>5572</td>\n",
       "      <td>2.030869</td>\n",
       "      <td>6.631797</td>\n",
       "      <td>3.265498</td>\n",
       "      <td>1804</td>\n",
       "      <td>597</td>\n",
       "      <td>0.323762</td>\n",
       "    </tr>\n",
       "    <tr>\n",
       "      <th>1452</th>\n",
       "      <td>summonerschool</td>\n",
       "      <td>5905</td>\n",
       "      <td>1.828620</td>\n",
       "      <td>3.589510</td>\n",
       "      <td>1.962961</td>\n",
       "      <td>1859</td>\n",
       "      <td>339</td>\n",
       "      <td>0.314818</td>\n",
       "    </tr>\n",
       "    <tr>\n",
       "      <th>2183</th>\n",
       "      <td>amiibo</td>\n",
       "      <td>4088</td>\n",
       "      <td>1.865705</td>\n",
       "      <td>4.102649</td>\n",
       "      <td>2.198981</td>\n",
       "      <td>1280</td>\n",
       "      <td>324</td>\n",
       "      <td>0.313112</td>\n",
       "    </tr>\n",
       "    <tr>\n",
       "      <th>2088</th>\n",
       "      <td>dogecoin</td>\n",
       "      <td>7197</td>\n",
       "      <td>1.785049</td>\n",
       "      <td>4.297485</td>\n",
       "      <td>2.407488</td>\n",
       "      <td>2229</td>\n",
       "      <td>222</td>\n",
       "      <td>0.309712</td>\n",
       "    </tr>\n",
       "    <tr>\n",
       "      <th>3196</th>\n",
       "      <td>buildapc</td>\n",
       "      <td>16820</td>\n",
       "      <td>2.004578</td>\n",
       "      <td>7.977399</td>\n",
       "      <td>3.979591</td>\n",
       "      <td>5033</td>\n",
       "      <td>722</td>\n",
       "      <td>0.299227</td>\n",
       "    </tr>\n",
       "    <tr>\n",
       "      <th>696</th>\n",
       "      <td>gonewild</td>\n",
       "      <td>25842</td>\n",
       "      <td>1.590279</td>\n",
       "      <td>5.853083</td>\n",
       "      <td>3.680537</td>\n",
       "      <td>6708</td>\n",
       "      <td>2135</td>\n",
       "      <td>0.259577</td>\n",
       "    </tr>\n",
       "    <tr>\n",
       "      <th>3127</th>\n",
       "      <td>techsupport</td>\n",
       "      <td>5362</td>\n",
       "      <td>1.369452</td>\n",
       "      <td>1.642964</td>\n",
       "      <td>1.199724</td>\n",
       "      <td>1277</td>\n",
       "      <td>225</td>\n",
       "      <td>0.238157</td>\n",
       "    </tr>\n",
       "    <tr>\n",
       "      <th>3087</th>\n",
       "      <td>bravefrontier</td>\n",
       "      <td>4931</td>\n",
       "      <td>1.499087</td>\n",
       "      <td>2.211291</td>\n",
       "      <td>1.475091</td>\n",
       "      <td>1173</td>\n",
       "      <td>287</td>\n",
       "      <td>0.237883</td>\n",
       "    </tr>\n",
       "    <tr>\n",
       "      <th>3007</th>\n",
       "      <td>summonerswar</td>\n",
       "      <td>4849</td>\n",
       "      <td>1.394102</td>\n",
       "      <td>2.171669</td>\n",
       "      <td>1.557755</td>\n",
       "      <td>1066</td>\n",
       "      <td>282</td>\n",
       "      <td>0.219839</td>\n",
       "    </tr>\n",
       "    <tr>\n",
       "      <th>1649</th>\n",
       "      <td>SteamGameSwap</td>\n",
       "      <td>4086</td>\n",
       "      <td>1.024963</td>\n",
       "      <td>0.662227</td>\n",
       "      <td>0.646098</td>\n",
       "      <td>309</td>\n",
       "      <td>240</td>\n",
       "      <td>0.075624</td>\n",
       "    </tr>\n",
       "    <tr>\n",
       "      <th>2903</th>\n",
       "      <td>GlobalOffensiveTrade</td>\n",
       "      <td>13411</td>\n",
       "      <td>1.143166</td>\n",
       "      <td>2.196450</td>\n",
       "      <td>1.921375</td>\n",
       "      <td>940</td>\n",
       "      <td>318</td>\n",
       "      <td>0.070092</td>\n",
       "    </tr>\n",
       "    <tr>\n",
       "      <th>1012</th>\n",
       "      <td>Pokemongiveaway</td>\n",
       "      <td>6836</td>\n",
       "      <td>1.066706</td>\n",
       "      <td>0.306378</td>\n",
       "      <td>0.287218</td>\n",
       "      <td>467</td>\n",
       "      <td>46</td>\n",
       "      <td>0.068315</td>\n",
       "    </tr>\n",
       "    <tr>\n",
       "      <th>1876</th>\n",
       "      <td>RocketLeagueExchange</td>\n",
       "      <td>11349</td>\n",
       "      <td>1.068817</td>\n",
       "      <td>1.083623</td>\n",
       "      <td>1.013853</td>\n",
       "      <td>775</td>\n",
       "      <td>331</td>\n",
       "      <td>0.068288</td>\n",
       "    </tr>\n",
       "    <tr>\n",
       "      <th>2703</th>\n",
       "      <td>pokemontrades</td>\n",
       "      <td>15140</td>\n",
       "      <td>1.054491</td>\n",
       "      <td>0.473908</td>\n",
       "      <td>0.449418</td>\n",
       "      <td>727</td>\n",
       "      <td>92</td>\n",
       "      <td>0.048018</td>\n",
       "    </tr>\n",
       "    <tr>\n",
       "      <th>3582</th>\n",
       "      <td>SVExchange</td>\n",
       "      <td>8004</td>\n",
       "      <td>1.040605</td>\n",
       "      <td>0.261151</td>\n",
       "      <td>0.250961</td>\n",
       "      <td>327</td>\n",
       "      <td>24</td>\n",
       "      <td>0.040855</td>\n",
       "    </tr>\n",
       "    <tr>\n",
       "      <th>1592</th>\n",
       "      <td>friendsafari</td>\n",
       "      <td>15142</td>\n",
       "      <td>1.033087</td>\n",
       "      <td>0.222032</td>\n",
       "      <td>0.214921</td>\n",
       "      <td>582</td>\n",
       "      <td>93</td>\n",
       "      <td>0.038436</td>\n",
       "    </tr>\n",
       "    <tr>\n",
       "      <th>3487</th>\n",
       "      <td>Fireteams</td>\n",
       "      <td>8282</td>\n",
       "      <td>1.017508</td>\n",
       "      <td>0.256414</td>\n",
       "      <td>0.252002</td>\n",
       "      <td>140</td>\n",
       "      <td>42</td>\n",
       "      <td>0.016904</td>\n",
       "    </tr>\n",
       "  </tbody>\n",
       "</table>\n",
       "<p>206 rows × 8 columns</p>\n",
       "</div>"
      ],
      "text/plain": [
       "                 subreddit  count  avg_score   std_score  avg_std_score  \\\n",
       "667               counting   5825   2.501974    1.338888       0.535133   \n",
       "2790             MLPLounge   9037   2.489211    2.023167       0.812774   \n",
       "3721     TrollXChromosomes   6628   9.493211   37.960346       3.998684   \n",
       "1940              fatlogic   4762  10.326333   26.617010       2.577586   \n",
       "3673             childfree   5093   7.226389   17.029559       2.356579   \n",
       "3107       rupaulsdragrace   5619   9.783057   31.120119       3.181022   \n",
       "2687          mylittlepony   7221   5.004155    8.821686       1.762872   \n",
       "1656            BigBrother   5062   6.041881   11.546621       1.911097   \n",
       "2307              exmormon   6000   4.534500    8.687312       1.915826   \n",
       "2283            The_Donald  32108   9.085306   39.100056       4.303659   \n",
       "2345        SubredditDrama   9360   9.829060   37.026661       3.767060   \n",
       "1390        TumblrInAction  12621  10.814674   53.427856       4.940311   \n",
       "37                  hockey  35279   5.786360   21.341235       3.688197   \n",
       "1970        KotakuInAction   8043   7.392142   23.501420       3.179243   \n",
       "2348     CollegeBasketball   7433   4.975380   13.453336       2.703982   \n",
       "2281              baseball  13656   7.248462   24.196298       3.338129   \n",
       "3225                   MLS   6027   4.922681   11.403180       2.316457   \n",
       "2860    BlackPeopleTwitter   5468  20.852597  114.139038       5.473613   \n",
       "1451                asoiaf  10892   9.662229   34.641181       3.585216   \n",
       "2287         CringeAnarchy   4060   9.528079   33.777600       3.545059   \n",
       "2475           whowouldwin   7141   5.372497   17.590491       3.274174   \n",
       "3676                   CFB  31503   6.572326   60.135034       9.149733   \n",
       "2197            comicbooks   5518   5.090613   20.318921       3.991449   \n",
       "920                 sweden   4955   5.812311   18.672752       3.212621   \n",
       "2474               Cricket   5561   3.747527    7.865798       2.098930   \n",
       "232                  4chan   6591  12.870126   59.386127       4.614262   \n",
       "3254          bodybuilding   5175   7.125024   28.541922       4.005870   \n",
       "1500              formula1   7376   5.871882   16.746274       2.851943   \n",
       "506        MakeupAddiction   9111   4.757546   14.566624       3.061794   \n",
       "1591           hiphopheads  15895  10.039887   41.688416       4.152280   \n",
       "...                    ...    ...        ...         ...            ...   \n",
       "2263       GlobalOffensive  27080   5.119572   32.508276       6.349804   \n",
       "3697               amiugly   4708   2.028037    4.712204       2.323529   \n",
       "358                xboxone  12152   2.364220    9.336661       3.949151   \n",
       "290           pcmasterrace  35917   4.661414   53.470208      11.470813   \n",
       "1103       fantasyfootball  18258   2.946106   16.663065       5.655963   \n",
       "717         DestinyTheGame  25374   2.983999   19.508136       6.537580   \n",
       "1484                 Smite  10426   2.211395    7.061131       3.193067   \n",
       "2280       leagueoflegends  95928   5.685306   41.710472       7.336540   \n",
       "545   electronic_cigarette  15381   1.750341    3.424794       1.956644   \n",
       "1654                 NoFap   6137   1.921297    4.310870       2.243729   \n",
       "1833   fivenightsatfreddys   4328   1.940619    3.542203       1.825295   \n",
       "1628             jailbreak   7345   2.077740    5.183698       2.494873   \n",
       "635                   FIFA   7473   2.381641    7.819220       3.283123   \n",
       "3069           thedivision   5572   2.030869    6.631797       3.265498   \n",
       "1452        summonerschool   5905   1.828620    3.589510       1.962961   \n",
       "2183                amiibo   4088   1.865705    4.102649       2.198981   \n",
       "2088              dogecoin   7197   1.785049    4.297485       2.407488   \n",
       "3196              buildapc  16820   2.004578    7.977399       3.979591   \n",
       "696               gonewild  25842   1.590279    5.853083       3.680537   \n",
       "3127           techsupport   5362   1.369452    1.642964       1.199724   \n",
       "3087         bravefrontier   4931   1.499087    2.211291       1.475091   \n",
       "3007          summonerswar   4849   1.394102    2.171669       1.557755   \n",
       "1649         SteamGameSwap   4086   1.024963    0.662227       0.646098   \n",
       "2903  GlobalOffensiveTrade  13411   1.143166    2.196450       1.921375   \n",
       "1012       Pokemongiveaway   6836   1.066706    0.306378       0.287218   \n",
       "1876  RocketLeagueExchange  11349   1.068817    1.083623       1.013853   \n",
       "2703         pokemontrades  15140   1.054491    0.473908       0.449418   \n",
       "3582            SVExchange   8004   1.040605    0.261151       0.250961   \n",
       "1592          friendsafari  15142   1.033087    0.222032       0.214921   \n",
       "3487             Fireteams   8282   1.017508    0.256414       0.252002   \n",
       "\n",
       "      count_pos  count_neg  agreement_factor  \n",
       "667        4788         23          0.821974  \n",
       "2790       7085         77          0.783999  \n",
       "3721       5050        329          0.761919  \n",
       "1940       3586        220          0.753045  \n",
       "3673       3748        307          0.735912  \n",
       "3107       4032        444          0.717565  \n",
       "2687       5173        145          0.716383  \n",
       "1656       3584        353          0.708021  \n",
       "2307       4138        102          0.689667  \n",
       "2283      21355       1152          0.665099  \n",
       "2345       6146       1460          0.656624  \n",
       "1390       8194        706          0.649235  \n",
       "37        22895       2181          0.648970  \n",
       "1970       5209        630          0.647644  \n",
       "2348       4754        519          0.639580  \n",
       "2281       8725       1128          0.638913  \n",
       "3225       3849        406          0.638626  \n",
       "2860       3474        725          0.635333  \n",
       "1451       6907        710          0.634135  \n",
       "2287       2571        423          0.633251  \n",
       "2475       4504        143          0.630724  \n",
       "3676      19710       2074          0.625655  \n",
       "2197       3409        339          0.617796  \n",
       "920        2994        666          0.604238  \n",
       "2474       3354        273          0.603129  \n",
       "232        3964        832          0.601426  \n",
       "3254       3101        417          0.599227  \n",
       "1500       4410        717          0.597885  \n",
       "506        5367        371          0.589068  \n",
       "1591       9352       1532          0.588361  \n",
       "...         ...        ...               ...  \n",
       "2263      10031       3831          0.370421  \n",
       "3697       1742        444          0.370008  \n",
       "358        4321       1695          0.355579  \n",
       "290       12720       2443          0.354150  \n",
       "1103       6442       1067          0.352832  \n",
       "717        8874       2377          0.349728  \n",
       "1484       3632       1276          0.348360  \n",
       "2280      33104      15421          0.345092  \n",
       "545        5291        802          0.343996  \n",
       "1654       2089        254          0.340394  \n",
       "1833       1467        226          0.338956  \n",
       "1628       2470        617          0.336283  \n",
       "635        2447        558          0.327445  \n",
       "3069       1804        597          0.323762  \n",
       "1452       1859        339          0.314818  \n",
       "2183       1280        324          0.313112  \n",
       "2088       2229        222          0.309712  \n",
       "3196       5033        722          0.299227  \n",
       "696        6708       2135          0.259577  \n",
       "3127       1277        225          0.238157  \n",
       "3087       1173        287          0.237883  \n",
       "3007       1066        282          0.219839  \n",
       "1649        309        240          0.075624  \n",
       "2903        940        318          0.070092  \n",
       "1012        467         46          0.068315  \n",
       "1876        775        331          0.068288  \n",
       "2703        727         92          0.048018  \n",
       "3582        327         24          0.040855  \n",
       "1592        582         93          0.038436  \n",
       "3487        140         42          0.016904  \n",
       "\n",
       "[206 rows x 8 columns]"
      ]
     },
     "execution_count": 15,
     "metadata": {},
     "output_type": "execute_result"
    }
   ],
   "source": [
    "b[b['count'] > 4000].sort_values('agreement_factor', ascending=False)"
   ]
  },
  {
   "cell_type": "code",
   "execution_count": 61,
   "metadata": {},
   "outputs": [
    {
     "data": {
      "text/plain": [
       "<matplotlib.axes._subplots.AxesSubplot at 0x1a22685400>"
      ]
     },
     "execution_count": 61,
     "metadata": {},
     "output_type": "execute_result"
    },
    {
     "data": {
      "image/png": "[encoded data removed]",
      "text/plain": [
       "<Figure size 432x288 with 1 Axes>"
      ]
     },
     "metadata": {
      "needs_background": "light"
     },
     "output_type": "display_data"
    }
   ],
   "source": [
    "b[(b['count'] > 1000) & (b['count'] <569779)].plot.scatter('count', 'avg_score')"
   ]
  },
  {
   "cell_type": "code",
   "execution_count": 62,
   "metadata": {},
   "outputs": [
    {
     "data": {
      "text/plain": [
       "<matplotlib.axes._subplots.AxesSubplot at 0x1a227248d0>"
      ]
     },
     "execution_count": 62,
     "metadata": {},
     "output_type": "execute_result"
    },
    {
     "data": {
      "image/png": "[encoded data removed]",
      "text/plain": [
       "<Figure size 432x288 with 1 Axes>"
      ]
     },
     "metadata": {
      "needs_background": "light"
     },
     "output_type": "display_data"
    }
   ],
   "source": [
    "b[(b['count'] > 1000) & (b['count'] <569779)].plot.scatter('count', 'norm_avg')"
   ]
  },
  {
   "cell_type": "code",
   "execution_count": 65,
   "metadata": {},
   "outputs": [
    {
     "data": {
      "text/plain": [
       "<matplotlib.axes._subplots.AxesSubplot at 0x1a22940860>"
      ]
     },
     "execution_count": 65,
     "metadata": {},
     "output_type": "execute_result"
    },
    {
     "data": {
      "image/png": "[encoded data removed]",
      "text/plain": [
       "<Figure size 432x288 with 1 Axes>"
      ]
     },
     "metadata": {
      "needs_background": "light"
     },
     "output_type": "display_data"
    }
   ],
   "source": [
    "b[(b['count'] > 1000) & (b['count'] < 569779)].plot.scatter('count', 'std_score')"
   ]
  },
  {
   "cell_type": "code",
   "execution_count": 66,
   "metadata": {},
   "outputs": [
    {
     "data": {
      "text/html": [
       "<div>\n",
       "<style scoped>\n",
       "    .dataframe tbody tr th:only-of-type {\n",
       "        vertical-align: middle;\n",
       "    }\n",
       "\n",
       "    .dataframe tbody tr th {\n",
       "        vertical-align: top;\n",
       "    }\n",
       "\n",
       "    .dataframe thead th {\n",
       "        text-align: right;\n",
       "    }\n",
       "</style>\n",
       "<table border=\"1\" class=\"dataframe\">\n",
       "  <thead>\n",
       "    <tr style=\"text-align: right;\">\n",
       "      <th></th>\n",
       "      <th>count</th>\n",
       "      <th>avg_score</th>\n",
       "      <th>std_score</th>\n",
       "      <th>norm_avg</th>\n",
       "    </tr>\n",
       "  </thead>\n",
       "  <tbody>\n",
       "    <tr>\n",
       "      <th>count</th>\n",
       "      <td>1.000000</td>\n",
       "      <td>0.122727</td>\n",
       "      <td>0.279905</td>\n",
       "      <td>0.308462</td>\n",
       "    </tr>\n",
       "    <tr>\n",
       "      <th>avg_score</th>\n",
       "      <td>0.122727</td>\n",
       "      <td>1.000000</td>\n",
       "      <td>0.832331</td>\n",
       "      <td>0.543843</td>\n",
       "    </tr>\n",
       "    <tr>\n",
       "      <th>std_score</th>\n",
       "      <td>0.279905</td>\n",
       "      <td>0.832331</td>\n",
       "      <td>1.000000</td>\n",
       "      <td>0.811041</td>\n",
       "    </tr>\n",
       "    <tr>\n",
       "      <th>norm_avg</th>\n",
       "      <td>0.308462</td>\n",
       "      <td>0.543843</td>\n",
       "      <td>0.811041</td>\n",
       "      <td>1.000000</td>\n",
       "    </tr>\n",
       "  </tbody>\n",
       "</table>\n",
       "</div>"
      ],
      "text/plain": [
       "              count  avg_score  std_score  norm_avg\n",
       "count      1.000000   0.122727   0.279905  0.308462\n",
       "avg_score  0.122727   1.000000   0.832331  0.543843\n",
       "std_score  0.279905   0.832331   1.000000  0.811041\n",
       "norm_avg   0.308462   0.543843   0.811041  1.000000"
      ]
     },
     "execution_count": 66,
     "metadata": {},
     "output_type": "execute_result"
    }
   ],
   "source": [
    "b.corr()"
   ]
  },
  {
   "cell_type": "code",
   "execution_count": 23,
   "metadata": {},
   "outputs": [
    {
     "data": {
      "text/html": [
       "<div>\n",
       "<style scoped>\n",
       "    .dataframe tbody tr th:only-of-type {\n",
       "        vertical-align: middle;\n",
       "    }\n",
       "\n",
       "    .dataframe tbody tr th {\n",
       "        vertical-align: top;\n",
       "    }\n",
       "\n",
       "    .dataframe thead th {\n",
       "        text-align: right;\n",
       "    }\n",
       "</style>\n",
       "<table border=\"1\" class=\"dataframe\">\n",
       "  <thead>\n",
       "    <tr style=\"text-align: right;\">\n",
       "      <th></th>\n",
       "      <th>subreddit</th>\n",
       "      <th>count</th>\n",
       "      <th>avg_score</th>\n",
       "      <th>std_score</th>\n",
       "      <th>avg_std_score</th>\n",
       "      <th>count_pos</th>\n",
       "      <th>count_neg</th>\n",
       "      <th>agreement_factor</th>\n",
       "    </tr>\n",
       "  </thead>\n",
       "  <tbody>\n",
       "    <tr>\n",
       "      <th>2728</th>\n",
       "      <td>drunk</td>\n",
       "      <td>1731</td>\n",
       "      <td>7.635471</td>\n",
       "      <td>126.879441</td>\n",
       "      <td>16.617108</td>\n",
       "      <td>879</td>\n",
       "      <td>67</td>\n",
       "      <td>0.507799</td>\n",
       "    </tr>\n",
       "    <tr>\n",
       "      <th>139</th>\n",
       "      <td>NoMansSkyTheGame</td>\n",
       "      <td>3775</td>\n",
       "      <td>4.248742</td>\n",
       "      <td>57.861720</td>\n",
       "      <td>13.618554</td>\n",
       "      <td>1663</td>\n",
       "      <td>376</td>\n",
       "      <td>0.440530</td>\n",
       "    </tr>\n",
       "    <tr>\n",
       "      <th>615</th>\n",
       "      <td>news</td>\n",
       "      <td>48265</td>\n",
       "      <td>7.621672</td>\n",
       "      <td>89.915975</td>\n",
       "      <td>11.797408</td>\n",
       "      <td>20422</td>\n",
       "      <td>9189</td>\n",
       "      <td>0.423122</td>\n",
       "    </tr>\n",
       "    <tr>\n",
       "      <th>2944</th>\n",
       "      <td>OldSchoolCool</td>\n",
       "      <td>4025</td>\n",
       "      <td>9.453913</td>\n",
       "      <td>109.076042</td>\n",
       "      <td>11.537661</td>\n",
       "      <td>1804</td>\n",
       "      <td>552</td>\n",
       "      <td>0.448199</td>\n",
       "    </tr>\n",
       "    <tr>\n",
       "      <th>290</th>\n",
       "      <td>pcmasterrace</td>\n",
       "      <td>35917</td>\n",
       "      <td>4.661414</td>\n",
       "      <td>53.470208</td>\n",
       "      <td>11.470813</td>\n",
       "      <td>12720</td>\n",
       "      <td>2443</td>\n",
       "      <td>0.354150</td>\n",
       "    </tr>\n",
       "    <tr>\n",
       "      <th>2394</th>\n",
       "      <td>explainlikeimfive</td>\n",
       "      <td>17866</td>\n",
       "      <td>6.441117</td>\n",
       "      <td>73.584199</td>\n",
       "      <td>11.424136</td>\n",
       "      <td>7312</td>\n",
       "      <td>2002</td>\n",
       "      <td>0.409269</td>\n",
       "    </tr>\n",
       "    <tr>\n",
       "      <th>2005</th>\n",
       "      <td>UpliftingNews</td>\n",
       "      <td>1984</td>\n",
       "      <td>9.118448</td>\n",
       "      <td>103.778686</td>\n",
       "      <td>11.381179</td>\n",
       "      <td>894</td>\n",
       "      <td>321</td>\n",
       "      <td>0.450605</td>\n",
       "    </tr>\n",
       "    <tr>\n",
       "      <th>123</th>\n",
       "      <td>space</td>\n",
       "      <td>4806</td>\n",
       "      <td>7.115481</td>\n",
       "      <td>80.153948</td>\n",
       "      <td>11.264727</td>\n",
       "      <td>2023</td>\n",
       "      <td>394</td>\n",
       "      <td>0.420932</td>\n",
       "    </tr>\n",
       "    <tr>\n",
       "      <th>168</th>\n",
       "      <td>AskReddit</td>\n",
       "      <td>569779</td>\n",
       "      <td>11.004876</td>\n",
       "      <td>120.533037</td>\n",
       "      <td>10.952694</td>\n",
       "      <td>232533</td>\n",
       "      <td>42128</td>\n",
       "      <td>0.408111</td>\n",
       "    </tr>\n",
       "    <tr>\n",
       "      <th>2842</th>\n",
       "      <td>OutOfTheLoop</td>\n",
       "      <td>2022</td>\n",
       "      <td>18.678536</td>\n",
       "      <td>196.837994</td>\n",
       "      <td>10.538192</td>\n",
       "      <td>1192</td>\n",
       "      <td>256</td>\n",
       "      <td>0.589515</td>\n",
       "    </tr>\n",
       "    <tr>\n",
       "      <th>137</th>\n",
       "      <td>Documentaries</td>\n",
       "      <td>2792</td>\n",
       "      <td>6.096705</td>\n",
       "      <td>62.423123</td>\n",
       "      <td>10.238830</td>\n",
       "      <td>1284</td>\n",
       "      <td>464</td>\n",
       "      <td>0.459885</td>\n",
       "    </tr>\n",
       "    <tr>\n",
       "      <th>2352</th>\n",
       "      <td>dankmemes</td>\n",
       "      <td>1090</td>\n",
       "      <td>7.831193</td>\n",
       "      <td>79.597028</td>\n",
       "      <td>10.164100</td>\n",
       "      <td>511</td>\n",
       "      <td>93</td>\n",
       "      <td>0.468807</td>\n",
       "    </tr>\n",
       "    <tr>\n",
       "      <th>3066</th>\n",
       "      <td>gaming</td>\n",
       "      <td>83138</td>\n",
       "      <td>7.035808</td>\n",
       "      <td>68.375013</td>\n",
       "      <td>9.718147</td>\n",
       "      <td>34867</td>\n",
       "      <td>10706</td>\n",
       "      <td>0.419387</td>\n",
       "    </tr>\n",
       "    <tr>\n",
       "      <th>480</th>\n",
       "      <td>todayilearned</td>\n",
       "      <td>58489</td>\n",
       "      <td>10.116518</td>\n",
       "      <td>97.530625</td>\n",
       "      <td>9.640731</td>\n",
       "      <td>26820</td>\n",
       "      <td>8817</td>\n",
       "      <td>0.458548</td>\n",
       "    </tr>\n",
       "    <tr>\n",
       "      <th>1430</th>\n",
       "      <td>worldnews</td>\n",
       "      <td>69060</td>\n",
       "      <td>7.210295</td>\n",
       "      <td>68.226018</td>\n",
       "      <td>9.462306</td>\n",
       "      <td>29323</td>\n",
       "      <td>14721</td>\n",
       "      <td>0.424602</td>\n",
       "    </tr>\n",
       "    <tr>\n",
       "      <th>2439</th>\n",
       "      <td>pokemongo</td>\n",
       "      <td>7890</td>\n",
       "      <td>5.838150</td>\n",
       "      <td>53.855113</td>\n",
       "      <td>9.224689</td>\n",
       "      <td>3188</td>\n",
       "      <td>744</td>\n",
       "      <td>0.404056</td>\n",
       "    </tr>\n",
       "    <tr>\n",
       "      <th>3676</th>\n",
       "      <td>CFB</td>\n",
       "      <td>31503</td>\n",
       "      <td>6.572326</td>\n",
       "      <td>60.135034</td>\n",
       "      <td>9.149733</td>\n",
       "      <td>19710</td>\n",
       "      <td>2074</td>\n",
       "      <td>0.625655</td>\n",
       "    </tr>\n",
       "    <tr>\n",
       "      <th>1422</th>\n",
       "      <td>announcements</td>\n",
       "      <td>1007</td>\n",
       "      <td>17.520357</td>\n",
       "      <td>159.481345</td>\n",
       "      <td>9.102631</td>\n",
       "      <td>412</td>\n",
       "      <td>205</td>\n",
       "      <td>0.409136</td>\n",
       "    </tr>\n",
       "    <tr>\n",
       "      <th>40</th>\n",
       "      <td>nottheonion</td>\n",
       "      <td>6974</td>\n",
       "      <td>10.878979</td>\n",
       "      <td>94.280942</td>\n",
       "      <td>8.666341</td>\n",
       "      <td>3126</td>\n",
       "      <td>972</td>\n",
       "      <td>0.448236</td>\n",
       "    </tr>\n",
       "    <tr>\n",
       "      <th>169</th>\n",
       "      <td>videos</td>\n",
       "      <td>66621</td>\n",
       "      <td>10.923493</td>\n",
       "      <td>94.527921</td>\n",
       "      <td>8.653635</td>\n",
       "      <td>28133</td>\n",
       "      <td>10708</td>\n",
       "      <td>0.422284</td>\n",
       "    </tr>\n",
       "    <tr>\n",
       "      <th>858</th>\n",
       "      <td>breakingbad</td>\n",
       "      <td>2932</td>\n",
       "      <td>12.334584</td>\n",
       "      <td>106.552769</td>\n",
       "      <td>8.638538</td>\n",
       "      <td>1597</td>\n",
       "      <td>307</td>\n",
       "      <td>0.544679</td>\n",
       "    </tr>\n",
       "    <tr>\n",
       "      <th>2308</th>\n",
       "      <td>Music</td>\n",
       "      <td>17020</td>\n",
       "      <td>5.509283</td>\n",
       "      <td>46.951520</td>\n",
       "      <td>8.522256</td>\n",
       "      <td>6712</td>\n",
       "      <td>1744</td>\n",
       "      <td>0.394360</td>\n",
       "    </tr>\n",
       "    <tr>\n",
       "      <th>1589</th>\n",
       "      <td>politics</td>\n",
       "      <td>103448</td>\n",
       "      <td>5.701744</td>\n",
       "      <td>48.352555</td>\n",
       "      <td>8.480310</td>\n",
       "      <td>47410</td>\n",
       "      <td>19313</td>\n",
       "      <td>0.458298</td>\n",
       "    </tr>\n",
       "    <tr>\n",
       "      <th>1925</th>\n",
       "      <td>rage</td>\n",
       "      <td>2048</td>\n",
       "      <td>8.245605</td>\n",
       "      <td>69.921728</td>\n",
       "      <td>8.479878</td>\n",
       "      <td>1114</td>\n",
       "      <td>388</td>\n",
       "      <td>0.543945</td>\n",
       "    </tr>\n",
       "    <tr>\n",
       "      <th>1119</th>\n",
       "      <td>pics</td>\n",
       "      <td>120180</td>\n",
       "      <td>7.995840</td>\n",
       "      <td>66.912785</td>\n",
       "      <td>8.368450</td>\n",
       "      <td>49753</td>\n",
       "      <td>17829</td>\n",
       "      <td>0.413987</td>\n",
       "    </tr>\n",
       "    <tr>\n",
       "      <th>1780</th>\n",
       "      <td>LifeProTips</td>\n",
       "      <td>7382</td>\n",
       "      <td>8.756164</td>\n",
       "      <td>73.219316</td>\n",
       "      <td>8.362032</td>\n",
       "      <td>3382</td>\n",
       "      <td>699</td>\n",
       "      <td>0.458141</td>\n",
       "    </tr>\n",
       "    <tr>\n",
       "      <th>2614</th>\n",
       "      <td>WTF</td>\n",
       "      <td>72097</td>\n",
       "      <td>8.993911</td>\n",
       "      <td>74.743082</td>\n",
       "      <td>8.310409</td>\n",
       "      <td>31389</td>\n",
       "      <td>10070</td>\n",
       "      <td>0.435372</td>\n",
       "    </tr>\n",
       "    <tr>\n",
       "      <th>1937</th>\n",
       "      <td>IAmA</td>\n",
       "      <td>42888</td>\n",
       "      <td>11.405358</td>\n",
       "      <td>94.365688</td>\n",
       "      <td>8.273803</td>\n",
       "      <td>18043</td>\n",
       "      <td>4585</td>\n",
       "      <td>0.420700</td>\n",
       "    </tr>\n",
       "    <tr>\n",
       "      <th>952</th>\n",
       "      <td>Showerthoughts</td>\n",
       "      <td>16149</td>\n",
       "      <td>9.035977</td>\n",
       "      <td>74.160622</td>\n",
       "      <td>8.207261</td>\n",
       "      <td>6847</td>\n",
       "      <td>1319</td>\n",
       "      <td>0.423989</td>\n",
       "    </tr>\n",
       "    <tr>\n",
       "      <th>2490</th>\n",
       "      <td>climbing</td>\n",
       "      <td>1419</td>\n",
       "      <td>4.144468</td>\n",
       "      <td>33.784468</td>\n",
       "      <td>8.151702</td>\n",
       "      <td>776</td>\n",
       "      <td>93</td>\n",
       "      <td>0.546864</td>\n",
       "    </tr>\n",
       "    <tr>\n",
       "      <th>...</th>\n",
       "      <td>...</td>\n",
       "      <td>...</td>\n",
       "      <td>...</td>\n",
       "      <td>...</td>\n",
       "      <td>...</td>\n",
       "      <td>...</td>\n",
       "      <td>...</td>\n",
       "      <td>...</td>\n",
       "    </tr>\n",
       "    <tr>\n",
       "      <th>933</th>\n",
       "      <td>hcteams</td>\n",
       "      <td>1454</td>\n",
       "      <td>1.085970</td>\n",
       "      <td>0.689242</td>\n",
       "      <td>0.634679</td>\n",
       "      <td>88</td>\n",
       "      <td>33</td>\n",
       "      <td>0.060523</td>\n",
       "    </tr>\n",
       "    <tr>\n",
       "      <th>1221</th>\n",
       "      <td>PictureGame</td>\n",
       "      <td>1267</td>\n",
       "      <td>1.221784</td>\n",
       "      <td>0.769008</td>\n",
       "      <td>0.629414</td>\n",
       "      <td>211</td>\n",
       "      <td>6</td>\n",
       "      <td>0.166535</td>\n",
       "    </tr>\n",
       "    <tr>\n",
       "      <th>2047</th>\n",
       "      <td>RandomActsofMakeup</td>\n",
       "      <td>1131</td>\n",
       "      <td>1.548187</td>\n",
       "      <td>0.970414</td>\n",
       "      <td>0.626806</td>\n",
       "      <td>464</td>\n",
       "      <td>15</td>\n",
       "      <td>0.410256</td>\n",
       "    </tr>\n",
       "    <tr>\n",
       "      <th>2086</th>\n",
       "      <td>GoneWildPlus</td>\n",
       "      <td>2596</td>\n",
       "      <td>1.390601</td>\n",
       "      <td>0.841581</td>\n",
       "      <td>0.605192</td>\n",
       "      <td>936</td>\n",
       "      <td>92</td>\n",
       "      <td>0.360555</td>\n",
       "    </tr>\n",
       "    <tr>\n",
       "      <th>2506</th>\n",
       "      <td>ecigclassifieds</td>\n",
       "      <td>1115</td>\n",
       "      <td>1.071749</td>\n",
       "      <td>0.641377</td>\n",
       "      <td>0.598440</td>\n",
       "      <td>120</td>\n",
       "      <td>50</td>\n",
       "      <td>0.107623</td>\n",
       "    </tr>\n",
       "    <tr>\n",
       "      <th>273</th>\n",
       "      <td>Wishlist</td>\n",
       "      <td>1551</td>\n",
       "      <td>2.481625</td>\n",
       "      <td>1.335188</td>\n",
       "      <td>0.538030</td>\n",
       "      <td>1256</td>\n",
       "      <td>4</td>\n",
       "      <td>0.809800</td>\n",
       "    </tr>\n",
       "    <tr>\n",
       "      <th>667</th>\n",
       "      <td>counting</td>\n",
       "      <td>5825</td>\n",
       "      <td>2.501974</td>\n",
       "      <td>1.338888</td>\n",
       "      <td>0.535133</td>\n",
       "      <td>4788</td>\n",
       "      <td>23</td>\n",
       "      <td>0.821974</td>\n",
       "    </tr>\n",
       "    <tr>\n",
       "      <th>1545</th>\n",
       "      <td>GiftofGames</td>\n",
       "      <td>1118</td>\n",
       "      <td>1.207513</td>\n",
       "      <td>0.643024</td>\n",
       "      <td>0.532519</td>\n",
       "      <td>195</td>\n",
       "      <td>24</td>\n",
       "      <td>0.174419</td>\n",
       "    </tr>\n",
       "    <tr>\n",
       "      <th>2984</th>\n",
       "      <td>worldpowers</td>\n",
       "      <td>1504</td>\n",
       "      <td>1.206782</td>\n",
       "      <td>0.638471</td>\n",
       "      <td>0.529069</td>\n",
       "      <td>224</td>\n",
       "      <td>9</td>\n",
       "      <td>0.148936</td>\n",
       "    </tr>\n",
       "    <tr>\n",
       "      <th>1752</th>\n",
       "      <td>gameswap</td>\n",
       "      <td>2063</td>\n",
       "      <td>1.061561</td>\n",
       "      <td>0.542644</td>\n",
       "      <td>0.511176</td>\n",
       "      <td>149</td>\n",
       "      <td>61</td>\n",
       "      <td>0.072225</td>\n",
       "    </tr>\n",
       "    <tr>\n",
       "      <th>2703</th>\n",
       "      <td>pokemontrades</td>\n",
       "      <td>15140</td>\n",
       "      <td>1.054491</td>\n",
       "      <td>0.473908</td>\n",
       "      <td>0.449418</td>\n",
       "      <td>727</td>\n",
       "      <td>92</td>\n",
       "      <td>0.048018</td>\n",
       "    </tr>\n",
       "    <tr>\n",
       "      <th>2743</th>\n",
       "      <td>randomactsofcsgo</td>\n",
       "      <td>1489</td>\n",
       "      <td>1.067159</td>\n",
       "      <td>0.478913</td>\n",
       "      <td>0.448774</td>\n",
       "      <td>85</td>\n",
       "      <td>14</td>\n",
       "      <td>0.057085</td>\n",
       "    </tr>\n",
       "    <tr>\n",
       "      <th>3438</th>\n",
       "      <td>SecretSubreddit</td>\n",
       "      <td>1028</td>\n",
       "      <td>1.123541</td>\n",
       "      <td>0.490722</td>\n",
       "      <td>0.436764</td>\n",
       "      <td>91</td>\n",
       "      <td>2</td>\n",
       "      <td>0.088521</td>\n",
       "    </tr>\n",
       "    <tr>\n",
       "      <th>507</th>\n",
       "      <td>rwbyRP</td>\n",
       "      <td>1156</td>\n",
       "      <td>1.324394</td>\n",
       "      <td>0.530745</td>\n",
       "      <td>0.400745</td>\n",
       "      <td>346</td>\n",
       "      <td>0</td>\n",
       "      <td>0.299308</td>\n",
       "    </tr>\n",
       "    <tr>\n",
       "      <th>509</th>\n",
       "      <td>BloodGulchRP</td>\n",
       "      <td>1471</td>\n",
       "      <td>1.136642</td>\n",
       "      <td>0.425013</td>\n",
       "      <td>0.373920</td>\n",
       "      <td>163</td>\n",
       "      <td>0</td>\n",
       "      <td>0.110809</td>\n",
       "    </tr>\n",
       "    <tr>\n",
       "      <th>587</th>\n",
       "      <td>AdoptMyVillager</td>\n",
       "      <td>1253</td>\n",
       "      <td>1.066241</td>\n",
       "      <td>0.397177</td>\n",
       "      <td>0.372502</td>\n",
       "      <td>78</td>\n",
       "      <td>16</td>\n",
       "      <td>0.062251</td>\n",
       "    </tr>\n",
       "    <tr>\n",
       "      <th>2382</th>\n",
       "      <td>CasualPokemonTrades</td>\n",
       "      <td>2475</td>\n",
       "      <td>1.077576</td>\n",
       "      <td>0.372404</td>\n",
       "      <td>0.345594</td>\n",
       "      <td>210</td>\n",
       "      <td>29</td>\n",
       "      <td>0.084848</td>\n",
       "    </tr>\n",
       "    <tr>\n",
       "      <th>142</th>\n",
       "      <td>ACTrade</td>\n",
       "      <td>3996</td>\n",
       "      <td>1.053554</td>\n",
       "      <td>0.351837</td>\n",
       "      <td>0.333953</td>\n",
       "      <td>240</td>\n",
       "      <td>36</td>\n",
       "      <td>0.060060</td>\n",
       "    </tr>\n",
       "    <tr>\n",
       "      <th>1024</th>\n",
       "      <td>CampHalfBloodRP</td>\n",
       "      <td>2720</td>\n",
       "      <td>1.142647</td>\n",
       "      <td>0.352917</td>\n",
       "      <td>0.308859</td>\n",
       "      <td>387</td>\n",
       "      <td>1</td>\n",
       "      <td>0.142279</td>\n",
       "    </tr>\n",
       "    <tr>\n",
       "      <th>2419</th>\n",
       "      <td>randomsuperpowers</td>\n",
       "      <td>1723</td>\n",
       "      <td>1.066744</td>\n",
       "      <td>0.307970</td>\n",
       "      <td>0.288701</td>\n",
       "      <td>108</td>\n",
       "      <td>0</td>\n",
       "      <td>0.062681</td>\n",
       "    </tr>\n",
       "    <tr>\n",
       "      <th>1012</th>\n",
       "      <td>Pokemongiveaway</td>\n",
       "      <td>6836</td>\n",
       "      <td>1.066706</td>\n",
       "      <td>0.306378</td>\n",
       "      <td>0.287218</td>\n",
       "      <td>467</td>\n",
       "      <td>46</td>\n",
       "      <td>0.068315</td>\n",
       "    </tr>\n",
       "    <tr>\n",
       "      <th>2988</th>\n",
       "      <td>PokemonPlaza</td>\n",
       "      <td>2601</td>\n",
       "      <td>1.069204</td>\n",
       "      <td>0.304797</td>\n",
       "      <td>0.285069</td>\n",
       "      <td>194</td>\n",
       "      <td>24</td>\n",
       "      <td>0.074587</td>\n",
       "    </tr>\n",
       "    <tr>\n",
       "      <th>522</th>\n",
       "      <td>YamakuHighSchool</td>\n",
       "      <td>1043</td>\n",
       "      <td>1.079578</td>\n",
       "      <td>0.284593</td>\n",
       "      <td>0.263615</td>\n",
       "      <td>83</td>\n",
       "      <td>2</td>\n",
       "      <td>0.079578</td>\n",
       "    </tr>\n",
       "    <tr>\n",
       "      <th>3487</th>\n",
       "      <td>Fireteams</td>\n",
       "      <td>8282</td>\n",
       "      <td>1.017508</td>\n",
       "      <td>0.256414</td>\n",
       "      <td>0.252002</td>\n",
       "      <td>140</td>\n",
       "      <td>42</td>\n",
       "      <td>0.016904</td>\n",
       "    </tr>\n",
       "    <tr>\n",
       "      <th>3582</th>\n",
       "      <td>SVExchange</td>\n",
       "      <td>8004</td>\n",
       "      <td>1.040605</td>\n",
       "      <td>0.261151</td>\n",
       "      <td>0.250961</td>\n",
       "      <td>327</td>\n",
       "      <td>24</td>\n",
       "      <td>0.040855</td>\n",
       "    </tr>\n",
       "    <tr>\n",
       "      <th>1592</th>\n",
       "      <td>friendsafari</td>\n",
       "      <td>15142</td>\n",
       "      <td>1.033087</td>\n",
       "      <td>0.222032</td>\n",
       "      <td>0.214921</td>\n",
       "      <td>582</td>\n",
       "      <td>93</td>\n",
       "      <td>0.038436</td>\n",
       "    </tr>\n",
       "    <tr>\n",
       "      <th>2761</th>\n",
       "      <td>PotterPlayRP</td>\n",
       "      <td>1434</td>\n",
       "      <td>1.036960</td>\n",
       "      <td>0.222655</td>\n",
       "      <td>0.214719</td>\n",
       "      <td>51</td>\n",
       "      <td>2</td>\n",
       "      <td>0.035565</td>\n",
       "    </tr>\n",
       "    <tr>\n",
       "      <th>1747</th>\n",
       "      <td>PercyJacksonRP</td>\n",
       "      <td>3938</td>\n",
       "      <td>1.031996</td>\n",
       "      <td>0.201574</td>\n",
       "      <td>0.195324</td>\n",
       "      <td>119</td>\n",
       "      <td>3</td>\n",
       "      <td>0.030218</td>\n",
       "    </tr>\n",
       "    <tr>\n",
       "      <th>2667</th>\n",
       "      <td>XMenRP</td>\n",
       "      <td>1874</td>\n",
       "      <td>1.022946</td>\n",
       "      <td>0.149770</td>\n",
       "      <td>0.146410</td>\n",
       "      <td>43</td>\n",
       "      <td>0</td>\n",
       "      <td>0.022946</td>\n",
       "    </tr>\n",
       "    <tr>\n",
       "      <th>1093</th>\n",
       "      <td>conspiro</td>\n",
       "      <td>1126</td>\n",
       "      <td>1.002664</td>\n",
       "      <td>0.066613</td>\n",
       "      <td>0.066436</td>\n",
       "      <td>4</td>\n",
       "      <td>1</td>\n",
       "      <td>0.003552</td>\n",
       "    </tr>\n",
       "  </tbody>\n",
       "</table>\n",
       "<p>806 rows × 8 columns</p>\n",
       "</div>"
      ],
      "text/plain": [
       "                subreddit   count  avg_score   std_score  avg_std_score  \\\n",
       "2728                drunk    1731   7.635471  126.879441      16.617108   \n",
       "139      NoMansSkyTheGame    3775   4.248742   57.861720      13.618554   \n",
       "615                  news   48265   7.621672   89.915975      11.797408   \n",
       "2944        OldSchoolCool    4025   9.453913  109.076042      11.537661   \n",
       "290          pcmasterrace   35917   4.661414   53.470208      11.470813   \n",
       "2394    explainlikeimfive   17866   6.441117   73.584199      11.424136   \n",
       "2005        UpliftingNews    1984   9.118448  103.778686      11.381179   \n",
       "123                 space    4806   7.115481   80.153948      11.264727   \n",
       "168             AskReddit  569779  11.004876  120.533037      10.952694   \n",
       "2842         OutOfTheLoop    2022  18.678536  196.837994      10.538192   \n",
       "137         Documentaries    2792   6.096705   62.423123      10.238830   \n",
       "2352            dankmemes    1090   7.831193   79.597028      10.164100   \n",
       "3066               gaming   83138   7.035808   68.375013       9.718147   \n",
       "480         todayilearned   58489  10.116518   97.530625       9.640731   \n",
       "1430            worldnews   69060   7.210295   68.226018       9.462306   \n",
       "2439            pokemongo    7890   5.838150   53.855113       9.224689   \n",
       "3676                  CFB   31503   6.572326   60.135034       9.149733   \n",
       "1422        announcements    1007  17.520357  159.481345       9.102631   \n",
       "40            nottheonion    6974  10.878979   94.280942       8.666341   \n",
       "169                videos   66621  10.923493   94.527921       8.653635   \n",
       "858           breakingbad    2932  12.334584  106.552769       8.638538   \n",
       "2308                Music   17020   5.509283   46.951520       8.522256   \n",
       "1589             politics  103448   5.701744   48.352555       8.480310   \n",
       "1925                 rage    2048   8.245605   69.921728       8.479878   \n",
       "1119                 pics  120180   7.995840   66.912785       8.368450   \n",
       "1780          LifeProTips    7382   8.756164   73.219316       8.362032   \n",
       "2614                  WTF   72097   8.993911   74.743082       8.310409   \n",
       "1937                 IAmA   42888  11.405358   94.365688       8.273803   \n",
       "952        Showerthoughts   16149   9.035977   74.160622       8.207261   \n",
       "2490             climbing    1419   4.144468   33.784468       8.151702   \n",
       "...                   ...     ...        ...         ...            ...   \n",
       "933               hcteams    1454   1.085970    0.689242       0.634679   \n",
       "1221          PictureGame    1267   1.221784    0.769008       0.629414   \n",
       "2047   RandomActsofMakeup    1131   1.548187    0.970414       0.626806   \n",
       "2086         GoneWildPlus    2596   1.390601    0.841581       0.605192   \n",
       "2506      ecigclassifieds    1115   1.071749    0.641377       0.598440   \n",
       "273              Wishlist    1551   2.481625    1.335188       0.538030   \n",
       "667              counting    5825   2.501974    1.338888       0.535133   \n",
       "1545          GiftofGames    1118   1.207513    0.643024       0.532519   \n",
       "2984          worldpowers    1504   1.206782    0.638471       0.529069   \n",
       "1752             gameswap    2063   1.061561    0.542644       0.511176   \n",
       "2703        pokemontrades   15140   1.054491    0.473908       0.449418   \n",
       "2743     randomactsofcsgo    1489   1.067159    0.478913       0.448774   \n",
       "3438      SecretSubreddit    1028   1.123541    0.490722       0.436764   \n",
       "507                rwbyRP    1156   1.324394    0.530745       0.400745   \n",
       "509          BloodGulchRP    1471   1.136642    0.425013       0.373920   \n",
       "587       AdoptMyVillager    1253   1.066241    0.397177       0.372502   \n",
       "2382  CasualPokemonTrades    2475   1.077576    0.372404       0.345594   \n",
       "142               ACTrade    3996   1.053554    0.351837       0.333953   \n",
       "1024      CampHalfBloodRP    2720   1.142647    0.352917       0.308859   \n",
       "2419    randomsuperpowers    1723   1.066744    0.307970       0.288701   \n",
       "1012      Pokemongiveaway    6836   1.066706    0.306378       0.287218   \n",
       "2988         PokemonPlaza    2601   1.069204    0.304797       0.285069   \n",
       "522      YamakuHighSchool    1043   1.079578    0.284593       0.263615   \n",
       "3487            Fireteams    8282   1.017508    0.256414       0.252002   \n",
       "3582           SVExchange    8004   1.040605    0.261151       0.250961   \n",
       "1592         friendsafari   15142   1.033087    0.222032       0.214921   \n",
       "2761         PotterPlayRP    1434   1.036960    0.222655       0.214719   \n",
       "1747       PercyJacksonRP    3938   1.031996    0.201574       0.195324   \n",
       "2667               XMenRP    1874   1.022946    0.149770       0.146410   \n",
       "1093             conspiro    1126   1.002664    0.066613       0.066436   \n",
       "\n",
       "      count_pos  count_neg  agreement_factor  \n",
       "2728        879         67          0.507799  \n",
       "139        1663        376          0.440530  \n",
       "615       20422       9189          0.423122  \n",
       "2944       1804        552          0.448199  \n",
       "290       12720       2443          0.354150  \n",
       "2394       7312       2002          0.409269  \n",
       "2005        894        321          0.450605  \n",
       "123        2023        394          0.420932  \n",
       "168      232533      42128          0.408111  \n",
       "2842       1192        256          0.589515  \n",
       "137        1284        464          0.459885  \n",
       "2352        511         93          0.468807  \n",
       "3066      34867      10706          0.419387  \n",
       "480       26820       8817          0.458548  \n",
       "1430      29323      14721          0.424602  \n",
       "2439       3188        744          0.404056  \n",
       "3676      19710       2074          0.625655  \n",
       "1422        412        205          0.409136  \n",
       "40         3126        972          0.448236  \n",
       "169       28133      10708          0.422284  \n",
       "858        1597        307          0.544679  \n",
       "2308       6712       1744          0.394360  \n",
       "1589      47410      19313          0.458298  \n",
       "1925       1114        388          0.543945  \n",
       "1119      49753      17829          0.413987  \n",
       "1780       3382        699          0.458141  \n",
       "2614      31389      10070          0.435372  \n",
       "1937      18043       4585          0.420700  \n",
       "952        6847       1319          0.423989  \n",
       "2490        776         93          0.546864  \n",
       "...         ...        ...               ...  \n",
       "933          88         33          0.060523  \n",
       "1221        211          6          0.166535  \n",
       "2047        464         15          0.410256  \n",
       "2086        936         92          0.360555  \n",
       "2506        120         50          0.107623  \n",
       "273        1256          4          0.809800  \n",
       "667        4788         23          0.821974  \n",
       "1545        195         24          0.174419  \n",
       "2984        224          9          0.148936  \n",
       "1752        149         61          0.072225  \n",
       "2703        727         92          0.048018  \n",
       "2743         85         14          0.057085  \n",
       "3438         91          2          0.088521  \n",
       "507         346          0          0.299308  \n",
       "509         163          0          0.110809  \n",
       "587          78         16          0.062251  \n",
       "2382        210         29          0.084848  \n",
       "142         240         36          0.060060  \n",
       "1024        387          1          0.142279  \n",
       "2419        108          0          0.062681  \n",
       "1012        467         46          0.068315  \n",
       "2988        194         24          0.074587  \n",
       "522          83          2          0.079578  \n",
       "3487        140         42          0.016904  \n",
       "3582        327         24          0.040855  \n",
       "1592        582         93          0.038436  \n",
       "2761         51          2          0.035565  \n",
       "1747        119          3          0.030218  \n",
       "2667         43          0          0.022946  \n",
       "1093          4          1          0.003552  \n",
       "\n",
       "[806 rows x 8 columns]"
      ]
     },
     "execution_count": 23,
     "metadata": {},
     "output_type": "execute_result"
    }
   ],
   "source": [
    "b[(b['count'] > 1000)].sort_values('avg_std_score', ascending=False)"
   ]
  },
  {
   "cell_type": "code",
   "execution_count": 1,
   "metadata": {},
   "outputs": [
    {
     "ename": "NameError",
     "evalue": "name 'b' is not defined",
     "output_type": "error",
     "traceback": [
      "\u001b[0;31m---------------------------------------------------------------------------\u001b[0m",
      "\u001b[0;31mNameError\u001b[0m                                 Traceback (most recent call last)",
      "\u001b[0;32m<ipython-input-1-f37ceb55601e>\u001b[0m in \u001b[0;36m<module>\u001b[0;34m()\u001b[0m\n\u001b[0;32m----> 1\u001b[0;31m \u001b[0mb\u001b[0m\u001b[0;34m[\u001b[0m\u001b[0;34m(\u001b[0m\u001b[0mb\u001b[0m\u001b[0;34m[\u001b[0m\u001b[0;34m'count'\u001b[0m\u001b[0;34m]\u001b[0m \u001b[0;34m>\u001b[0m \u001b[0;36m1000\u001b[0m\u001b[0;34m)\u001b[0m \u001b[0;34m&\u001b[0m \u001b[0;34m(\u001b[0m\u001b[0mb\u001b[0m\u001b[0;34m[\u001b[0m\u001b[0;34m'count'\u001b[0m\u001b[0;34m]\u001b[0m \u001b[0;34m<\u001b[0m \u001b[0;36m569779\u001b[0m\u001b[0;34m)\u001b[0m\u001b[0;34m]\u001b[0m\u001b[0;34m.\u001b[0m\u001b[0mplot\u001b[0m\u001b[0;34m.\u001b[0m\u001b[0mscatter\u001b[0m\u001b[0;34m(\u001b[0m\u001b[0;34m'count'\u001b[0m\u001b[0;34m,\u001b[0m \u001b[0;34m'std_score'\u001b[0m\u001b[0;34m)\u001b[0m\u001b[0;34m\u001b[0m\u001b[0m\n\u001b[0m",
      "\u001b[0;31mNameError\u001b[0m: name 'b' is not defined"
     ]
    }
   ],
   "source": [
    "b[(b['count'] > 1000) & (b['count'] < 569779)].plot.scatter('count', 'std_score')"
   ]
  },
  {
   "cell_type": "code",
   "execution_count": 19,
   "metadata": {},
   "outputs": [
    {
     "ename": "Py4JJavaError",
     "evalue": "An error occurred while calling o90.collectToPython.\n: java.lang.OutOfMemoryError: GC overhead limit exceeded\n\tat org.apache.spark.sql.execution.SparkPlan$$anon$1.next(SparkPlan.scala:280)\n\tat org.apache.spark.sql.execution.SparkPlan$$anon$1.next(SparkPlan.scala:276)\n\tat scala.collection.Iterator$class.foreach(Iterator.scala:893)\n\tat org.apache.spark.sql.execution.SparkPlan$$anon$1.foreach(SparkPlan.scala:276)\n\tat org.apache.spark.sql.execution.SparkPlan$$anonfun$executeCollect$1.apply(SparkPlan.scala:298)\n\tat org.apache.spark.sql.execution.SparkPlan$$anonfun$executeCollect$1.apply(SparkPlan.scala:297)\n\tat scala.collection.IndexedSeqOptimized$class.foreach(IndexedSeqOptimized.scala:33)\n\tat scala.collection.mutable.ArrayOps$ofRef.foreach(ArrayOps.scala:186)\n\tat org.apache.spark.sql.execution.SparkPlan.executeCollect(SparkPlan.scala:297)\n\tat org.apache.spark.sql.Dataset$$anonfun$collectToPython$1.apply(Dataset.scala:3200)\n\tat org.apache.spark.sql.Dataset$$anonfun$collectToPython$1.apply(Dataset.scala:3197)\n\tat org.apache.spark.sql.Dataset$$anonfun$52.apply(Dataset.scala:3259)\n\tat org.apache.spark.sql.execution.SQLExecution$.withNewExecutionId(SQLExecution.scala:77)\n\tat org.apache.spark.sql.Dataset.withAction(Dataset.scala:3258)\n\tat org.apache.spark.sql.Dataset.collectToPython(Dataset.scala:3197)\n\tat sun.reflect.NativeMethodAccessorImpl.invoke0(Native Method)\n\tat sun.reflect.NativeMethodAccessorImpl.invoke(NativeMethodAccessorImpl.java:62)\n\tat sun.reflect.DelegatingMethodAccessorImpl.invoke(DelegatingMethodAccessorImpl.java:43)\n\tat java.lang.reflect.Method.invoke(Method.java:498)\n\tat py4j.reflection.MethodInvoker.invoke(MethodInvoker.java:244)\n\tat py4j.reflection.ReflectionEngine.invoke(ReflectionEngine.java:357)\n\tat py4j.Gateway.invoke(Gateway.java:282)\n\tat py4j.commands.AbstractCommand.invokeMethod(AbstractCommand.java:132)\n\tat py4j.commands.CallCommand.execute(CallCommand.java:79)\n\tat py4j.GatewayConnection.run(GatewayConnection.java:238)\n\tat java.lang.Thread.run(Thread.java:748)\n",
     "output_type": "error",
     "traceback": [
      "\u001b[0;31m---------------------------------------------------------------------------\u001b[0m",
      "\u001b[0;31mPy4JJavaError\u001b[0m                             Traceback (most recent call last)",
      "\u001b[0;32m<ipython-input-19-4547a6c6b5c6>\u001b[0m in \u001b[0;36m<module>\u001b[0;34m()\u001b[0m\n\u001b[0;32m----> 1\u001b[0;31m \u001b[0mnlp_df\u001b[0m \u001b[0;34m=\u001b[0m \u001b[0mnlp\u001b[0m\u001b[0;34m.\u001b[0m\u001b[0mtoPandas\u001b[0m\u001b[0;34m(\u001b[0m\u001b[0;34m)\u001b[0m\u001b[0;34m\u001b[0m\u001b[0m\n\u001b[0m",
      "\u001b[0;32m/Library/Spark/python/pyspark/sql/dataframe.py\u001b[0m in \u001b[0;36mtoPandas\u001b[0;34m(self)\u001b[0m\n\u001b[1;32m   1966\u001b[0m                 \u001b[0;32mraise\u001b[0m \u001b[0mRuntimeError\u001b[0m\u001b[0;34m(\u001b[0m\u001b[0;34m\"%s\\n%s\"\u001b[0m \u001b[0;34m%\u001b[0m \u001b[0;34m(\u001b[0m\u001b[0m_exception_message\u001b[0m\u001b[0;34m(\u001b[0m\u001b[0me\u001b[0m\u001b[0;34m)\u001b[0m\u001b[0;34m,\u001b[0m \u001b[0mmsg\u001b[0m\u001b[0;34m)\u001b[0m\u001b[0;34m)\u001b[0m\u001b[0;34m\u001b[0m\u001b[0m\n\u001b[1;32m   1967\u001b[0m         \u001b[0;32melse\u001b[0m\u001b[0;34m:\u001b[0m\u001b[0;34m\u001b[0m\u001b[0m\n\u001b[0;32m-> 1968\u001b[0;31m             \u001b[0mpdf\u001b[0m \u001b[0;34m=\u001b[0m \u001b[0mpd\u001b[0m\u001b[0;34m.\u001b[0m\u001b[0mDataFrame\u001b[0m\u001b[0;34m.\u001b[0m\u001b[0mfrom_records\u001b[0m\u001b[0;34m(\u001b[0m\u001b[0mself\u001b[0m\u001b[0;34m.\u001b[0m\u001b[0mcollect\u001b[0m\u001b[0;34m(\u001b[0m\u001b[0;34m)\u001b[0m\u001b[0;34m,\u001b[0m \u001b[0mcolumns\u001b[0m\u001b[0;34m=\u001b[0m\u001b[0mself\u001b[0m\u001b[0;34m.\u001b[0m\u001b[0mcolumns\u001b[0m\u001b[0;34m)\u001b[0m\u001b[0;34m\u001b[0m\u001b[0m\n\u001b[0m\u001b[1;32m   1969\u001b[0m \u001b[0;34m\u001b[0m\u001b[0m\n\u001b[1;32m   1970\u001b[0m             \u001b[0mdtype\u001b[0m \u001b[0;34m=\u001b[0m \u001b[0;34m{\u001b[0m\u001b[0;34m}\u001b[0m\u001b[0;34m\u001b[0m\u001b[0m\n",
      "\u001b[0;32m/Library/Spark/python/pyspark/sql/dataframe.py\u001b[0m in \u001b[0;36mcollect\u001b[0;34m(self)\u001b[0m\n\u001b[1;32m    464\u001b[0m         \"\"\"\n\u001b[1;32m    465\u001b[0m         \u001b[0;32mwith\u001b[0m \u001b[0mSCCallSiteSync\u001b[0m\u001b[0;34m(\u001b[0m\u001b[0mself\u001b[0m\u001b[0;34m.\u001b[0m\u001b[0m_sc\u001b[0m\u001b[0;34m)\u001b[0m \u001b[0;32mas\u001b[0m \u001b[0mcss\u001b[0m\u001b[0;34m:\u001b[0m\u001b[0;34m\u001b[0m\u001b[0m\n\u001b[0;32m--> 466\u001b[0;31m             \u001b[0msock_info\u001b[0m \u001b[0;34m=\u001b[0m \u001b[0mself\u001b[0m\u001b[0;34m.\u001b[0m\u001b[0m_jdf\u001b[0m\u001b[0;34m.\u001b[0m\u001b[0mcollectToPython\u001b[0m\u001b[0;34m(\u001b[0m\u001b[0;34m)\u001b[0m\u001b[0;34m\u001b[0m\u001b[0m\n\u001b[0m\u001b[1;32m    467\u001b[0m         \u001b[0;32mreturn\u001b[0m \u001b[0mlist\u001b[0m\u001b[0;34m(\u001b[0m\u001b[0m_load_from_socket\u001b[0m\u001b[0;34m(\u001b[0m\u001b[0msock_info\u001b[0m\u001b[0;34m,\u001b[0m \u001b[0mBatchedSerializer\u001b[0m\u001b[0;34m(\u001b[0m\u001b[0mPickleSerializer\u001b[0m\u001b[0;34m(\u001b[0m\u001b[0;34m)\u001b[0m\u001b[0;34m)\u001b[0m\u001b[0;34m)\u001b[0m\u001b[0;34m)\u001b[0m\u001b[0;34m\u001b[0m\u001b[0m\n\u001b[1;32m    468\u001b[0m \u001b[0;34m\u001b[0m\u001b[0m\n",
      "\u001b[0;32m/Library/Spark/python/lib/py4j-0.10.7-src.zip/py4j/java_gateway.py\u001b[0m in \u001b[0;36m__call__\u001b[0;34m(self, *args)\u001b[0m\n\u001b[1;32m   1255\u001b[0m         \u001b[0manswer\u001b[0m \u001b[0;34m=\u001b[0m \u001b[0mself\u001b[0m\u001b[0;34m.\u001b[0m\u001b[0mgateway_client\u001b[0m\u001b[0;34m.\u001b[0m\u001b[0msend_command\u001b[0m\u001b[0;34m(\u001b[0m\u001b[0mcommand\u001b[0m\u001b[0;34m)\u001b[0m\u001b[0;34m\u001b[0m\u001b[0m\n\u001b[1;32m   1256\u001b[0m         return_value = get_return_value(\n\u001b[0;32m-> 1257\u001b[0;31m             answer, self.gateway_client, self.target_id, self.name)\n\u001b[0m\u001b[1;32m   1258\u001b[0m \u001b[0;34m\u001b[0m\u001b[0m\n\u001b[1;32m   1259\u001b[0m         \u001b[0;32mfor\u001b[0m \u001b[0mtemp_arg\u001b[0m \u001b[0;32min\u001b[0m \u001b[0mtemp_args\u001b[0m\u001b[0;34m:\u001b[0m\u001b[0;34m\u001b[0m\u001b[0m\n",
      "\u001b[0;32m/Library/Spark/python/pyspark/sql/utils.py\u001b[0m in \u001b[0;36mdeco\u001b[0;34m(*a, **kw)\u001b[0m\n\u001b[1;32m     61\u001b[0m     \u001b[0;32mdef\u001b[0m \u001b[0mdeco\u001b[0m\u001b[0;34m(\u001b[0m\u001b[0;34m*\u001b[0m\u001b[0ma\u001b[0m\u001b[0;34m,\u001b[0m \u001b[0;34m**\u001b[0m\u001b[0mkw\u001b[0m\u001b[0;34m)\u001b[0m\u001b[0;34m:\u001b[0m\u001b[0;34m\u001b[0m\u001b[0m\n\u001b[1;32m     62\u001b[0m         \u001b[0;32mtry\u001b[0m\u001b[0;34m:\u001b[0m\u001b[0;34m\u001b[0m\u001b[0m\n\u001b[0;32m---> 63\u001b[0;31m             \u001b[0;32mreturn\u001b[0m \u001b[0mf\u001b[0m\u001b[0;34m(\u001b[0m\u001b[0;34m*\u001b[0m\u001b[0ma\u001b[0m\u001b[0;34m,\u001b[0m \u001b[0;34m**\u001b[0m\u001b[0mkw\u001b[0m\u001b[0;34m)\u001b[0m\u001b[0;34m\u001b[0m\u001b[0m\n\u001b[0m\u001b[1;32m     64\u001b[0m         \u001b[0;32mexcept\u001b[0m \u001b[0mpy4j\u001b[0m\u001b[0;34m.\u001b[0m\u001b[0mprotocol\u001b[0m\u001b[0;34m.\u001b[0m\u001b[0mPy4JJavaError\u001b[0m \u001b[0;32mas\u001b[0m \u001b[0me\u001b[0m\u001b[0;34m:\u001b[0m\u001b[0;34m\u001b[0m\u001b[0m\n\u001b[1;32m     65\u001b[0m             \u001b[0ms\u001b[0m \u001b[0;34m=\u001b[0m \u001b[0me\u001b[0m\u001b[0;34m.\u001b[0m\u001b[0mjava_exception\u001b[0m\u001b[0;34m.\u001b[0m\u001b[0mtoString\u001b[0m\u001b[0;34m(\u001b[0m\u001b[0;34m)\u001b[0m\u001b[0;34m\u001b[0m\u001b[0m\n",
      "\u001b[0;32m/Library/Spark/python/lib/py4j-0.10.7-src.zip/py4j/protocol.py\u001b[0m in \u001b[0;36mget_return_value\u001b[0;34m(answer, gateway_client, target_id, name)\u001b[0m\n\u001b[1;32m    326\u001b[0m                 raise Py4JJavaError(\n\u001b[1;32m    327\u001b[0m                     \u001b[0;34m\"An error occurred while calling {0}{1}{2}.\\n\"\u001b[0m\u001b[0;34m.\u001b[0m\u001b[0;34m\u001b[0m\u001b[0m\n\u001b[0;32m--> 328\u001b[0;31m                     format(target_id, \".\", name), value)\n\u001b[0m\u001b[1;32m    329\u001b[0m             \u001b[0;32melse\u001b[0m\u001b[0;34m:\u001b[0m\u001b[0;34m\u001b[0m\u001b[0m\n\u001b[1;32m    330\u001b[0m                 raise Py4JError(\n",
      "\u001b[0;31mPy4JJavaError\u001b[0m: An error occurred while calling o90.collectToPython.\n: java.lang.OutOfMemoryError: GC overhead limit exceeded\n\tat org.apache.spark.sql.execution.SparkPlan$$anon$1.next(SparkPlan.scala:280)\n\tat org.apache.spark.sql.execution.SparkPlan$$anon$1.next(SparkPlan.scala:276)\n\tat scala.collection.Iterator$class.foreach(Iterator.scala:893)\n\tat org.apache.spark.sql.execution.SparkPlan$$anon$1.foreach(SparkPlan.scala:276)\n\tat org.apache.spark.sql.execution.SparkPlan$$anonfun$executeCollect$1.apply(SparkPlan.scala:298)\n\tat org.apache.spark.sql.execution.SparkPlan$$anonfun$executeCollect$1.apply(SparkPlan.scala:297)\n\tat scala.collection.IndexedSeqOptimized$class.foreach(IndexedSeqOptimized.scala:33)\n\tat scala.collection.mutable.ArrayOps$ofRef.foreach(ArrayOps.scala:186)\n\tat org.apache.spark.sql.execution.SparkPlan.executeCollect(SparkPlan.scala:297)\n\tat org.apache.spark.sql.Dataset$$anonfun$collectToPython$1.apply(Dataset.scala:3200)\n\tat org.apache.spark.sql.Dataset$$anonfun$collectToPython$1.apply(Dataset.scala:3197)\n\tat org.apache.spark.sql.Dataset$$anonfun$52.apply(Dataset.scala:3259)\n\tat org.apache.spark.sql.execution.SQLExecution$.withNewExecutionId(SQLExecution.scala:77)\n\tat org.apache.spark.sql.Dataset.withAction(Dataset.scala:3258)\n\tat org.apache.spark.sql.Dataset.collectToPython(Dataset.scala:3197)\n\tat sun.reflect.NativeMethodAccessorImpl.invoke0(Native Method)\n\tat sun.reflect.NativeMethodAccessorImpl.invoke(NativeMethodAccessorImpl.java:62)\n\tat sun.reflect.DelegatingMethodAccessorImpl.invoke(DelegatingMethodAccessorImpl.java:43)\n\tat java.lang.reflect.Method.invoke(Method.java:498)\n\tat py4j.reflection.MethodInvoker.invoke(MethodInvoker.java:244)\n\tat py4j.reflection.ReflectionEngine.invoke(ReflectionEngine.java:357)\n\tat py4j.Gateway.invoke(Gateway.java:282)\n\tat py4j.commands.AbstractCommand.invokeMethod(AbstractCommand.java:132)\n\tat py4j.commands.CallCommand.execute(CallCommand.java:79)\n\tat py4j.GatewayConnection.run(GatewayConnection.java:238)\n\tat java.lang.Thread.run(Thread.java:748)\n"
     ]
    }
   ],
   "source": [
    "nlp_df = nlp.toPandas()"
   ]
  },
  {
   "cell_type": "code",
   "execution_count": null,
   "metadata": {},
   "outputs": [],
   "source": [
    "nlp_df.head()"
   ]
  },
  {
   "cell_type": "code",
   "execution_count": 27,
   "metadata": {},
   "outputs": [
    {
     "data": {
      "text/plain": [
       "2876334"
      ]
     },
     "execution_count": 27,
     "metadata": {},
     "output_type": "execute_result"
    }
   ],
   "source": [
    "nlp."
   ]
  },
  {
   "cell_type": "code",
   "execution_count": 236,
   "metadata": {},
   "outputs": [],
   "source": [
    "daily_metrics[['count_of_comments_60d_avg', 'count_of_users_60d_avg']].to_csv('../data/daily_traffic.csv')"
   ]
  },
  {
   "cell_type": "code",
   "execution_count": null,
   "metadata": {},
   "outputs": [],
   "source": []
  }
 ],
 "metadata": {
  "kernelspec": {
   "display_name": "Python [conda env:ada]",
   "language": "python",
   "name": "conda-env-ada-py"
  },
  "language_info": {
   "codemirror_mode": {
    "name": "ipython",
    "version": 3
   },
   "file_extension": ".py",
   "mimetype": "text/x-python",
   "name": "python",
   "nbconvert_exporter": "python",
   "pygments_lexer": "ipython3",
   "version": "3.6.6"
  }
 },
 "nbformat": 4,
 "nbformat_minor": 2
}
