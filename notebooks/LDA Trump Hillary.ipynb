{
 "cells": [
  {
   "cell_type": "markdown",
   "metadata": {},
   "source": [
    "Sources : \n",
    "[General data science article presenting the method](https://medium.com/@connectwithghosh/topic-modelling-with-latent-dirichlet-allocation-lda-in-pyspark-2cb3ebd5678e)\n",
    "\n",
    "[Issue of an user to do LDA on SO](https://stackoverflow.com/questions/42051184/latent-dirichlet-allocation-lda-in-spark#)\n",
    "\n",
    "[Gist of a LDA implementation](https://gist.github.com/Bergvca/a59b127afe46c1c1c479)\n",
    "\n",
    "[SO question about retrieving topic distribution](https://stackoverflow.com/questions/33072449/extract-document-topic-matrix-from-pyspark-lda-model/41515070)\n",
    "\n",
    "[Slides from presentation about recommended parameters for LDA](http://www.phusewiki.org/wiki/images/c/c9/Weizhong_Presentation_CDER_Nov_9th.pdf)"
   ]
  },
  {
   "cell_type": "code",
   "execution_count": 1,
   "metadata": {},
   "outputs": [],
   "source": [
    "import findspark\n",
    "findspark.init()\n",
    "\n",
    "import pyspark\n",
    "from pyspark.sql import *\n",
    "from pyspark.sql.types import *\n",
    "\n",
    "spark = SparkSession.builder.getOrCreate()\n",
    "\n",
    "from nltk.corpus import stopwords, wordnet\n",
    "from nltk.stem import WordNetLemmatizer\n",
    "from nltk import pos_tag\n",
    "\n",
    "#other words that need to be removed in order to avoid pollution on the topic. (experimental findings on news subreddit)\n",
    "aux_stop_words = ['people', 'would', 'like', 'img', 'jpg', 'imgjpg']\n",
    "\n",
    "en_stop = set(stopwords.words('english')+aux_stop_words)\n",
    "sc = spark.sparkContext\n",
    "sc.broadcast(en_stop)\n",
    "\n",
    "import datetime\n",
    "import re as re\n",
    "\n",
    "from pyspark.ml.feature import CountVectorizer , IDF\n",
    "from pyspark.ml.clustering import LDA"
   ]
  },
  {
   "cell_type": "code",
   "execution_count": 11,
   "metadata": {},
   "outputs": [],
   "source": [
    "data_trump = spark.read.load('../data/donald_comments.parquet')"
   ]
  },
  {
   "cell_type": "code",
   "execution_count": 33,
   "metadata": {},
   "outputs": [],
   "source": [
    "def text_preprocessing(txt, stop_words, pos_tagging=False, use_lemmatizing=False):\n",
    "    '''\n",
    "    Take care of doing all the text preprocessing for LDA\n",
    "    Only works on english ASCII content. (works on content with accent or such, but filter them out)\n",
    "    '''\n",
    "    def get_wordnet_pos(treebank_tag):\n",
    "        if treebank_tag.startswith('J'):\n",
    "            return wordnet.ADJ\n",
    "        elif treebank_tag.startswith('V'):\n",
    "            return wordnet.VERB\n",
    "        elif treebank_tag.startswith('N'):\n",
    "            return wordnet.NOUN\n",
    "        elif treebank_tag.startswith('R'):\n",
    "            return wordnet.ADV\n",
    "        else:\n",
    "            #this is the default behaviour for lemmatize. \n",
    "            return wordnet.NOUN\n",
    "    \n",
    "    def remove_https(s):\n",
    "        return re.sub(r'https?:\\/\\/.*[\\r\\n]*', '', s, flags=re.UNICODE)\n",
    "    \n",
    "    #keeping only elements relevant to written speech.\n",
    "    def keep_only_letters(s):\n",
    "        return re.sub('[^a-zA-Z \\']+', '', s, flags=re.UNICODE)\n",
    "    \n",
    "    #remove mark of genitif from speech (i.e. \"'s\" associated to nouns)\n",
    "    def remove_genitive(s): \n",
    "        return re.sub('(\\'s)+', '', s, flags=re.UNICODE)\n",
    "    \n",
    "    #to avoid things that should be stop words (the're, I'll, wouldn't) to pollute the topics.\n",
    "    def remove_quote(s):\n",
    "        return s.replace('\\'', ' ')\n",
    "    \n",
    "    def clean_pipeline(s): \n",
    "        return remove_quote(remove_genitive(keep_only_letters(remove_https(s))))\n",
    "    \n",
    "    if pos_tagging:\n",
    "        #cannot use pos tagging without lemmatizing\n",
    "        assert(use_lemmatizing)\n",
    "    \n",
    "    #tokenizing the texts (removing line break, space and capitalization)\n",
    "    token_comm = re.split(\" \", clean_pipeline(txt).strip().lower())\n",
    "    \n",
    "    #to avoid empty token (caused by multiple spaces in the tokenization)\n",
    "    token_comm = [t for t in token_comm if len(t) > 0]\n",
    "    \n",
    "    if pos_tagging:\n",
    "        token_comm = pos_tag(token_comm)\n",
    "    else:\n",
    "        token_comm = zip(token_comm, [None]*len(token_comm))\n",
    "        \n",
    "    #removing all words of three letters or less\n",
    "    bigger_w = [x for x in token_comm if len(x[0]) > 3]\n",
    "\n",
    "    #removing stop_words\n",
    "    wout_sw_w = [x for x in bigger_w if x[0] not in stop_words]\n",
    "    \n",
    "    if pos_tagging and use_lemmatizing:\n",
    "        #get lemma of each word, then return result\n",
    "        return [WordNetLemmatizer().lemmatize(word, get_wordnet_pos(tag)) for word, tag in wout_sw_w]\n",
    "    elif use_lemmatizing:\n",
    "        #get lemma of each word, then return result\n",
    "        return [WordNetLemmatizer().lemmatize(word) for word, _ in wout_sw_w]\n",
    "    else:\n",
    "        return [word for word,_ in wout_sw_w]\n",
    "\n",
    "def perform_lda(documents, n_topics, n_words, alphas, beta, tokens_col):\n",
    "    '''\n",
    "    will perform LDA on a list of documents (== list of token)\n",
    "    assume that documents is a DataFrame with a column of unique id (uid).\n",
    "    \n",
    "    '''\n",
    "    cv = CountVectorizer(inputCol=tokens_col, outputCol=\"raw_features\")\n",
    "    cvmodel = cv.fit(documents)\n",
    "    result_cv = cvmodel.transform(documents)\n",
    "    \n",
    "    #we perform an tf-idf (term frequency inverse document frequency), to avoid threads with a lot of words to pollute the topics.\n",
    "    idf = IDF(inputCol=\"raw_features\", outputCol=\"features\")\n",
    "    idfModel = idf.fit(result_cv)\n",
    "    result_tfidf = idfModel.transform(result_cv) \n",
    "    \n",
    "    corpus = result_tfidf.select(\"uid\", \"features\")\n",
    "    \n",
    "    #defining and running the lda. \n",
    "    lda = LDA(k=n_topics, docConcentration=alphas, topicConcentration=beta)\n",
    "    model = lda.fit(corpus)\n",
    "    \n",
    "    #retrieving topics, and the vocabulary constructed by the CountVectorizer\n",
    "    topics = model.describeTopics(maxTermsPerTopic=n_words)\n",
    "    vocab = cvmodel.vocabulary\n",
    "    \n",
    "    #the topics are just numerical indices, we need to convert them to words, and associate them to their weights..\n",
    "    topics_with_weights = topics.rdd.map(lambda r: (r[0], ([(vocab[t],w) for t,w in zip(r[1], r[2])]), ' '.join([vocab[t] for t in r[1]]))).toDF().selectExpr(\"_1 as topic_number\", \"_2 as topic_weight\", \"_3 as topic\")\n",
    "    \n",
    "    return topics_with_weights\n",
    "\n",
    "def display_topics(topics_n_weight):\n",
    "    tops = topics_n_weight.select('topic').collect()\n",
    "    for i in range(len(tops)):\n",
    "        print(\"T %d: %s\"%(i+1, tops[i][0]))\n",
    "\n",
    "def lda_preprocess(df, use_lemmatizing=False, use_pos_tagging=False):\n",
    "    data_preprocessed = df.select('body', 'created').rdd.filter(lambda r: len(r[0]) > 50).map(lambda r: (text_preprocessing(r[0], en_stop, pos_tagging=use_pos_tagging, use_lemmatizing=use_lemmatizing), r[1])).filter(lambda r: r[0])\n",
    "    data_uid = data_preprocessed.map(lambda r: r).zipWithUniqueId().map(lambda r: (r[0][0], r[1])).toDF().selectExpr('_1 as text', '_2 as uid')\n",
    "    return data_uid\n",
    "    \n",
    "        \n",
    "def lda_display_and_time(df, n_topics, n_words, beta=0.01, alpha=0.01):\n",
    "    print('On %d comments, using %d topics with %d words, beta value : %.3f, alpha value: %.3f'%(df.count(), n_topics, n_words, beta, alpha))\n",
    "    #print('Starting day : %s Ending day : %s'%(df.agg({\"created\": \"min\"}).collect()[0][0], df.agg({\"created\": \"max\"}).collect()[0][0]))\n",
    "    print('Start time : '+ str(datetime.datetime.now()))\n",
    "    alphas = [alpha]*n_topics\n",
    "    topic_n_weights = perform_lda(df, n_topics, n_words, alphas, beta, 'text')\n",
    "    display_topics(topic_n_weights)\n",
    "    print('End time : \\n'+ str(datetime.datetime.now()))\n",
    "    return topic_n_weights\n",
    "    "
   ]
  },
  {
   "cell_type": "markdown",
   "metadata": {},
   "source": [
    "Taking a subsample without POS-tagging "
   ]
  },
  {
   "cell_type": "code",
   "execution_count": 6,
   "metadata": {},
   "outputs": [
    {
     "data": {
      "text/plain": [
       "19330"
      ]
     },
     "execution_count": 6,
     "metadata": {},
     "output_type": "execute_result"
    }
   ],
   "source": [
    "subsample_1 = data_trump.sample(False, 0.01, 35).cache()\n",
    "start_date = datetime.date(year=2016, month=10, day=7)\n",
    "end_date = datetime.date(year=2016, month=11, day=8)\n",
    "data_trump_oct_1 = subsample_1.filter(subsample_1.created > start_date).filter(subsample_1.created < end_date).cache()\n",
    "data_trump_oct_1.count()"
   ]
  },
  {
   "cell_type": "code",
   "execution_count": 13,
   "metadata": {},
   "outputs": [
    {
     "name": "stdout",
     "output_type": "stream",
     "text": [
      "On 19330 comments, using 5 topics with 8 words, pos: False, lemma: True\n",
      "Start time : 2018-12-14 21:09:57.769352\n",
      "T 1: predator lyin' force murderous clinton hillary crooked plane\n",
      "T 2: cooking propaganda fuck weasel shit fucking mean right\n",
      "T 3: lynch loretta spirit leg maga attorney hillary even\n",
      "T 4: liar vote corrupt trump traitor general woman election\n",
      "T 5: sexual fearlessness fearless coat sick higher foot hillary\n",
      "End time : 2018-12-14 21:29:44.919924\n"
     ]
    }
   ],
   "source": [
    "lda_display_and_time(data_trump_oct_1, 5, 8, True, False)"
   ]
  },
  {
   "cell_type": "code",
   "execution_count": 19,
   "metadata": {},
   "outputs": [
    {
     "name": "stdout",
     "output_type": "stream",
     "text": [
      "On 19330 comments, using 10 topics with 4 words, pos: False, lemma: True\n",
      "Start time : 2018-12-14 21:31:05.961872\n",
      "T 1: crooked murderous lyin' hillary\n",
      "T 2: sexual post year question\n",
      "T 3: lynch loretta fearlessness fearless\n",
      "T 4: liar traitor stay gonna\n",
      "T 5: higher foot county number\n",
      "T 6: rape machine ballot server\n",
      "T 7: force america airplane hillary\n",
      "T 8: leg sick clinton lyin'\n",
      "T 9: trafficker child wallbuild wish\n",
      "T 10: vote corrupt trump predator\n",
      "End time : 2018-12-14 21:50:48.075994\n"
     ]
    }
   ],
   "source": [
    "lda_display_and_time(data_trump_oct_1, 10, 4, True, False)"
   ]
  },
  {
   "cell_type": "code",
   "execution_count": 16,
   "metadata": {},
   "outputs": [
    {
     "data": {
      "text/plain": [
       "4804"
      ]
     },
     "execution_count": 16,
     "metadata": {},
     "output_type": "execute_result"
    }
   ],
   "source": [
    "start_date = datetime.date(year=2016, month=11, day=1)\n",
    "end_date = datetime.date(year=2016, month=11, day=8)\n",
    "data_trump_now_1 = subsample_1.filter(subsample_1.created > start_date).filter(subsample_1.created < end_date).cache()\n",
    "data_trump_now_1.count()"
   ]
  },
  {
   "cell_type": "code",
   "execution_count": 20,
   "metadata": {},
   "outputs": [
    {
     "name": "stdout",
     "output_type": "stream",
     "text": [
      "On 4804 comments, using 5 topics with 6 words, pos: False, lemma: True\n",
      "Start time : 2018-12-14 21:50:48.471876\n",
      "T 1: shit imgjpg need fucking obama wikileaks\n",
      "T 2: traitor weasel maga said even fuck\n",
      "T 3: fearless fearlessness cooking spirit coat great\n",
      "T 4: vote trump child trafficker state take\n",
      "T 5: corrupt hillary come investigation clinton voter\n",
      "End time : 2018-12-14 22:09:37.231152\n"
     ]
    }
   ],
   "source": [
    "lda_display_and_time(data_trump_now_1, 5, 6, True, False)"
   ]
  },
  {
   "cell_type": "code",
   "execution_count": 28,
   "metadata": {},
   "outputs": [
    {
     "name": "stdout",
     "output_type": "stream",
     "text": [
      "On 4804 comments, using 5 topics with 6 words, pos: True, lemma: True\n",
      "Start time : 2018-12-14 22:34:31.459673\n",
      "T 1: child trafficker coat email need maga\n",
      "T 2: fearlessness fearless cook traitor spirit weasel\n",
      "T 3: clinton investigation think happen know year\n",
      "T 4: corrupt vote trump know say support\n",
      "T 5: hillary person might shit world cover\n",
      "End time : 2018-12-14 23:10:04.924694\n"
     ]
    }
   ],
   "source": [
    "lda_display_and_time(data_trump_now_1, 5, 6, True, True)"
   ]
  },
  {
   "cell_type": "code",
   "execution_count": 46,
   "metadata": {},
   "outputs": [
    {
     "data": {
      "text/plain": [
       "136280"
      ]
     },
     "execution_count": 46,
     "metadata": {},
     "output_type": "execute_result"
    }
   ],
   "source": [
    "election_eve = datetime.date(year=2016, month=11, day=7)\n",
    "after_election = datetime.date(year=2016, month=11, day=9)\n",
    "data_trump_elec_day = data_trump.filter(data_trump.created < after_election).filter(data_trump.created > election_eve)\n",
    "data_trump_elec_day.cache()\n",
    "data_trump_elec_day.count()"
   ]
  },
  {
   "cell_type": "markdown",
   "metadata": {},
   "source": [
    "## Topics on the day of the election results"
   ]
  },
  {
   "cell_type": "code",
   "execution_count": 47,
   "metadata": {
    "scrolled": true
   },
   "outputs": [
    {
     "name": "stdout",
     "output_type": "stream",
     "text": [
      "On 6975 comments, using 7 topics with 5 words, pos: False, lemma: True\n",
      "Start time : 2018-12-15 11:18:08.334638\n",
      "T 1: going never corruption fight fellow\n",
      "T 2: coat past york evoke november\n",
      "T 3: vote change today voice count\n",
      "T 4: country poll clinton well result\n",
      "T 5: voted even hope machine thank\n",
      "T 6: trump take train great america\n",
      "T 7: trump right need state someone\n",
      "End time : 2018-12-15 11:36:16.444082\n",
      "+------------+--------------------+--------------------+\n",
      "|topic_number|        topic_weight|               topic|\n",
      "+------------+--------------------+--------------------+\n",
      "|           0|[[going, 0.005525...|going never corru...|\n",
      "|           1|[[coat, 0.0208008...|coat past york ev...|\n",
      "|           2|[[vote, 0.0423536...|vote change today...|\n",
      "|           3|[[country, 0.0076...|country poll clin...|\n",
      "|           4|[[voted, 0.007455...|voted even hope m...|\n",
      "|           5|[[trump, 0.024959...|trump take train ...|\n",
      "|           6|[[trump, 0.005924...|trump right need ...|\n",
      "+------------+--------------------+--------------------+\n",
      "\n"
     ]
    }
   ],
   "source": [
    "data_trump_elec_day_sample = data_trump_elec_day.sample(False, 0.05, 42)\n",
    "data_trump_elec_day_sample.cache()\n",
    "election_res = lda_display_and_time(data_trump_elec_day_sample, 7, 5, True, False)\n",
    "election_res.show()"
   ]
  },
  {
   "cell_type": "code",
   "execution_count": 64,
   "metadata": {},
   "outputs": [
    {
     "name": "stdout",
     "output_type": "stream",
     "text": [
      "On 6975 comments, using 7 topics with 5 words, pos: True, lemma: True\n",
      "Start time : 2018-12-15 11:53:56.312333\n",
      "T 1: someone tomorrow meme pepe magic\n",
      "T 2: vote change today coat hear\n",
      "T 3: trump supporter well help poll\n",
      "T 4: trump take train america great\n",
      "T 5: story comeback real moses child\n",
      "T 6: say woman something early yeah\n",
      "T 7: past york report evoke election\n",
      "End time : 2018-12-15 12:16:25.149841\n"
     ]
    }
   ],
   "source": [
    "election_res = lda_display_and_time(data_trump_elec_day_sample, 7, 5, True, True)"
   ]
  },
  {
   "cell_type": "code",
   "execution_count": null,
   "metadata": {},
   "outputs": [],
   "source": []
  },
  {
   "cell_type": "markdown",
   "metadata": {},
   "source": [
    "### Filtering out the less upvoted comments"
   ]
  },
  {
   "cell_type": "code",
   "execution_count": 12,
   "metadata": {
    "scrolled": true
   },
   "outputs": [
    {
     "data": {
      "text/plain": [
       "2450251"
      ]
     },
     "execution_count": 12,
     "metadata": {},
     "output_type": "execute_result"
    }
   ],
   "source": [
    "data_trump_score = data_trump.filter(data_trump.score > 10)\n",
    "data_trump_score.count()"
   ]
  },
  {
   "cell_type": "code",
   "execution_count": 15,
   "metadata": {},
   "outputs": [
    {
     "data": {
      "text/plain": [
       "14929"
      ]
     },
     "execution_count": 15,
     "metadata": {},
     "output_type": "execute_result"
    }
   ],
   "source": [
    "election_eve = datetime.date(year=2016, month=11, day=7)\n",
    "after_election = datetime.date(year=2016, month=11, day=9)\n",
    "data_trump_score_elec_day = data_trump_score.filter(data_trump_score.created > election_eve).filter(data_trump_score.created < after_election)\n",
    "data_trump_score_elec_day.cache()\n",
    "data_trump_score_elec_day.count()"
   ]
  },
  {
   "cell_type": "code",
   "execution_count": 17,
   "metadata": {},
   "outputs": [
    {
     "name": "stdout",
     "output_type": "stream",
     "text": [
      "On 7457 comments, using 7 topics with 5 words, pos: False, lemma: True\n",
      "Starting day : Row(max(created)=datetime.date(2016, 11, 8)) Ending day : Row(min(created)=datetime.date(2016, 11, 8))\n",
      "Start time : 2018-12-15 13:18:52.387744\n",
      "T 1: fucking america today they're word\n",
      "T 2: based brady side i'll belichick\n",
      "T 3: vote trump take coat energy\n",
      "T 4: rally michigan trump huge gonna\n",
      "T 5: magic meme take good many\n",
      "T 6: felt making paul picture assange\n",
      "T 7: president i've trump sign going\n",
      "End time : 2018-12-15 13:36:08.965905\n"
     ]
    }
   ],
   "source": [
    "election_res_score = lda_display_and_time(data_trump_score_elec_day.sample(False, 0.5, 589), 7, 5, True, False)"
   ]
  },
  {
   "cell_type": "code",
   "execution_count": 20,
   "metadata": {},
   "outputs": [
    {
     "name": "stdout",
     "output_type": "stream",
     "text": [
      "On 720 comments, using 7 topics with 5 words, beta value : 0.010000,  pos: False, lemma: True\n",
      "Starting day : 2016-11-08 Ending day : 2016-11-08\n",
      "Start time : 2018-12-15 13:49:46.588631\n",
      "T 1: know never vote thought election\n",
      "T 2: place either take personally murder\n",
      "T 3: coat trump every maga year\n",
      "T 4: call voter fucking problem report\n",
      "T 5: turnout hillary donald trump yeah\n",
      "T 6: voting bother vote month time\n",
      "T 7: state poll close high doubt\n",
      "End time : 2018-12-15 14:08:17.258704\n",
      "On 720 comments, using 7 topics with 5 words, beta value : 0.025000,  pos: False, lemma: True\n",
      "Starting day : 2016-11-08 Ending day : 2016-11-08\n",
      "Start time : 2018-12-15 14:08:18.220883\n",
      "T 1: year florida think even wait\n",
      "T 2: vote america make bother voting\n",
      "T 3: coat state call report fucking\n",
      "T 4: folk already maga post sign\n",
      "T 5: personally murder hand mission abortion\n",
      "T 6: place guy time take either\n",
      "T 7: trump hillary american vote turnout\n",
      "End time : 2018-12-15 14:26:03.595022\n",
      "On 720 comments, using 7 topics with 5 words, beta value : 0.050000,  pos: False, lemma: True\n",
      "Starting day : 2016-11-08 Ending day : 2016-11-08\n",
      "Start time : 2018-12-15 14:26:04.516354\n",
      "T 1: murder personally always shit hearing\n",
      "T 2: voting turnout bother yeah donald\n",
      "T 3: coat guy love centipede every\n",
      "T 4: maga even place take still\n",
      "T 5: trump vote year state america\n",
      "T 6: fucking waiting release said keefe\n",
      "T 7: ballot call report voter problem\n",
      "End time : 2018-12-15 14:43:52.128310\n"
     ]
    }
   ],
   "source": [
    "election_res_score_b1 = lda_display_and_time(data_trump_score_elec_day.sample(False, 0.05, 589), 7, 5, True, False, beta=0.01)\n",
    "election_res_score_b25 = lda_display_and_time(data_trump_score_elec_day.sample(False, 0.05, 589), 7, 5, True, False, beta=0.025)\n",
    "election_res_score_b5 = lda_display_and_time(data_trump_score_elec_day.sample(False, 0.05, 589), 7, 5, True, False, beta=0.05)"
   ]
  },
  {
   "cell_type": "markdown",
   "metadata": {},
   "source": [
    "### The_Donald comments the week before election day. "
   ]
  },
  {
   "cell_type": "code",
   "execution_count": 23,
   "metadata": {},
   "outputs": [
    {
     "data": {
      "text/plain": [
       "77512"
      ]
     },
     "execution_count": 23,
     "metadata": {},
     "output_type": "execute_result"
    }
   ],
   "source": [
    "start_week = datetime.date(year=2016, month=10, day=31)\n",
    "end_week = datetime.date(year=2016, month=11, day=8)\n",
    "trump_week_b4_election = data_trump_score.filter(data_trump_score.created > start_week).filter(data_trump_score.created < end_week)\n",
    "trump_week_b4_election.count()"
   ]
  },
  {
   "cell_type": "code",
   "execution_count": 26,
   "metadata": {},
   "outputs": [
    {
     "data": {
      "text/plain": [
       "5143"
      ]
     },
     "execution_count": 26,
     "metadata": {},
     "output_type": "execute_result"
    }
   ],
   "source": [
    "trump_week_b4_election_10 = lda_preprocess(trump_week_b4_election.sample(False, 0.1, 45), use_lemmatizing=True, use_pos_tagging=False)\n",
    "trump_week_b4_election_10.cache()\n",
    "trump_week_b4_election_10.count()"
   ]
  },
  {
   "cell_type": "code",
   "execution_count": 36,
   "metadata": {},
   "outputs": [
    {
     "name": "stdout",
     "output_type": "stream",
     "text": [
      "On 5143 comments, using 8 topics with 5 words, beta value : 0.010, alpha value: 0.010\n",
      "Start time : 2018-12-15 15:52:22.729322\n",
      "T 1: ballot poll fuck good obama\n",
      "T 2: evan train hold uphold week\n",
      "T 3: cooking spirit pedo catholic feminist\n",
      "T 4: propaganda work coat every donald\n",
      "T 5: clinton right posted tweet hillary\n",
      "T 6: vote trump think believe know\n",
      "T 7: hillary post know child wikileaks\n",
      "T 8: free back sick real pizza\n",
      "End time : \n",
      "2018-12-15 15:52:42.066807\n",
      "On 5143 comments, using 8 topics with 5 words, beta value : 0.025, alpha value: 0.010\n",
      "Start time : 2018-12-15 15:52:42.290007\n",
      "T 1: coat evan case podesta welcome\n",
      "T 2: going even shit many poll\n",
      "T 3: ballot request uphold wrote foia\n",
      "T 4: cooking spirit work alex intent\n",
      "T 5: propaganda tweet posted page document\n",
      "T 6: vote trump trumpvote pizza bernie\n",
      "T 7: know hillary make time something\n",
      "T 8: clinton foundation email sound known\n",
      "End time : \n",
      "2018-12-15 15:53:02.369381\n",
      "On 5143 comments, using 8 topics with 5 words, beta value : 0.050, alpha value: 0.010\n",
      "Start time : 2018-12-15 15:53:02.589092\n",
      "T 1: pizza maybe thread request shit\n",
      "T 2: fucking coat know everyone shit\n",
      "T 3: cooking spirit ballot complete story\n",
      "T 4: work server private known sign\n",
      "T 5: propaganda voter tweet fraud election\n",
      "T 6: vote trump trumpvote uphold clinton\n",
      "T 7: time clinton know year email\n",
      "T 8: evan poll girl establishment million\n",
      "End time : \n",
      "2018-12-15 15:53:20.724148\n",
      "On 5143 comments, using 8 topics with 5 words, beta value : 0.075, alpha value: 0.010\n",
      "Start time : 2018-12-15 15:53:20.973880\n",
      "T 1: coat centipede patriot get welcome\n",
      "T 2: hold uphold swamp drain world\n",
      "T 3: black remember already fuck nothing\n",
      "T 4: cooking spirit work train request\n",
      "T 5: election fucking shit back going\n",
      "T 6: vote trump propaganda clinton voting\n",
      "T 7: child trying post still email\n",
      "T 8: evan win police strong catholic\n",
      "End time : \n",
      "2018-12-15 15:53:41.337917\n",
      "On 5143 comments, using 8 topics with 5 words, beta value : 0.100, alpha value: 0.010\n",
      "Start time : 2018-12-15 15:53:41.597542\n",
      "T 1: propaganda election poll fuck even\n",
      "T 2: care podesta talk folk john\n",
      "T 3: first fucking believe time need\n",
      "T 4: cooking spirit work pizza face\n",
      "T 5: post wikileaks child page information\n",
      "T 6: vote trump hillary trumpvote seen\n",
      "T 7: clinton world foundation email working\n",
      "T 8: coat obama every win state\n",
      "End time : \n",
      "2018-12-15 15:54:03.345632\n",
      "On 5143 comments, using 8 topics with 5 words, beta value : 0.010, alpha value: 0.025\n",
      "Start time : 2018-12-15 15:54:03.596798\n",
      "T 1: evan poll swamp drain listening\n",
      "T 2: cooking spirit identify feminist main\n",
      "T 3: know email much pizza clinton\n",
      "T 4: work clinton page foundation server\n",
      "T 5: propaganda hillary need going trump\n",
      "T 6: vote trump republican trumpvote maga\n",
      "T 7: coat every get ballot centipede\n",
      "T 8: podesta email wikileaks landslide child\n",
      "End time : \n",
      "2018-12-15 15:54:22.890141\n",
      "On 5143 comments, using 8 topics with 5 words, beta value : 0.025, alpha value: 0.025\n",
      "Start time : 2018-12-15 15:54:23.098415\n",
      "T 1: evan folk ready stand care\n",
      "T 2: coat back pizza friend country\n",
      "T 3: cooking spirit police bitch win\n",
      "T 4: propaganda work clinton thing email\n",
      "T 5: hillary clinton think even going\n",
      "T 6: vote trump election request trumpvote\n",
      "T 7: must wait source code still\n",
      "T 8: posted maybe know left pedo\n",
      "End time : \n",
      "2018-12-15 15:54:44.111746\n",
      "On 5143 comments, using 8 topics with 5 words, beta value : 0.050, alpha value: 0.025\n",
      "Start time : 2018-12-15 15:54:44.352798\n",
      "T 1: shit clinton first email fuck\n",
      "T 2: propaganda coat right poll every\n",
      "T 3: secret clinton website rich pizza\n",
      "T 4: cooking spirit work server private\n",
      "T 5: take million tweet obama train\n",
      "T 6: vote trump trumpvote gone world\n",
      "T 7: child post know wikileaks posted\n",
      "T 8: make foundation evan think hillary\n",
      "End time : \n",
      "2018-12-15 15:55:03.240173\n",
      "On 5143 comments, using 8 topics with 5 words, beta value : 0.075, alpha value: 0.025\n",
      "Start time : 2018-12-15 15:55:03.500296\n",
      "T 1: shit going even fuck good\n",
      "T 2: remember hate swamp drain dinner\n",
      "T 3: email deleted bernie wonder hillary\n",
      "T 4: work know posted maga please\n",
      "T 5: cooking spirit drop foster vince\n",
      "T 6: vote trump clinton coat world\n",
      "T 7: hillary democrat time whole still\n",
      "T 8: propaganda evan hold poll win\n",
      "End time : \n",
      "2018-12-15 15:55:23.213868\n",
      "On 5143 comments, using 8 topics with 5 words, beta value : 0.100, alpha value: 0.025\n",
      "Start time : 2018-12-15 15:55:23.419636\n",
      "T 1: poll going bernie even trump\n",
      "T 2: ballot epstein police uphold hold\n",
      "T 3: propaganda request foia date policy\n",
      "T 4: work fuck know pizza email\n",
      "T 5: clinton said real thing world\n",
      "T 6: vote trump train trumpvote muslim\n",
      "T 7: hillary child coat time make\n",
      "T 8: cooking spirit evan cough libertarian\n",
      "End time : \n",
      "2018-12-15 15:55:43.331716\n",
      "On 5143 comments, using 8 topics with 5 words, beta value : 0.010, alpha value: 0.050\n",
      "Start time : 2018-12-15 15:55:43.614599\n",
      "T 1: evan wrote poll energy talk\n",
      "T 2: statement hang authority girl abramovic\n",
      "T 3: cooking spirit believe supporter right\n",
      "T 4: work read know something page\n",
      "T 5: clinton tweet even podesta election\n",
      "T 6: vote trump hour trumpvote country\n",
      "T 7: propaganda time hillary think look\n",
      "T 8: coat train great state every\n",
      "End time : \n",
      "2018-12-15 15:56:03.885706\n",
      "On 5143 comments, using 8 topics with 5 words, beta value : 0.025, alpha value: 0.050\n",
      "Start time : 2018-12-15 15:56:04.097462\n",
      "T 1: election bernie even trump plan\n",
      "T 2: pizza remember hold last talk\n",
      "T 3: ballot epstein secret uphold sick\n",
      "T 4: work evan please private deleted\n",
      "T 5: propaganda clinton hillary make coat\n",
      "T 6: vote trump train trumpvote voting\n",
      "T 7: believe know think hillary look\n",
      "T 8: cooking spirit request foia posted\n",
      "End time : \n",
      "2018-12-15 15:56:23.073400\n",
      "On 5143 comments, using 8 topics with 5 words, beta value : 0.050, alpha value: 0.050\n",
      "Start time : 2018-12-15 15:56:23.277707\n",
      "T 1: election shit know poll pizza\n",
      "T 2: cooking spirit swamp drain waiting\n",
      "T 3: evan request address foia including\n",
      "T 4: something want posted think saying\n",
      "T 5: hillary clinton black voter child\n",
      "T 6: vote trump coat said ballot\n",
      "T 7: work remember everything win found\n",
      "T 8: propaganda clinton bernie email hold\n",
      "End time : \n",
      "2018-12-15 15:56:44.553484\n",
      "On 5143 comments, using 8 topics with 5 words, beta value : 0.075, alpha value: 0.050\n",
      "Start time : 2018-12-15 15:56:44.734800\n",
      "T 1: ballot evan house train white\n",
      "T 2: propaganda hold secret swamp ready\n",
      "T 3: cooking spirit ping mess comet\n",
      "T 4: work thing time know shit\n",
      "T 5: pizza post tweet wikileaks child\n",
      "T 6: vote trump make voting even\n",
      "T 7: hillary election going even remember\n",
      "T 8: coat clinton podesta state foundation\n",
      "End time : \n",
      "2018-12-15 15:57:03.468421\n",
      "On 5143 comments, using 8 topics with 5 words, beta value : 0.100, alpha value: 0.050\n",
      "Start time : 2018-12-15 15:57:03.703893\n",
      "T 1: poll supporter care woman left\n",
      "T 2: propaganda coat remember hold government\n",
      "T 3: evan police building lady date\n",
      "T 4: work reddit bring known info\n",
      "T 5: pizza tweet election hillary fuck\n",
      "T 6: vote trump trumpvote internet maga\n",
      "T 7: clinton know time email hillary\n",
      "T 8: cooking spirit uphold ready redpilled\n",
      "End time : \n",
      "2018-12-15 15:57:22.196280\n",
      "On 5143 comments, using 8 topics with 5 words, beta value : 0.010, alpha value: 0.075\n",
      "Start time : 2018-12-15 15:57:22.404491\n",
      "T 1: email evan fuck evidence hillary\n",
      "T 2: coat much still even make\n",
      "T 3: cooking spirit police civil release\n",
      "T 4: work pedo please server private\n",
      "T 5: propaganda tweet clinton page twitter\n",
      "T 6: vote trump trumpvote uphold pizza\n",
      "T 7: know time believe first make\n",
      "T 8: clinton child post hillary real\n",
      "End time : \n",
      "2018-12-15 15:57:41.486653\n",
      "On 5143 comments, using 8 topics with 5 words, beta value : 0.025, alpha value: 0.075\n",
      "Start time : 2018-12-15 15:57:41.754834\n",
      "T 1: evan white train house second\n",
      "T 2: hold pizza swamp ready waiting\n",
      "T 3: foia request catholic epstein coming\n",
      "T 4: work post email child wikileaks\n",
      "T 5: propaganda coat tweet uphold patriot\n",
      "T 6: vote cooking spirit trump trumpvote\n",
      "T 7: know clinton time think hillary\n",
      "T 8: ballot podesta pizza really million\n",
      "End time : \n",
      "2018-12-15 15:58:01.740248\n",
      "On 5143 comments, using 8 topics with 5 words, beta value : 0.050, alpha value: 0.075\n",
      "Start time : 2018-12-15 15:58:01.921433\n",
      "T 1: coat hold obama always patriot\n",
      "T 2: propaganda energy dinner online citizen\n",
      "T 3: foundation clinton supporter already ready\n",
      "T 4: work evan sick private sign\n",
      "T 5: clinton need going time email\n",
      "T 6: vote trump trumpvote request foia\n",
      "T 7: still know hillary want ballot\n",
      "T 8: cooking spirit uphold intent smoking\n",
      "End time : \n",
      "2018-12-15 15:58:23.078179\n"
     ]
    },
    {
     "name": "stdout",
     "output_type": "stream",
     "text": [
      "On 5143 comments, using 8 topics with 5 words, beta value : 0.075, alpha value: 0.075\n",
      "Start time : 2018-12-15 15:58:23.362182\n",
      "T 1: propaganda shit election clinton know\n",
      "T 2: coat hillary saying know think\n",
      "T 3: cooking spirit epstein supporter liberal\n",
      "T 4: work white donald please evan\n",
      "T 5: pizza best post child clinton\n",
      "T 6: vote trump maga talk person\n",
      "T 7: world foundation hold clinton uphold\n",
      "T 8: request date foia account poll\n",
      "End time : \n",
      "2018-12-15 15:58:43.489666\n",
      "On 5143 comments, using 8 topics with 5 words, beta value : 0.100, alpha value: 0.075\n",
      "Start time : 2018-12-15 15:58:43.684645\n",
      "T 1: evan epstein evidence pizza fuck\n",
      "T 2: family everything police hate send\n",
      "T 3: ballot swamp email save drain\n",
      "T 4: cooking spirit coat work private\n",
      "T 5: clinton tweet campaign need hillary\n",
      "T 6: vote trump propaganda know make\n",
      "T 7: train twitter million foia page\n",
      "T 8: podesta plan uphold back yeah\n",
      "End time : \n",
      "2018-12-15 15:59:02.596919\n",
      "On 5143 comments, using 8 topics with 5 words, beta value : 0.010, alpha value: 0.100\n",
      "Start time : 2018-12-15 15:59:02.799844\n",
      "T 1: pizza either shit fuck ready\n",
      "T 2: coat million ballot train tomorrow\n",
      "T 3: cooking spirit cough identify libertarian\n",
      "T 4: work please private server sign\n",
      "T 5: propaganda hillary even know time\n",
      "T 6: vote trump trumpvote already woman\n",
      "T 7: child clinton getting read post\n",
      "T 8: evan hold uphold foia request\n",
      "End time : \n",
      "2018-12-15 15:59:22.043901\n",
      "On 5143 comments, using 8 topics with 5 words, beta value : 0.025, alpha value: 0.100\n",
      "Start time : 2018-12-15 15:59:22.329569\n",
      "T 1: evan hold swamp ready county\n",
      "T 2: pizza podesta posted find email\n",
      "T 3: woman supporter bernie care election\n",
      "T 4: work server private please list\n",
      "T 5: propaganda fuck evidence pedo crazy\n",
      "T 6: vote cooking spirit trump trumpvote\n",
      "T 7: make know trump clinton time\n",
      "T 8: clinton investigation rich email wanted\n",
      "End time : \n",
      "2018-12-15 15:59:40.837506\n",
      "On 5143 comments, using 8 topics with 5 words, beta value : 0.050, alpha value: 0.100\n",
      "Start time : 2018-12-15 15:59:41.031957\n",
      "T 1: evan hold hour country plan\n",
      "T 2: coat even pizza bernie going\n",
      "T 3: another video saying ready address\n",
      "T 4: cooking spirit work pedo list\n",
      "T 5: propaganda clinton email tweet many\n",
      "T 6: vote trump remember trumpvote dinner\n",
      "T 7: know posted believe world still\n",
      "T 8: poll fucking obama win million\n",
      "End time : \n",
      "2018-12-15 16:00:01.790934\n",
      "On 5143 comments, using 8 topics with 5 words, beta value : 0.075, alpha value: 0.100\n",
      "Start time : 2018-12-15 16:00:02.034653\n",
      "T 1: house evan white train church\n",
      "T 2: ballot gone pedophile citizen secret\n",
      "T 3: pizza epstein request foia ready\n",
      "T 4: cooking spirit catholic spiritcooking leftist\n",
      "T 5: propaganda voter case tweet hold\n",
      "T 6: vote trump clinton election going\n",
      "T 7: know work time make child\n",
      "T 8: religion event crowd mail christian\n",
      "End time : \n",
      "2018-12-15 16:00:21.811631\n",
      "On 5143 comments, using 8 topics with 5 words, beta value : 0.100, alpha value: 0.100\n",
      "Start time : 2018-12-15 16:00:22.033816\n",
      "T 1: pizza evan ready sign talk\n",
      "T 2: best need deleted least else\n",
      "T 3: hold ballot request uphold back\n",
      "T 4: cooking spirit alex intent jones\n",
      "T 5: propaganda remember clinton podesta shit\n",
      "T 6: vote trump hillary even election\n",
      "T 7: work child please posted something\n",
      "T 8: clinton coat time state every\n",
      "End time : \n",
      "2018-12-15 16:00:41.451323\n"
     ]
    },
    {
     "data": {
      "text/plain": [
       "[(0.01,\n",
       "  0.01,\n",
       "  DataFrame[topic_number: bigint, topic_weight: array<struct<_1:string,_2:double>>, topic: string]),\n",
       " (0.01,\n",
       "  0.025,\n",
       "  DataFrame[topic_number: bigint, topic_weight: array<struct<_1:string,_2:double>>, topic: string]),\n",
       " (0.01,\n",
       "  0.05,\n",
       "  DataFrame[topic_number: bigint, topic_weight: array<struct<_1:string,_2:double>>, topic: string]),\n",
       " (0.01,\n",
       "  0.075,\n",
       "  DataFrame[topic_number: bigint, topic_weight: array<struct<_1:string,_2:double>>, topic: string]),\n",
       " (0.01,\n",
       "  0.1,\n",
       "  DataFrame[topic_number: bigint, topic_weight: array<struct<_1:string,_2:double>>, topic: string]),\n",
       " (0.025,\n",
       "  0.01,\n",
       "  DataFrame[topic_number: bigint, topic_weight: array<struct<_1:string,_2:double>>, topic: string]),\n",
       " (0.025,\n",
       "  0.025,\n",
       "  DataFrame[topic_number: bigint, topic_weight: array<struct<_1:string,_2:double>>, topic: string]),\n",
       " (0.025,\n",
       "  0.05,\n",
       "  DataFrame[topic_number: bigint, topic_weight: array<struct<_1:string,_2:double>>, topic: string]),\n",
       " (0.025,\n",
       "  0.075,\n",
       "  DataFrame[topic_number: bigint, topic_weight: array<struct<_1:string,_2:double>>, topic: string]),\n",
       " (0.025,\n",
       "  0.1,\n",
       "  DataFrame[topic_number: bigint, topic_weight: array<struct<_1:string,_2:double>>, topic: string]),\n",
       " (0.05,\n",
       "  0.01,\n",
       "  DataFrame[topic_number: bigint, topic_weight: array<struct<_1:string,_2:double>>, topic: string]),\n",
       " (0.05,\n",
       "  0.025,\n",
       "  DataFrame[topic_number: bigint, topic_weight: array<struct<_1:string,_2:double>>, topic: string]),\n",
       " (0.05,\n",
       "  0.05,\n",
       "  DataFrame[topic_number: bigint, topic_weight: array<struct<_1:string,_2:double>>, topic: string]),\n",
       " (0.05,\n",
       "  0.075,\n",
       "  DataFrame[topic_number: bigint, topic_weight: array<struct<_1:string,_2:double>>, topic: string]),\n",
       " (0.05,\n",
       "  0.1,\n",
       "  DataFrame[topic_number: bigint, topic_weight: array<struct<_1:string,_2:double>>, topic: string]),\n",
       " (0.075,\n",
       "  0.01,\n",
       "  DataFrame[topic_number: bigint, topic_weight: array<struct<_1:string,_2:double>>, topic: string]),\n",
       " (0.075,\n",
       "  0.025,\n",
       "  DataFrame[topic_number: bigint, topic_weight: array<struct<_1:string,_2:double>>, topic: string]),\n",
       " (0.075,\n",
       "  0.05,\n",
       "  DataFrame[topic_number: bigint, topic_weight: array<struct<_1:string,_2:double>>, topic: string]),\n",
       " (0.075,\n",
       "  0.075,\n",
       "  DataFrame[topic_number: bigint, topic_weight: array<struct<_1:string,_2:double>>, topic: string]),\n",
       " (0.075,\n",
       "  0.1,\n",
       "  DataFrame[topic_number: bigint, topic_weight: array<struct<_1:string,_2:double>>, topic: string]),\n",
       " (0.1,\n",
       "  0.01,\n",
       "  DataFrame[topic_number: bigint, topic_weight: array<struct<_1:string,_2:double>>, topic: string]),\n",
       " (0.1,\n",
       "  0.025,\n",
       "  DataFrame[topic_number: bigint, topic_weight: array<struct<_1:string,_2:double>>, topic: string]),\n",
       " (0.1,\n",
       "  0.05,\n",
       "  DataFrame[topic_number: bigint, topic_weight: array<struct<_1:string,_2:double>>, topic: string]),\n",
       " (0.1,\n",
       "  0.075,\n",
       "  DataFrame[topic_number: bigint, topic_weight: array<struct<_1:string,_2:double>>, topic: string]),\n",
       " (0.1,\n",
       "  0.1,\n",
       "  DataFrame[topic_number: bigint, topic_weight: array<struct<_1:string,_2:double>>, topic: string])]"
      ]
     },
     "execution_count": 36,
     "metadata": {},
     "output_type": "execute_result"
    }
   ],
   "source": [
    "def grid_search(df, n_topics, n_words, betas, alphas):\n",
    "    return [(a, b, lda_display_and_time(df, n_topics, n_words, b, a)) for a in alphas for b in betas]\n",
    "\n",
    "grid_search(trump_week_b4_election_10, n_topics=8, n_words=5, betas=[0.01, 0.025, 0.05, 0.075, 0.1], alphas=[0.01, 0.025, 0.05, 0.075, 0.1])"
   ]
  },
  {
   "cell_type": "markdown",
   "metadata": {},
   "source": [
    "## The week before the election without any subsampling : "
   ]
  },
  {
   "cell_type": "code",
   "execution_count": 37,
   "metadata": {},
   "outputs": [
    {
     "data": {
      "text/plain": [
       "50489"
      ]
     },
     "execution_count": 37,
     "metadata": {},
     "output_type": "execute_result"
    }
   ],
   "source": [
    "trump_week_b4_election = lda_preprocess(trump_week_b4_election, use_lemmatizing=True, use_pos_tagging=False)\n",
    "trump_week_b4_election.cache()\n",
    "trump_week_b4_election.count()"
   ]
  },
  {
   "cell_type": "code",
   "execution_count": null,
   "metadata": {},
   "outputs": [
    {
     "name": "stdout",
     "output_type": "stream",
     "text": [
      "On 50489 comments, using 8 topics with 5 words, beta value : 0.010, alpha value: 0.010\n",
      "Start time : 2018-12-15 16:04:06.510587\n",
      "T 1: child hillary trafficker trafficking world\n",
      "T 2: cooking spirit propaganda coat welcome\n",
      "T 3: vote trump thread know think\n",
      "T 4: comey traitor clinton hillary podesta\n",
      "T 5: cuck email hero make request\n",
      "T 6: fearless clinton hillary time shit\n",
      "T 7: pedophile energy trump vote take\n",
      "T 8: cheese ncentipedethank pasta baby donated\n",
      "End time : \n",
      "2018-12-15 16:05:18.875093\n",
      "On 50489 comments, using 8 topics with 5 words, beta value : 0.025, alpha value: 0.010\n",
      "Start time : 2018-12-15 16:05:19.068780\n",
      "T 1: hillary want even time going\n",
      "T 2: cooking spirit coat hero state\n",
      "T 3: vote trump pedophile tweet pizza\n",
      "T 4: comey traitor clinton vote pardon\n",
      "T 5: cuck email church need hillary\n",
      "T 6: fearless child clinton donald hillary\n",
      "T 7: propaganda trump energy train vote\n",
      "T 8: trending weiner clintoncult laptop spiritcookingpodesta\n",
      "End time : \n",
      "2018-12-15 16:06:30.284827\n",
      "On 50489 comments, using 8 topics with 5 words, beta value : 0.050, alpha value: 0.010\n",
      "Start time : 2018-12-15 16:06:30.521123\n",
      "T 1: child hillary fucking trafficking trafficker\n",
      "T 2: cooking spirit fearless coat donald\n",
      "T 3: vote trump pedophile hillary clinton\n",
      "T 4: propaganda clinton hillary podesta know\n",
      "T 5: comey cuck traitor email clinton\n",
      "T 6: swamp soros drain request george\n",
      "T 7: trump energy take train vote\n",
      "T 8: spiritcookingpodesta ncentipedethank bill sub pussy\n",
      "End time : \n",
      "2018-12-15 16:07:42.163757\n",
      "On 50489 comments, using 8 topics with 5 words, beta value : 0.075, alpha value: 0.010\n",
      "Start time : 2018-12-15 16:07:42.398451\n",
      "T 1: fearless think hillary going election\n",
      "T 2: cooking spirit propaganda comey traitor\n",
      "T 3: vote trump child hillary clinton\n",
      "T 4: clinton podesta know hold hillary\n",
      "T 5: cuck pedophile email foia server\n",
      "T 6: bush serious rest shit amazing\n",
      "T 7: trump energy train take vote\n",
      "T 8: tweet deleted email document clinton\n",
      "End time : \n",
      "2018-12-15 16:08:53.695096\n",
      "On 50489 comments, using 8 topics with 5 words, beta value : 0.100, alpha value: 0.010\n",
      "Start time : 2018-12-15 16:08:53.926786\n",
      "T 1: fearless last going make hillary\n",
      "T 2: cooking spirit coat trafficker state\n",
      "T 3: vote trump comey traitor donald\n",
      "T 4: vote hillary deleted clinton podesta\n",
      "T 5: propaganda clinton cuck email pedophile\n",
      "T 6: fucking going shit corrupt want\n",
      "T 7: trump energy take vote train\n",
      "T 8: pizza email clinton john huma\n",
      "End time : \n",
      "2018-12-15 16:10:07.990360\n",
      "On 50489 comments, using 8 topics with 5 words, beta value : 0.010, alpha value: 0.025\n",
      "Start time : 2018-12-15 16:10:08.203876\n",
      "T 1: fearless going want think hillary\n",
      "T 2: cooking spirit propaganda coat state\n",
      "T 3: vote trump pedophile pizza thread\n",
      "T 4: clinton podesta rich trafficker hillary\n",
      "T 5: comey cuck traitor email hero\n",
      "T 6: child request source clinton ballot\n",
      "T 7: trump energy take vote train\n",
      "T 8: tweet deleted spiritcookingpodesta ncentipedethank cruz\n",
      "End time : \n",
      "2018-12-15 16:11:23.175515\n",
      "On 50489 comments, using 8 topics with 5 words, beta value : 0.025, alpha value: 0.025\n",
      "Start time : 2018-12-15 16:11:23.396920\n",
      "T 1: shit fucking going hero want\n",
      "T 2: cooking spirit propaganda coat child\n",
      "T 3: vote trump pedophile donald hillary\n",
      "T 4: comey traitor clinton hillary time\n",
      "T 5: cuck email clinton hillary think\n",
      "T 6: fearless donald swamp totally drain\n",
      "T 7: trump energy take vote train\n",
      "T 8: huma weiner clinton cheese email\n",
      "End time : \n",
      "2018-12-15 16:12:37.736099\n",
      "On 50489 comments, using 8 topics with 5 words, beta value : 0.050, alpha value: 0.025\n",
      "Start time : 2018-12-15 16:12:37.986150\n",
      "T 1: fearless want fucking donald going\n",
      "T 2: cooking spirit coat every state\n",
      "T 3: vote trump clinton hillary child\n",
      "T 4: hero deleted podesta vote clinton\n",
      "T 5: cuck email clinton need thing\n",
      "T 6: pedophile clinton corrupt child epstein\n",
      "T 7: propaganda traitor comey trump energy\n",
      "T 8: tweet spiritcookingpodesta tesla chew kadzik\n",
      "End time : \n",
      "2018-12-15 16:13:53.419517\n",
      "On 50489 comments, using 8 topics with 5 words, beta value : 0.075, alpha value: 0.025\n",
      "Start time : 2018-12-15 16:13:53.632378\n",
      "T 1: hillary fucking want going even\n",
      "T 2: cooking spirit propaganda coat corrupt\n",
      "T 3: vote trump pedophile pizza hillary\n",
      "T 4: clinton rich hillary podesta pardon\n",
      "T 5: fearless cuck comey traitor hero\n",
      "T 6: child clinton hillary email think\n",
      "T 7: trump energy take train news\n",
      "T 8: ncentipedethank shall german burned room\n",
      "End time : \n",
      "2018-12-15 16:15:13.540480\n",
      "On 50489 comments, using 8 topics with 5 words, beta value : 0.100, alpha value: 0.025\n",
      "Start time : 2018-12-15 16:15:13.867085\n",
      "T 1: fearless donald fucking last time\n",
      "T 2: cooking spirit propaganda traitor comey\n",
      "T 3: vote trump elite thread year\n",
      "T 4: hero clinton podesta hillary rich\n",
      "T 5: clinton hillary cuck email child\n",
      "T 6: pedophile corrupt epstein know shit\n",
      "T 7: trump energy take train vote\n",
      "T 8: deleted weiner laptop archive watch\n",
      "End time : \n",
      "2018-12-15 16:16:40.385694\n",
      "On 50489 comments, using 8 topics with 5 words, beta value : 0.010, alpha value: 0.050\n",
      "Start time : 2018-12-15 16:16:40.666171\n",
      "T 1: ballot last time never totally\n",
      "T 2: cooking spirit propaganda comey traitor\n",
      "T 3: vote trump pedophile voting hillary\n",
      "T 4: fearless deleted clinton vote rich\n",
      "T 5: clinton hillary email cuck know\n",
      "T 6: pizza corrupt fucking shit care\n",
      "T 7: trump energy take train vote\n",
      "T 8: spiritcookingpodesta cooper ncentipedethank baby bribery\n",
      "End time : \n",
      "2018-12-15 16:18:04.548653\n",
      "On 50489 comments, using 8 topics with 5 words, beta value : 0.025, alpha value: 0.050\n",
      "Start time : 2018-12-15 16:18:04.797520\n",
      "T 1: fearless time hillary last donald\n",
      "T 2: cooking spirit comey traitor coat\n",
      "T 3: vote trump pedophile child pizza\n",
      "T 4: hero vote deleted clinton hold\n",
      "T 5: propaganda cuck email clinton investigation\n",
      "T 6: corrupt shit hillary swamp child\n",
      "T 7: trump energy take vote train\n",
      "T 8: date spiritcookingpodesta ncentipedethank subject semen\n",
      "End time : \n",
      "2018-12-15 16:19:31.221703\n",
      "On 50489 comments, using 8 topics with 5 words, beta value : 0.050, alpha value: 0.050\n",
      "Start time : 2018-12-15 16:19:31.511434\n",
      "T 1: fucking want think shit world\n",
      "T 2: cooking spirit coat welcome every\n",
      "T 3: vote trump comey traitor child\n",
      "T 4: clinton hillary podesta bill rich\n",
      "T 5: fearless cuck email need make\n",
      "T 6: pedophile request foia link paper\n",
      "T 7: propaganda trump energy take train\n",
      "T 8: attempt spiritcookingpodesta ncentipedethank cooper assassination\n",
      "End time : \n",
      "2018-12-15 16:20:55.655041\n",
      "On 50489 comments, using 8 topics with 5 words, beta value : 0.075, alpha value: 0.050\n",
      "Start time : 2018-12-15 16:20:55.868991\n",
      "T 1: pedophile shit think want fucking\n",
      "T 2: cooking spirit propaganda coat child\n",
      "T 3: vote trump donald pizza hillary\n",
      "T 4: clinton corrupt rich podesta hillary\n",
      "T 5: comey cuck email traitor clinton\n",
      "T 6: fearless hero totally theory time\n",
      "T 7: trump energy take train vote\n",
      "T 8: spiritcookingpodesta ncentipedethank bribery water delete\n",
      "End time : \n",
      "2018-12-15 16:22:23.764134\n",
      "On 50489 comments, using 8 topics with 5 words, beta value : 0.100, alpha value: 0.050\n",
      "Start time : 2018-12-15 16:22:23.978754\n",
      "T 1: hillary clinton fucking think shit\n",
      "T 2: cooking spirit coat state every\n",
      "T 3: vote trump pedophile pizza thread\n",
      "T 4: fearless comey traitor hero clinton\n",
      "T 5: propaganda cuck email need hillary\n",
      "T 6: clinton foundation email time hillary\n",
      "T 7: trump energy train take vote\n",
      "T 8: child trafficker trafficking deleted clinton\n",
      "End time : \n",
      "2018-12-15 16:23:56.287952\n",
      "On 50489 comments, using 8 topics with 5 words, beta value : 0.010, alpha value: 0.075\n",
      "Start time : 2018-12-15 16:23:56.534679\n",
      "T 1: pedophile child hillary fucking hero\n",
      "T 2: cooking spirit propaganda coat pizza\n",
      "T 3: vote trump hillary black voting\n",
      "T 4: deleted clinton rich pardon vote\n",
      "T 5: comey email cuck traitor clinton\n",
      "T 6: fearless ballot trending time shit\n",
      "T 7: trump energy train take vote\n",
      "T 8: hole daughter baby rsbn hitler\n",
      "End time : \n",
      "2018-12-15 16:25:26.552414\n",
      "On 50489 comments, using 8 topics with 5 words, beta value : 0.025, alpha value: 0.075\n",
      "Start time : 2018-12-15 16:25:26.791192\n",
      "T 1: propaganda hillary election going think\n",
      "T 2: cooking spirit coat child trafficker\n",
      "T 3: vote trump traitor pedophile comey\n",
      "T 4: fearless clinton email hero pizza\n",
      "T 5: cuck need bernie trending clinton\n",
      "T 6: corrupt shit request fucking know\n",
      "T 7: trump energy take train vote\n",
      "T 8: tweet clinton night foundation bill\n",
      "End time : \n",
      "2018-12-15 16:26:54.094472\n",
      "On 50489 comments, using 8 topics with 5 words, beta value : 0.050, alpha value: 0.075\n",
      "Start time : 2018-12-15 16:26:54.297404\n"
     ]
    },
    {
     "name": "stdout",
     "output_type": "stream",
     "text": [
      "T 1: fearless hillary child clinton fucking\n",
      "T 2: cooking spirit coat state corrupt\n",
      "T 3: vote trump hillary black donald\n",
      "T 4: propaganda vote podesta hole kadzik\n",
      "T 5: comey cuck email traitor clinton\n",
      "T 6: pedophile tweet medium hillary think\n",
      "T 7: trump energy take news train\n",
      "T 8: deleted spiritcookingpodesta baby foster university\n",
      "End time : \n",
      "2018-12-15 16:28:26.976640\n",
      "On 50489 comments, using 8 topics with 5 words, beta value : 0.075, alpha value: 0.075\n",
      "Start time : 2018-12-15 16:28:27.198992\n",
      "T 1: clinton going fucking rich want\n",
      "T 2: cooking spirit fearless coat every\n",
      "T 3: vote trump pedophile hillary think\n",
      "T 4: comey traitor clinton email podesta\n",
      "T 5: cuck swamp ballot clintoncult drain\n",
      "T 6: propaganda clinton hero hillary child\n",
      "T 7: trump energy take train news\n",
      "T 8: spiritcookingpodesta church bribery michael fucking\n",
      "End time : \n",
      "2018-12-15 16:30:00.999794\n",
      "On 50489 comments, using 8 topics with 5 words, beta value : 0.100, alpha value: 0.075\n",
      "Start time : 2018-12-15 16:30:01.200077\n",
      "T 1: propaganda fearless think hillary going\n",
      "T 2: cooking spirit coat swamp trending\n",
      "T 3: vote trump pedophile hillary child\n",
      "T 4: comey traitor clinton podesta rich\n",
      "T 5: cuck hero thing email need\n",
      "T 6: corrupt picture camp ncentipedethank time\n",
      "T 7: trump energy train take vote\n",
      "T 8: tweet document tesla investigation clinton\n",
      "End time : \n",
      "2018-12-15 16:31:39.979531\n",
      "On 50489 comments, using 8 topics with 5 words, beta value : 0.010, alpha value: 0.100\n",
      "Start time : 2018-12-15 16:31:40.232467\n"
     ]
    }
   ],
   "source": [
    "grid_search(trump_week_b4_election, n_topics=8, n_words=5, betas=[0.01, 0.025, 0.05, 0.075, 0.1], alphas=[0.01, 0.025, 0.05, 0.075, 0.1])"
   ]
  },
  {
   "cell_type": "markdown",
   "metadata": {},
   "source": [
    "### Hillary Comments"
   ]
  },
  {
   "cell_type": "code",
   "execution_count": 5,
   "metadata": {},
   "outputs": [
    {
     "data": {
      "text/plain": [
       "7800"
      ]
     },
     "execution_count": 5,
     "metadata": {},
     "output_type": "execute_result"
    }
   ],
   "source": [
    "#data_hillary_elec_day = hillary_data.filter(hillary_data.created < datetime.date(year=2016, month=4, day=16)).filter(hillary_data.created > datetime.date(year=2016, month=4, day=14))\n",
    "hillary_data = spark.read.load('../data/hillary_comments.parquet')\n",
    "hillary_sample = hillary_data.sample(False, 0.01, 123)\n",
    "hillary_sample.cache()\n",
    "hillary_sample.count()"
   ]
  },
  {
   "cell_type": "code",
   "execution_count": 10,
   "metadata": {},
   "outputs": [
    {
     "name": "stdout",
     "output_type": "stream",
     "text": [
      "On 946 comments, using 7 topics with 5 words, pos: False, lemma: True\n",
      "Starting day : Row(max(created)=datetime.date(2016, 9, 8)) Ending day : Row(min(created)=datetime.date(2016, 8, 9))\n",
      "Start time : 2018-12-15 12:55:38.497688\n",
      "T 1: racist talking black response final\n",
      "T 2: show ohio back going fake\n",
      "T 3: thing they're time someone think\n",
      "T 4: course first brad separate could\n",
      "T 5: campaign party trump president candidate\n",
      "T 6: comment medium thank victim individual\n",
      "T 7: trump clinton hillary email state\n",
      "End time : 2018-12-15 13:08:01.750916\n"
     ]
    },
    {
     "data": {
      "text/plain": [
       "DataFrame[topic_number: bigint, topic_weight: array<struct<_1:string,_2:double>>, topic: string]"
      ]
     },
     "execution_count": 10,
     "metadata": {},
     "output_type": "execute_result"
    }
   ],
   "source": [
    "lda_display_and_time(hillary_sample.filter(hillary_sample.created > datetime.date(year=2016, month=8, day=8)), 7, 5, True, False)"
   ]
  }
 ],
 "metadata": {
  "kernelspec": {
   "display_name": "Python 2",
   "language": "python",
   "name": "python2"
  },
  "language_info": {
   "codemirror_mode": {
    "name": "ipython",
    "version": 2
   },
   "file_extension": ".py",
   "mimetype": "text/x-python",
   "name": "python",
   "nbconvert_exporter": "python",
   "pygments_lexer": "ipython2",
   "version": "2.7.14"
  }
 },
 "nbformat": 4,
 "nbformat_minor": 2
}
