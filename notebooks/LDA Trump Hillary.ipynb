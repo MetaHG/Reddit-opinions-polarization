{
 "cells": [
  {
   "cell_type": "markdown",
   "metadata": {},
   "source": [
    "Sources : \n",
    "[General data science article presenting the method](https://medium.com/@connectwithghosh/topic-modelling-with-latent-dirichlet-allocation-lda-in-pyspark-2cb3ebd5678e)\n",
    "\n",
    "[Issue of an user to do LDA on SO](https://stackoverflow.com/questions/42051184/latent-dirichlet-allocation-lda-in-spark#)\n",
    "\n",
    "[Gist of a LDA implementation](https://gist.github.com/Bergvca/a59b127afe46c1c1c479)\n",
    "\n",
    "[SO question about retrieving topic distribution](https://stackoverflow.com/questions/33072449/extract-document-topic-matrix-from-pyspark-lda-model/41515070)\n",
    "\n",
    "[Slides from presentation about recommended parameters for LDA](http://www.phusewiki.org/wiki/images/c/c9/Weizhong_Presentation_CDER_Nov_9th.pdf)"
   ]
  },
  {
   "cell_type": "code",
   "execution_count": null,
   "metadata": {},
   "outputs": [],
   "source": [
    "import findspark\n",
    "findspark.init()\n",
    "\n",
    "import pyspark\n",
    "from pyspark.sql import *\n",
    "from pyspark.sql.types import *\n",
    "\n",
    "spark = SparkSession.builder.getOrCreate()\n",
    "\n",
    "from nltk.corpus import stopwords, wordnet\n",
    "from nltk.stem import WordNetLemmatizer\n",
    "from nltk import pos_tag\n",
    "\n",
    "#other words that need to be removed in order to avoid pollution on the topic. (experimental findings on news subreddit)\n",
    "aux_stop_words = ['people', 'would', 'like', 'img', 'jpg', 'imgjpg', 'botcontact', 'picthis']\n",
    "\n",
    "en_stop = set(stopwords.words('english')+aux_stop_words)\n",
    "sc = spark.sparkContext\n",
    "sc.broadcast(en_stop)\n",
    "\n",
    "import datetime\n",
    "import re as re\n",
    "\n",
    "from pyspark.ml.feature import CountVectorizer , IDF\n",
    "from pyspark.ml.clustering import LDA"
   ]
  },
  {
   "cell_type": "code",
   "execution_count": null,
   "metadata": {},
   "outputs": [],
   "source": [
    "data_trump = spark.read.load('../data/donald_comments.parquet')"
   ]
  },
  {
   "cell_type": "code",
   "execution_count": null,
   "metadata": {},
   "outputs": [],
   "source": [
    "def text_preprocessing(txt, stop_words, pos_tagging=False, use_lemmatizing=False):\n",
    "    '''\n",
    "    Take care of doing all the text preprocessing for LDA\n",
    "    Only works on english ASCII content. (works on content with accent or such, but filter them out)\n",
    "    '''\n",
    "    def get_wordnet_pos(treebank_tag):\n",
    "        if treebank_tag.startswith('J'):\n",
    "            return wordnet.ADJ\n",
    "        elif treebank_tag.startswith('V'):\n",
    "            return wordnet.VERB\n",
    "        elif treebank_tag.startswith('N'):\n",
    "            return wordnet.NOUN\n",
    "        elif treebank_tag.startswith('R'):\n",
    "            return wordnet.ADV\n",
    "        else:\n",
    "            #this is the default behaviour for lemmatize. \n",
    "            return wordnet.NOUN\n",
    "    \n",
    "    #in the case of r/hillaryclinton, removes an annoying omnipresent bot\n",
    "    if 'reddit-bot' in txt:\n",
    "        return []\n",
    "    \n",
    "    def remove_https(s):\n",
    "        return re.sub(r'https?:\\/\\/.*[\\r\\n]*', '', s, flags=re.UNICODE)\n",
    "    \n",
    "    #keeping only elements relevant to written speech.\n",
    "    def keep_only_letters(s):\n",
    "        return re.sub('[^a-zA-Z \\']+', '', s, flags=re.UNICODE)\n",
    "    \n",
    "    #remove mark of genitif from speech (i.e. \"'s\" associated to nouns)\n",
    "    def remove_genitive(s): \n",
    "        return re.sub('(\\'s)+', '', s, flags=re.UNICODE)\n",
    "    \n",
    "    #to avoid things that should be stop words (the're, I'll, wouldn't) to pollute the topics.\n",
    "    def remove_quote(s):\n",
    "        return s.replace('\\'', ' ')\n",
    "    \n",
    "    def clean_pipeline(s): \n",
    "        return remove_quote(remove_genitive(keep_only_letters(remove_https(s))))\n",
    "    \n",
    "    if pos_tagging:\n",
    "        #cannot use pos tagging without lemmatizing\n",
    "        assert(use_lemmatizing)\n",
    "    \n",
    "    #tokenizing the texts (removing line break, space and capitalization)\n",
    "    token_comm = re.split(\" \", clean_pipeline(txt).strip().lower())\n",
    "    \n",
    "    #to avoid empty token (caused by multiple spaces in the tokenization)\n",
    "    token_comm = [t for t in token_comm if len(t) > 0]\n",
    "    \n",
    "    if pos_tagging:\n",
    "        token_comm = pos_tag(token_comm)\n",
    "    else:\n",
    "        token_comm = zip(token_comm, [None]*len(token_comm))\n",
    "        \n",
    "    #removing all words of three letters or less\n",
    "    bigger_w = [x for x in token_comm if len(x[0]) > 3]\n",
    "\n",
    "    #removing stop_words\n",
    "    wout_sw_w = [x for x in bigger_w if x[0] not in stop_words]\n",
    "    \n",
    "    if pos_tagging and use_lemmatizing:\n",
    "        #get lemma of each word, then return result\n",
    "        return [WordNetLemmatizer().lemmatize(word, get_wordnet_pos(tag)) for word, tag in wout_sw_w]\n",
    "    elif use_lemmatizing:\n",
    "        #get lemma of each word, then return result\n",
    "        return [WordNetLemmatizer().lemmatize(word) for word, _ in wout_sw_w]\n",
    "    else:\n",
    "        return [word for word,_ in wout_sw_w]\n",
    "\n",
    "def perform_lda(documents, n_topics, n_words, alphas, beta, tokens_col):\n",
    "    '''\n",
    "    will perform LDA on a list of documents (== list of token)\n",
    "    assume that documents is a DataFrame with a column of unique id (uid).\n",
    "    \n",
    "    '''\n",
    "    cv = CountVectorizer(inputCol=tokens_col, outputCol=\"raw_features\")\n",
    "    cvmodel = cv.fit(documents)\n",
    "    result_cv = cvmodel.transform(documents)\n",
    "    \n",
    "    #we perform an tf-idf (term frequency inverse document frequency), to avoid threads with a lot of words to pollute the topics.\n",
    "    idf = IDF(inputCol=\"raw_features\", outputCol=\"features\")\n",
    "    idfModel = idf.fit(result_cv)\n",
    "    result_tfidf = idfModel.transform(result_cv) \n",
    "    \n",
    "    corpus = result_tfidf.select(\"uid\", \"features\")\n",
    "    \n",
    "    #defining and running the lda. \n",
    "    lda = LDA(k=n_topics, docConcentration=alphas, topicConcentration=beta)\n",
    "    model = lda.fit(corpus)\n",
    "    \n",
    "    #retrieving topics, and the vocabulary constructed by the CountVectorizer\n",
    "    topics = model.describeTopics(maxTermsPerTopic=n_words)\n",
    "    vocab = cvmodel.vocabulary\n",
    "    \n",
    "    #the topics are just numerical indices, we need to convert them to words, and associate them to their weights..\n",
    "    topics_with_weights = topics.rdd.map(lambda r: (r[0], ([(vocab[t],w) for t,w in zip(r[1], r[2])]), ' '.join([vocab[t] for t in r[1]]))).toDF().selectExpr(\"_1 as topic_number\", \"_2 as topic_weight\", \"_3 as topic\")\n",
    "    \n",
    "    return topics_with_weights\n",
    "\n",
    "def display_topics(topics_n_weight):\n",
    "    tops = topics_n_weight.select('topic').collect()\n",
    "    for i in range(len(tops)):\n",
    "        print(\"T %d: %s\"%(i+1, tops[i][0]))\n",
    "    return tops\n",
    "\n",
    "def lda_preprocess(df, use_lemmatizing=False, use_pos_tagging=False):\n",
    "    data_preprocessed = df.select('body', 'created').rdd.filter(lambda r: len(r[0]) > 50).map(lambda r: (text_preprocessing(r[0], en_stop, pos_tagging=use_pos_tagging, use_lemmatizing=use_lemmatizing), r[1])).filter(lambda r: r[0])\n",
    "    data_uid = data_preprocessed.map(lambda r: r).zipWithUniqueId().map(lambda r: (r[0][0], r[1])).toDF().selectExpr('_1 as text', '_2 as uid')\n",
    "    return data_uid\n",
    "    \n",
    "        \n",
    "def lda_display_and_time(df, n_topics, n_words, beta=0.01, alpha=0.01):\n",
    "    print('On %d comments, using %d topics with %d words, beta value : %.3f, alpha value: %.3f'%(df.count(), n_topics, n_words, beta, alpha))\n",
    "    #print('Starting day : %s Ending day : %s'%(df.agg({\"created\": \"min\"}).collect()[0][0], df.agg({\"created\": \"max\"}).collect()[0][0]))\n",
    "    print('Start time : '+ str(datetime.datetime.now()))\n",
    "    alphas = [alpha]*n_topics\n",
    "    topic_n_weights = perform_lda(df, n_topics, n_words, alphas, beta, 'text')\n",
    "    topics_clean = display_topics(topic_n_weights)\n",
    "    print('End time : \\n'+ str(datetime.datetime.now()))\n",
    "    return spark.createDataFrame(topics_clean, schema = StructType([StructField(\"Topic\", StringType())]))\n",
    "\n",
    "\n",
    "def grid_search(df, n_topics, n_words, betas, alphas):\n",
    "    return [(a, b, lda_display_and_time(df, n_topics, n_words, b, a)) for a in alphas for b in betas]\n",
    "\n",
    "\n",
    "    "
   ]
  },
  {
   "cell_type": "markdown",
   "metadata": {},
   "source": [
    "## Topics on week before the election"
   ]
  },
  {
   "cell_type": "markdown",
   "metadata": {},
   "source": [
    "### Filtering out the less upvoted comments"
   ]
  },
  {
   "cell_type": "code",
   "execution_count": null,
   "metadata": {
    "scrolled": true
   },
   "outputs": [],
   "source": [
    "data_trump_score = data_trump.filter(data_trump.score > 10)\n",
    "data_trump_score.count()"
   ]
  },
  {
   "cell_type": "code",
   "execution_count": null,
   "metadata": {},
   "outputs": [],
   "source": [
    "start_week = datetime.date(year=2016, month=10, day=31)\n",
    "end_week = datetime.date(year=2016, month=11, day=8)\n",
    "trump_week_b4_election = data_trump_score.filter(data_trump_score.created > start_week).filter(data_trump_score.created < end_week)\n",
    "trump_week_b4_election.count()"
   ]
  },
  {
   "cell_type": "markdown",
   "metadata": {},
   "source": [
    "## The week before the election without any subsampling : "
   ]
  },
  {
   "cell_type": "code",
   "execution_count": null,
   "metadata": {},
   "outputs": [],
   "source": [
    "trump_week_b4_election = lda_preprocess(trump_week_b4_election, use_lemmatizing=True, use_pos_tagging=False)\n",
    "trump_week_b4_election.cache()\n",
    "trump_week_b4_election.count()"
   ]
  },
  {
   "cell_type": "code",
   "execution_count": null,
   "metadata": {},
   "outputs": [],
   "source": [
    "\n",
    "trump_week_b4_election.write.mode('overwrite').parquet('../data/trump_lda_prepro.parquet')"
   ]
  },
  {
   "cell_type": "code",
   "execution_count": null,
   "metadata": {},
   "outputs": [],
   "source": [
    "#grid_search(trump_week_b4_election, n_topics=8, n_words=5, betas=[0.01, 0.025, 0.05, 0.075, 0.1], alphas=[0.01, 0.025, 0.05, 0.075, 0.1])\n",
    "trump_lda_res = lda_display_and_time(trump_week_b4_election, n_topics=8, n_words=5, beta=0.1, alpha=0.025)\n",
    "#trump_lda_res.write.mode('overwrite').parquet('../data/trump_lda_result.parquet')\n",
    "trump_lda_res"
   ]
  },
  {
   "cell_type": "code",
   "execution_count": null,
   "metadata": {},
   "outputs": [],
   "source": []
  },
  {
   "cell_type": "markdown",
   "metadata": {},
   "source": [
    "### Hillary Comments"
   ]
  },
  {
   "cell_type": "code",
   "execution_count": null,
   "metadata": {},
   "outputs": [],
   "source": [
    "hillary_data = spark.read.load('../data/hillary_comments.parquet')\n",
    "hillary_election_week = hillary_data.filter(hillary_data.score > 10).filter(hillary_data.created > start_week).filter(hillary_data.created < end_week)"
   ]
  },
  {
   "cell_type": "code",
   "execution_count": null,
   "metadata": {},
   "outputs": [],
   "source": [
    "hillary_election_prepro = lda_preprocess(hillary_election_week, use_lemmatizing=False, use_pos_tagging=False)\n",
    "print hillary_election_prepro.count()\n",
    "hillary_election_prepro.cache()"
   ]
  },
  {
   "cell_type": "code",
   "execution_count": null,
   "metadata": {},
   "outputs": [],
   "source": [
    "\n",
    "hillary_election_prepro.write.mode('overwrite').parquet('../data/hillary_lda_prepro.parquet')"
   ]
  },
  {
   "cell_type": "code",
   "execution_count": null,
   "metadata": {},
   "outputs": [],
   "source": [
    "#grid_search(hillary_election_prepro, 8, 5, betas=[0.01, 0.025, 0.05, 0.075, 0.1], alphas=[0.01, 0.025])\n",
    "hillary_lda_res = lda_display_and_time(hillary_election_prepro, n_topics=8, n_words=5, beta=0.1, alpha=0.025)\n",
    "hillary_lda_res"
   ]
  },
  {
   "cell_type": "code",
   "execution_count": null,
   "metadata": {},
   "outputs": [],
   "source": [
    "hillary_lda_res.write.mode('overwrite').parquet('../data/hillary_lda_result.parquet')"
   ]
  },
  {
   "cell_type": "markdown",
   "metadata": {},
   "source": [
    "### News"
   ]
  },
  {
   "cell_type": "code",
   "execution_count": null,
   "metadata": {},
   "outputs": [],
   "source": [
    "news_data = spark.read.load('../data/news_week_b4_elec.parquet')\n",
    "news_election_week = news_data.filter(news_data.created > start_week).filter(news_data.created < end_week)"
   ]
  },
  {
   "cell_type": "code",
   "execution_count": null,
   "metadata": {},
   "outputs": [],
   "source": [
    "news_election_prepro = lda_preprocess(news_election_week, use_lemmatizing=True, use_pos_tagging=False)\n",
    "print news_election_prepro.count()\n",
    "news_election_prepro.cache()"
   ]
  },
  {
   "cell_type": "code",
   "execution_count": null,
   "metadata": {},
   "outputs": [],
   "source": [
    "election_buzz_words = ['trump', 'donald', 'hillary', 'vote', 'voting', 'election', 'campaign', 'clinton']\n",
    "\n",
    "\n",
    "def election_topic(tokens, buzz_words):\n",
    "    for t in tokens:\n",
    "        if t in buzz_words:\n",
    "            return True\n",
    "    return False\n",
    "\n",
    "\n",
    "news_election_focused = news_election_prepro.rdd.filter(lambda r : election_topic(r[0], election_buzz_words)).toDF()\n",
    "print news_election_focused.count()\n",
    "news_election_focused.cache()\n",
    "news_election_focused.show()"
   ]
  },
  {
   "cell_type": "code",
   "execution_count": null,
   "metadata": {},
   "outputs": [],
   "source": [
    "news_election_prepro_sample = news_election_prepro.sample(False, 0.1, 4544)\n",
    "print news_election_prepro_sample.count()\n",
    "news_election_prepro_sample.cache()"
   ]
  },
  {
   "cell_type": "code",
   "execution_count": null,
   "metadata": {},
   "outputs": [],
   "source": [
    "news_lda_res_sample = lda_display_and_time(news_election_prepro_sample, n_topics=8, n_words=5, beta=0.1, alpha=0.025)\n",
    "news_lda_res_sample.write.mode('overwrite').parquet('../data/news_sample_lda_result.parquet')"
   ]
  },
  {
   "cell_type": "code",
   "execution_count": null,
   "metadata": {},
   "outputs": [],
   "source": [
    "news_focused_lda_res = lda_display_and_time(news_election_focused, n_topics=8, n_words=5, beta=0.1, alpha=0.025)\n",
    "news_focused_lda_res.write.mode('overwrite').parquet('../data/news_focused_lda_result.parquet')"
   ]
  },
  {
   "cell_type": "code",
   "execution_count": null,
   "metadata": {},
   "outputs": [],
   "source": [
    "news_election_prepro_score = lda_preprocess(news_election_week.filter(news_election_week.score >10), use_lemmatizing=True, use_pos_tagging=False)\n",
    "print news_election_prepro_score.count()\n",
    "news_election_prepro_score.cache()"
   ]
  },
  {
   "cell_type": "code",
   "execution_count": null,
   "metadata": {},
   "outputs": [],
   "source": [
    "news_score_lda_res = lda_display_and_time(news_election_prepro_score, n_topics=8, n_words=5, beta=0.1, alpha=0.025)\n",
    "news_score_lda_res.write.mode('overwrite').parquet('../data/news_score_lda_result.parquet')"
   ]
  }
 ],
 "metadata": {
  "kernelspec": {
   "display_name": "Python 2",
   "language": "python",
   "name": "python2"
  },
  "language_info": {
   "codemirror_mode": {
    "name": "ipython",
    "version": 2
   },
   "file_extension": ".py",
   "mimetype": "text/x-python",
   "name": "python",
   "nbconvert_exporter": "python",
   "pygments_lexer": "ipython2",
   "version": "2.7.14"
  }
 },
 "nbformat": 4,
 "nbformat_minor": 2
}
