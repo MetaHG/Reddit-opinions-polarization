{
 "cells": [
  {
   "cell_type": "code",
   "execution_count": 1,
   "metadata": {},
   "outputs": [],
   "source": [
    "import pandas as pd\n",
    "import numpy as np\n",
    "import scipy as sp\n",
    "import seaborn as sns\n",
    "import matplotlib\n",
    "import matplotlib.pyplot as plt\n",
    "%matplotlib inline\n",
    "\n",
    "import findspark\n",
    "findspark.init()\n",
    "\n",
    "import pyspark\n",
    "from pyspark.sql import *\n",
    "import pyspark.sql.functions as func\n",
    "from pyspark.sql.types import *\n",
    "\n",
    "# Language processing\n",
    "import nltk\n",
    "from nltk.sentiment.vader import SentimentIntensityAnalyzer\n",
    "from nltk.stem.snowball import SnowballStemmer\n",
    "from nltk.corpus import stopwords\n",
    "from nltk.stem import WordNetLemmatizer\n",
    "from nltk.tokenize import TweetTokenizer\n",
    "\n",
    "# Language processing with TextBlob\n",
    "from textblob import TextBlob\n",
    "from textblob.sentiments import NaiveBayesAnalyzer\n",
    "\n",
    "from collections import Counter"
   ]
  },
  {
   "cell_type": "code",
   "execution_count": 2,
   "metadata": {},
   "outputs": [],
   "source": [
    "# Create spark session\n",
    "spark = SparkSession.builder.getOrCreate()\n",
    "sc = spark.sparkContext"
   ]
  },
  {
   "cell_type": "markdown",
   "metadata": {},
   "source": [
    "# Average over first 8 day of January 2017"
   ]
  },
  {
   "cell_type": "code",
   "execution_count": 3,
   "metadata": {},
   "outputs": [],
   "source": [
    "nlp_metrics = spark.read.load('../data/daily_2017_01_nlp_metrics.parquet/')"
   ]
  },
  {
   "cell_type": "code",
   "execution_count": 20,
   "metadata": {},
   "outputs": [
    {
     "data": {
      "text/plain": [
       "Row(creation_date=datetime.date(2017, 1, 1), nltk_negativity_60d_avg=180013.25666697026, nltk_neutrality_60d_avg=1776462.7587395571, nltk_positivity_60d_avg=324456.70514096733, text_blob_polarity_60d_avg=20857.047301106853, text_blob_subjectivity_60d_avg=83736.125, nb_bw_matches_60d_avg=217541.375, nb_hw_matches_60d_avg=39619.375, hw_ref_intensity_60d_avg=3832.16623198241, nb_hw_ref_matches_60d_avg=6217.75)"
      ]
     },
     "execution_count": 20,
     "metadata": {},
     "output_type": "execute_result"
    }
   ],
   "source": [
    "rows = nlp_metrics.collect()\n",
    "row = rows[0]\n",
    "row"
   ]
  },
  {
   "cell_type": "code",
   "execution_count": 24,
   "metadata": {},
   "outputs": [],
   "source": [
    "nltk_neg_8_avg = row[1]\n",
    "nltk_neu_8_avg = row[2]\n",
    "nltk_pos_8_avg = row[3]\n",
    "nltk_total = row[1] + row[2] + row[3]\n",
    "blob_pol_8_avg = row[4]\n",
    "blob_subj_8_avg = row[5]\n",
    "bw_matches_8_avg = row[6]\n",
    "hw_matches_8_avg = row[7]\n",
    "hw_ref_matches_8_avg = row[8]"
   ]
  },
  {
   "cell_type": "code",
   "execution_count": 23,
   "metadata": {},
   "outputs": [
    {
     "name": "stdout",
     "output_type": "stream",
     "text": [
      "Over 8 day, the average negativity is 180013.25666697026, neutrality is 1776462.7587395571, positivity is 324456.70514096733\n"
     ]
    }
   ],
   "source": [
    "print('Over 8 day, the average negativity is {}, neutrality is {}, positivity is {}'.format(row[1], row[2], row[3]))"
   ]
  },
  {
   "cell_type": "code",
   "execution_count": 25,
   "metadata": {},
   "outputs": [
    {
     "name": "stdout",
     "output_type": "stream",
     "text": [
      "Over 8 day, the proportion of negativity is 0.07892089715989585, neutrality is 0.778831722100576, positivity is 0.1422473807395282\n"
     ]
    }
   ],
   "source": [
    "print('Over 8 day, the proportion of negativity is {}, neutrality is {}, positivity is {}'.format(row[1]/nltk_total, row[2]/nltk_total, row[3]/nltk_total))"
   ]
  },
  {
   "cell_type": "markdown",
   "metadata": {},
   "source": [
    "Therefore, we notice that positivity in posts is two times more present that negativity."
   ]
  },
  {
   "cell_type": "markdown",
   "metadata": {},
   "source": [
    "# First 5 days of January 2017"
   ]
  },
  {
   "cell_type": "code",
   "execution_count": 26,
   "metadata": {},
   "outputs": [],
   "source": [
    "nlp_metrics_full = spark.read.load('../data/daily_nlp_metrics_full.parquet/')"
   ]
  },
  {
   "cell_type": "code",
   "execution_count": 27,
   "metadata": {},
   "outputs": [
    {
     "name": "stdout",
     "output_type": "stream",
     "text": [
      "+-------+-------------+--------------------+---------------+---------------+---------------+------------------+----------------------+-------------+-------------+----------------+-----------------+\n",
      "|     id|creation_date|                body|nltk_negativity|nltk_neutrality|nltk_positivity|text_blob_polarity|text_blob_subjectivity|nb_bw_matches|nb_hw_matches|hw_ref_intensity|nb_hw_ref_matches|\n",
      "+-------+-------------+--------------------+---------------+---------------+---------------+------------------+----------------------+-------------+-------------+----------------+-----------------+\n",
      "|dby6jwk|   2017-01-03|GoW 4 was release...|            0.0|            1.0|            0.0|               0.0|                   0.0|          0.0|          0.0|             0.0|              0.0|\n",
      "|dby6jwl|   2017-01-03|Firmino really do...|            0.0|            1.0|            0.0|               0.0|                   0.0|          0.0|          0.0|             0.0|              0.0|\n",
      "|dby6jwm|   2017-01-03|Wheaton is a hand...|          0.099|          0.832|          0.068|               0.0|                   0.0|          1.0|          0.0|             0.0|              0.0|\n",
      "|dby6jwn|   2017-01-03|I just saw someon...|            0.0|            1.0|            0.0|               0.0|                   0.0|          0.0|          0.0|             0.0|              0.0|\n",
      "|dby6jwo|   2017-01-03|                  35|            0.0|            1.0|            0.0|               0.0|                   0.0|          0.0|          0.0|             0.0|              0.0|\n",
      "|dby6jwp|   2017-01-03|I'm an only child...|            0.0|          0.904|          0.096|               0.0|                   0.0|          0.0|          0.0|             0.0|              0.0|\n",
      "|dby6jwq|   2017-01-03|they got taken aw...|          0.157|          0.714|          0.129|               0.0|                   0.0|          1.0|          0.0|             0.0|              0.0|\n",
      "|dby6jwr|   2017-01-03|#**CALLING OUT TH...|            0.0|            1.0|            0.0|               0.0|                   0.0|          0.0|          0.0|             0.0|              0.0|\n",
      "|dby6jws|   2017-01-03|               Yes. |            0.0|            0.0|            1.0|               0.0|                   0.0|          0.0|          0.0|             0.0|              0.0|\n",
      "|dby6jwt|   2017-01-03|They don't accept...|          0.233|          0.767|            0.0|               0.0|                   0.0|          0.0|          0.0|             0.0|              0.0|\n",
      "|dby6jwu|   2017-01-03|I've heard emacs ...|            0.0|          0.673|          0.327|               0.0|                   0.0|          0.0|          0.0|             0.0|              0.0|\n",
      "|dby6jwv|   2017-01-03|In NYC you're alm...|            0.0|           0.93|           0.07|               0.0|                   0.0|          0.0|          0.0|             0.0|              0.0|\n",
      "|dby6jww|   2017-01-03|thats the problem...|          0.093|          0.777|          0.131|               0.0|                   0.0|          0.0|          0.0|             0.0|              0.0|\n",
      "|dby6jwx|   2017-01-03|also his demon fo...|            0.0|            1.0|            0.0|               0.0|                   0.0|          0.0|          0.0|             0.0|              0.0|\n",
      "|dby6jwy|   2017-01-03|I don't think he ...|            0.0|            1.0|            0.0|               0.0|                   0.0|          0.0|          0.0|             0.0|              0.0|\n",
      "|dby6jwz|   2017-01-03|Welp, that's enou...|           0.22|           0.78|            0.0|               0.0|                   0.0|          0.0|          0.0|             0.0|              0.0|\n",
      "|dby6jx0|   2017-01-03|Guess I went a bi...|            0.0|          0.746|          0.254|               0.0|                   0.0|          0.0|          0.0|             0.0|              0.0|\n",
      "|dby6jx1|   2017-01-03|So just because w...|          0.189|          0.811|            0.0|               0.0|                   0.0|          0.0|          0.0|             0.0|              0.0|\n",
      "|dby6jx2|   2017-01-03|Int Demi god firs...|            0.0|          0.935|          0.065|               0.0|                   0.0|          0.0|          0.0|             0.0|              0.0|\n",
      "|dby6jx3|   2017-01-03|Good to know, tha...|            0.0|          0.345|          0.655|               0.0|                   0.0|          0.0|          0.0|             0.0|              0.0|\n",
      "+-------+-------------+--------------------+---------------+---------------+---------------+------------------+----------------------+-------------+-------------+----------------+-----------------+\n",
      "only showing top 20 rows\n",
      "\n"
     ]
    }
   ],
   "source": [
    "nlp_metrics_full.show()"
   ]
  },
  {
   "cell_type": "code",
   "execution_count": 37,
   "metadata": {},
   "outputs": [],
   "source": [
    "nlp_per_day = nlp_metrics_full.withColumn('dummy', func.lit(1)).groupBy('creation_date').sum()"
   ]
  },
  {
   "cell_type": "code",
   "execution_count": 40,
   "metadata": {},
   "outputs": [],
   "source": [
    "pd_per_day = nlp_per_day.toPandas()"
   ]
  },
  {
   "cell_type": "code",
   "execution_count": 41,
   "metadata": {
    "scrolled": false
   },
   "outputs": [
    {
     "data": {
      "text/html": [
       "<div>\n",
       "<style scoped>\n",
       "    .dataframe tbody tr th:only-of-type {\n",
       "        vertical-align: middle;\n",
       "    }\n",
       "\n",
       "    .dataframe tbody tr th {\n",
       "        vertical-align: top;\n",
       "    }\n",
       "\n",
       "    .dataframe thead th {\n",
       "        text-align: right;\n",
       "    }\n",
       "</style>\n",
       "<table border=\"1\" class=\"dataframe\">\n",
       "  <thead>\n",
       "    <tr style=\"text-align: right;\">\n",
       "      <th></th>\n",
       "      <th>creation_date</th>\n",
       "      <th>sum(nltk_negativity)</th>\n",
       "      <th>sum(nltk_neutrality)</th>\n",
       "      <th>sum(nltk_positivity)</th>\n",
       "      <th>sum(text_blob_polarity)</th>\n",
       "      <th>sum(text_blob_subjectivity)</th>\n",
       "      <th>sum(nb_bw_matches)</th>\n",
       "      <th>sum(nb_hw_matches)</th>\n",
       "      <th>sum(hw_ref_intensity)</th>\n",
       "      <th>sum(nb_hw_ref_matches)</th>\n",
       "      <th>sum(dummy)</th>\n",
       "    </tr>\n",
       "  </thead>\n",
       "  <tbody>\n",
       "    <tr>\n",
       "      <th>0</th>\n",
       "      <td>2017-01-04</td>\n",
       "      <td>188601.709181</td>\n",
       "      <td>1.917216e+06</td>\n",
       "      <td>344668.157413</td>\n",
       "      <td>22675.253298</td>\n",
       "      <td>91393.0</td>\n",
       "      <td>228173.0</td>\n",
       "      <td>42919.0</td>\n",
       "      <td>3488.480983</td>\n",
       "      <td>5625.0</td>\n",
       "      <td>2454012</td>\n",
       "    </tr>\n",
       "    <tr>\n",
       "      <th>1</th>\n",
       "      <td>2017-01-05</td>\n",
       "      <td>199845.992185</td>\n",
       "      <td>1.950554e+06</td>\n",
       "      <td>349086.348415</td>\n",
       "      <td>23150.745999</td>\n",
       "      <td>92283.0</td>\n",
       "      <td>243531.0</td>\n",
       "      <td>45370.0</td>\n",
       "      <td>6396.886955</td>\n",
       "      <td>10575.0</td>\n",
       "      <td>2503011</td>\n",
       "    </tr>\n",
       "    <tr>\n",
       "      <th>2</th>\n",
       "      <td>2017-01-01</td>\n",
       "      <td>152172.005136</td>\n",
       "      <td>1.448465e+06</td>\n",
       "      <td>276893.661343</td>\n",
       "      <td>16782.196386</td>\n",
       "      <td>67774.0</td>\n",
       "      <td>177666.0</td>\n",
       "      <td>30003.0</td>\n",
       "      <td>2423.016994</td>\n",
       "      <td>3938.0</td>\n",
       "      <td>1881201</td>\n",
       "    </tr>\n",
       "    <tr>\n",
       "      <th>3</th>\n",
       "      <td>2017-01-02</td>\n",
       "      <td>169650.015161</td>\n",
       "      <td>1.680213e+06</td>\n",
       "      <td>308789.881374</td>\n",
       "      <td>19915.737242</td>\n",
       "      <td>79217.0</td>\n",
       "      <td>204315.0</td>\n",
       "      <td>37675.0</td>\n",
       "      <td>3248.180991</td>\n",
       "      <td>5217.0</td>\n",
       "      <td>2162208</td>\n",
       "    </tr>\n",
       "    <tr>\n",
       "      <th>4</th>\n",
       "      <td>2017-01-03</td>\n",
       "      <td>186446.544172</td>\n",
       "      <td>1.887507e+06</td>\n",
       "      <td>342307.846394</td>\n",
       "      <td>21948.237553</td>\n",
       "      <td>89255.0</td>\n",
       "      <td>223111.0</td>\n",
       "      <td>41885.0</td>\n",
       "      <td>3765.949985</td>\n",
       "      <td>5986.0</td>\n",
       "      <td>2419728</td>\n",
       "    </tr>\n",
       "  </tbody>\n",
       "</table>\n",
       "</div>"
      ],
      "text/plain": [
       "  creation_date  sum(nltk_negativity)  sum(nltk_neutrality)  \\\n",
       "0    2017-01-04         188601.709181          1.917216e+06   \n",
       "1    2017-01-05         199845.992185          1.950554e+06   \n",
       "2    2017-01-01         152172.005136          1.448465e+06   \n",
       "3    2017-01-02         169650.015161          1.680213e+06   \n",
       "4    2017-01-03         186446.544172          1.887507e+06   \n",
       "\n",
       "   sum(nltk_positivity)  sum(text_blob_polarity)  sum(text_blob_subjectivity)  \\\n",
       "0         344668.157413             22675.253298                      91393.0   \n",
       "1         349086.348415             23150.745999                      92283.0   \n",
       "2         276893.661343             16782.196386                      67774.0   \n",
       "3         308789.881374             19915.737242                      79217.0   \n",
       "4         342307.846394             21948.237553                      89255.0   \n",
       "\n",
       "   sum(nb_bw_matches)  sum(nb_hw_matches)  sum(hw_ref_intensity)  \\\n",
       "0            228173.0             42919.0            3488.480983   \n",
       "1            243531.0             45370.0            6396.886955   \n",
       "2            177666.0             30003.0            2423.016994   \n",
       "3            204315.0             37675.0            3248.180991   \n",
       "4            223111.0             41885.0            3765.949985   \n",
       "\n",
       "   sum(nb_hw_ref_matches)  sum(dummy)  \n",
       "0                  5625.0     2454012  \n",
       "1                 10575.0     2503011  \n",
       "2                  3938.0     1881201  \n",
       "3                  5217.0     2162208  \n",
       "4                  5986.0     2419728  "
      ]
     },
     "execution_count": 41,
     "metadata": {},
     "output_type": "execute_result"
    }
   ],
   "source": [
    "pd_per_day"
   ]
  },
  {
   "cell_type": "code",
   "execution_count": 51,
   "metadata": {},
   "outputs": [
    {
     "data": {
      "text/plain": [
       "creation_date                   object\n",
       "sum(nltk_negativity)           float64\n",
       "sum(nltk_neutrality)           float64\n",
       "sum(nltk_positivity)           float64\n",
       "sum(text_blob_polarity)        float64\n",
       "sum(text_blob_subjectivity)    float64\n",
       "sum(nb_bw_matches)             float64\n",
       "sum(nb_hw_matches)             float64\n",
       "sum(hw_ref_intensity)          float64\n",
       "sum(nb_hw_ref_matches)         float64\n",
       "sum(dummy)                       int64\n",
       "dtype: object"
      ]
     },
     "execution_count": 51,
     "metadata": {},
     "output_type": "execute_result"
    }
   ],
   "source": [
    "pd_per_day.dtypes"
   ]
  },
  {
   "cell_type": "code",
   "execution_count": 52,
   "metadata": {},
   "outputs": [],
   "source": [
    "pd_percentage = pd_per_day.iloc[:, 1:-1].div(pd_per_day.iloc[:, -1], axis=0)"
   ]
  },
  {
   "cell_type": "code",
   "execution_count": 53,
   "metadata": {},
   "outputs": [
    {
     "data": {
      "text/html": [
       "<div>\n",
       "<style scoped>\n",
       "    .dataframe tbody tr th:only-of-type {\n",
       "        vertical-align: middle;\n",
       "    }\n",
       "\n",
       "    .dataframe tbody tr th {\n",
       "        vertical-align: top;\n",
       "    }\n",
       "\n",
       "    .dataframe thead th {\n",
       "        text-align: right;\n",
       "    }\n",
       "</style>\n",
       "<table border=\"1\" class=\"dataframe\">\n",
       "  <thead>\n",
       "    <tr style=\"text-align: right;\">\n",
       "      <th></th>\n",
       "      <th>sum(nltk_negativity)</th>\n",
       "      <th>sum(nltk_neutrality)</th>\n",
       "      <th>sum(nltk_positivity)</th>\n",
       "      <th>sum(text_blob_polarity)</th>\n",
       "      <th>sum(text_blob_subjectivity)</th>\n",
       "      <th>sum(nb_bw_matches)</th>\n",
       "      <th>sum(nb_hw_matches)</th>\n",
       "      <th>sum(hw_ref_intensity)</th>\n",
       "      <th>sum(nb_hw_ref_matches)</th>\n",
       "    </tr>\n",
       "  </thead>\n",
       "  <tbody>\n",
       "    <tr>\n",
       "      <th>0</th>\n",
       "      <td>0.076854</td>\n",
       "      <td>0.781258</td>\n",
       "      <td>0.140451</td>\n",
       "      <td>0.009240</td>\n",
       "      <td>0.037242</td>\n",
       "      <td>0.092980</td>\n",
       "      <td>0.017489</td>\n",
       "      <td>0.001422</td>\n",
       "      <td>0.002292</td>\n",
       "    </tr>\n",
       "    <tr>\n",
       "      <th>1</th>\n",
       "      <td>0.079842</td>\n",
       "      <td>0.779283</td>\n",
       "      <td>0.139467</td>\n",
       "      <td>0.009249</td>\n",
       "      <td>0.036869</td>\n",
       "      <td>0.097295</td>\n",
       "      <td>0.018126</td>\n",
       "      <td>0.002556</td>\n",
       "      <td>0.004225</td>\n",
       "    </tr>\n",
       "    <tr>\n",
       "      <th>2</th>\n",
       "      <td>0.080891</td>\n",
       "      <td>0.769968</td>\n",
       "      <td>0.147190</td>\n",
       "      <td>0.008921</td>\n",
       "      <td>0.036027</td>\n",
       "      <td>0.094443</td>\n",
       "      <td>0.015949</td>\n",
       "      <td>0.001288</td>\n",
       "      <td>0.002093</td>\n",
       "    </tr>\n",
       "    <tr>\n",
       "      <th>3</th>\n",
       "      <td>0.078461</td>\n",
       "      <td>0.777082</td>\n",
       "      <td>0.142812</td>\n",
       "      <td>0.009211</td>\n",
       "      <td>0.036637</td>\n",
       "      <td>0.094494</td>\n",
       "      <td>0.017424</td>\n",
       "      <td>0.001502</td>\n",
       "      <td>0.002413</td>\n",
       "    </tr>\n",
       "    <tr>\n",
       "      <th>4</th>\n",
       "      <td>0.077053</td>\n",
       "      <td>0.780049</td>\n",
       "      <td>0.141465</td>\n",
       "      <td>0.009071</td>\n",
       "      <td>0.036886</td>\n",
       "      <td>0.092205</td>\n",
       "      <td>0.017310</td>\n",
       "      <td>0.001556</td>\n",
       "      <td>0.002474</td>\n",
       "    </tr>\n",
       "  </tbody>\n",
       "</table>\n",
       "</div>"
      ],
      "text/plain": [
       "   sum(nltk_negativity)  sum(nltk_neutrality)  sum(nltk_positivity)  \\\n",
       "0              0.076854              0.781258              0.140451   \n",
       "1              0.079842              0.779283              0.139467   \n",
       "2              0.080891              0.769968              0.147190   \n",
       "3              0.078461              0.777082              0.142812   \n",
       "4              0.077053              0.780049              0.141465   \n",
       "\n",
       "   sum(text_blob_polarity)  sum(text_blob_subjectivity)  sum(nb_bw_matches)  \\\n",
       "0                 0.009240                     0.037242            0.092980   \n",
       "1                 0.009249                     0.036869            0.097295   \n",
       "2                 0.008921                     0.036027            0.094443   \n",
       "3                 0.009211                     0.036637            0.094494   \n",
       "4                 0.009071                     0.036886            0.092205   \n",
       "\n",
       "   sum(nb_hw_matches)  sum(hw_ref_intensity)  sum(nb_hw_ref_matches)  \n",
       "0            0.017489               0.001422                0.002292  \n",
       "1            0.018126               0.002556                0.004225  \n",
       "2            0.015949               0.001288                0.002093  \n",
       "3            0.017424               0.001502                0.002413  \n",
       "4            0.017310               0.001556                0.002474  "
      ]
     },
     "execution_count": 53,
     "metadata": {},
     "output_type": "execute_result"
    }
   ],
   "source": [
    "pd_percentage"
   ]
  },
  {
   "cell_type": "code",
   "execution_count": null,
   "metadata": {},
   "outputs": [],
   "source": []
  }
 ],
 "metadata": {
  "kernelspec": {
   "display_name": "Python [conda env:ada]",
   "language": "python",
   "name": "conda-env-ada-py"
  },
  "language_info": {
   "codemirror_mode": {
    "name": "ipython",
    "version": 3
   },
   "file_extension": ".py",
   "mimetype": "text/x-python",
   "name": "python",
   "nbconvert_exporter": "python",
   "pygments_lexer": "ipython3",
   "version": "3.6.6"
  }
 },
 "nbformat": 4,
 "nbformat_minor": 2
}
